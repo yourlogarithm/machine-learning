{
 "cells": [
  {
   "cell_type": "code",
   "execution_count": 1,
   "metadata": {},
   "outputs": [],
   "source": [
    "import matplotlib.pyplot as plt\n",
    "import numpy as np\n",
    "\n",
    "from tqdm.auto import tqdm, trange"
   ]
  },
  {
   "cell_type": "code",
   "execution_count": 2,
   "metadata": {},
   "outputs": [],
   "source": [
    "plt.rcParams['figure.figsize'] = (16, 9)"
   ]
  },
  {
   "cell_type": "markdown",
   "metadata": {},
   "source": [
    "# Reinforcement Learning summary:\n",
    "Difference  to  supervised  learning\n",
    " \n",
    " • Time!\n",
    " \n",
    " • Feedback  is  given   as  a   scalar  reward, not as  the\n",
    "correct action   to  make.\n",
    " \n",
    " • Feedback  is  usually not immediate   but is  given   after\n",
    "many    actons  –   delayed feedback!\n",
    "\n",
    "### Goal of RL\n",
    "\n",
    " • The   goal    in  reinforcement   learning    is  to  find\n",
    "an  optimal  policy, i.e.,   state-action pairs   that\n",
    "maximize    the reward.\n",
    "\n",
    " • To    do  this,   we  have    to  solve   the following\n",
    "problems:\n",
    "\n",
    "1. How  to  evaluate    how good    a   policy  is?\n",
    "\n",
    "2. Which    policies    should  we  explore?\n",
    "\n",
    "### How good a policy is:\n",
    "Value function (V)\n",
    "\n",
    "A   function V(s)    of  the state   that    tells   us  the value   of  being\n",
    "in  the state   given   a   policy() i.e., the expected    amount\n",
    "of  reward  we  get from    this    state   by  following   the policy)\n",
    "\n",
    "   *  The value functon tells us how good a   policy  is. The\n",
    "optimal  policy  has maximum V(s) for all states.\n",
    "   *  When we start   learning we explore different   policies\n",
    "and we have to learn    V(s)    for each    policy  as  it  is  unknown\n",
    "before we   start   exploring   the environment."
   ]
  },
  {
   "cell_type": "code",
   "execution_count": 3,
   "metadata": {},
   "outputs": [],
   "source": [
    "import data.GeneticAlgo.qlearning as qlearning\n",
    "from data.GeneticAlgo.qlearning import show_path, show_qmat\n",
    "from data.GeneticAlgo.qlearning import LakeWorld, WindyLakeWorld, ZigZagWorld, Wormhole, FromLikePub, TempleRun, TheCake, TheMaze"
   ]
  },
  {
   "cell_type": "code",
   "execution_count": 4,
   "metadata": {},
   "outputs": [
    {
     "name": "stdout",
     "output_type": "stream",
     "text": [
      "[10 15]\n"
     ]
    }
   ],
   "source": [
    "w = LakeWorld()\n",
    "print(w.size)\n",
    "\n",
    "# Maps an immediate reward/cost for every position-action pair\n",
    "Q = np.zeros(tuple(w.size) + (len(w.actions), ))\n",
    "Q[:, 0, 0] = Q[:, -1, 1] = Q[-1, :, 2] = Q[0, :, 3] = -np.inf\n",
    "\n",
    "V = np.max(Q, axis=-1)"
   ]
  },
  {
   "cell_type": "code",
   "execution_count": 5,
   "metadata": {},
   "outputs": [
    {
     "data": {
      "image/png": "[encoded data removed]",
      "text/plain": [
       "<Figure size 1152x648 with 2 Axes>"
      ]
     },
     "metadata": {
      "needs_background": "light"
     },
     "output_type": "display_data"
    }
   ],
   "source": [
    "show_qmat(Q, world=w)"
   ]
  },
  {
   "cell_type": "markdown",
   "metadata": {},
   "source": [
    "# Hyperparameters\n",
    "\n",
    "alpha (0<α<1):\n",
    "The    learning    rate.    A    value    close    to    0    puts    more    emphasis    on    already    learned   experience and    a    value    close    to    1    will    overwrite    previous    experience    with    new    information.    Good    value    to    start    with:    0.1-0.5\n",
    "\n",
    "gamma (0<γ<1):\n",
    "    The    discount    factor.    A    value    close    to    0    will    seek    to    maximize    short-term    rewards whereas    a    value    close    to    1    will    focus    the    learning    on    long    term    rewards.    Good    value    to    start    with:    around    0.9\n",
    "\n",
    "epsilon (0<ε<1):\n",
    "    Exploration    factor    –    the    probability    of    choosing    a    random    action.    A    value    close    to 1 will    make    the    learning    focus    on    exploration    and    a    value    close    to    0    will    make    the system    take    actions    based    on    already    learned    experience.    Explore    a    lot    in    the    beginning (large    ε) and    focus    the    search    more    around    the    good    policies    towards    the    end    (small    ε)."
   ]
  },
  {
   "cell_type": "markdown",
   "metadata": {},
   "source": [
    "$Q(S_k, A_j) = (1-\\alpha) * Q(S_k, A_j) + \\alpha * (reward + \\gamma * V(S_{k+1}))$\n",
    "\n",
    "$V(S_k) = \\max\\limits_{A}{Q(S_k, A)}$"
   ]
  },
  {
   "cell_type": "code",
   "execution_count": 6,
   "metadata": {},
   "outputs": [],
   "source": [
    "def train_episode(world, q_mat, alpha, epsilon, gamma):\n",
    "    reply = {\"is_terminal\": False}\n",
    "    while not reply[\"is_terminal\"]:\n",
    "        start_state = world.current_state\n",
    "\n",
    "        actions = world.get_legal_actions()\n",
    "        if np.random.uniform() >= epsilon:\n",
    "            m = q_mat[start_state][actions].max()\n",
    "            actions = [a for a in actions if q_mat[start_state][a] == m]\n",
    "        \n",
    "        d = np.random.choice(actions)\n",
    "        reply = world.perform_action(d)\n",
    "        if not reply[\"is_valid\"]:\n",
    "            raise Exception(f\"Invalid: {world.current_state} + {d}\")\n",
    "\n",
    "        reward = reply[\"reward\"]\n",
    "        q_mat[(*start_state, d)] *= (1 - alpha)\n",
    "        q_mat[(*start_state, d)] += alpha * (reward + gamma * q_mat[world.current_state].max())\n",
    "\n",
    "    return q_mat"
   ]
  },
  {
   "cell_type": "raw",
   "metadata": {},
   "source": [
    "LakeWorld, ZigZagWorld, WindyLakeWorld, FromLikePub, TempleRun, Wormhole, TheCake"
   ]
  },
  {
   "cell_type": "code",
   "execution_count": 7,
   "metadata": {},
   "outputs": [
    {
     "name": "stdout",
     "output_type": "stream",
     "text": [
      "[10 15]\n"
     ]
    }
   ],
   "source": [
    "from importlib import reload\n",
    "reload(qlearning)\n",
    "\n",
    "w = LakeWorld() \n",
    "print(w.size)\n",
    "\n",
    "# Maps an immediate reward/cost for every position-action pair\n",
    "Q = np.zeros(tuple(w.size) + (len(w.actions), ))\n",
    "Q[:, 0, 0] = Q[:, -1, 1] = Q[-1, :, 2] = Q[0, :, 3] = -np.inf\n",
    "\n",
    "V = np.max(Q, axis=-1)"
   ]
  },
  {
   "cell_type": "code",
   "execution_count": 8,
   "metadata": {
    "scrolled": true
   },
   "outputs": [
    {
     "data": {
      "application/vnd.jupyter.widget-view+json": {
       "model_id": "21cf2e1c076542fabad86a084125a10b",
       "version_major": 2,
       "version_minor": 0
      },
      "text/plain": [
       "  0%|          | 0/10000 [00:00<?, ?it/s]"
      ]
     },
     "metadata": {},
     "output_type": "display_data"
    }
   ],
   "source": [
    "epochs = 10000\n",
    "for i in trange(epochs, ascii=True):\n",
    "    Q = train_episode(w, Q, .5, 1-(i/epochs), .1)"
   ]
  },
  {
   "cell_type": "code",
   "execution_count": 9,
   "metadata": {},
   "outputs": [
    {
     "data": {
      "image/png": "[encoded data removed]",
      "text/plain": [
       "<Figure size 1152x648 with 2 Axes>"
      ]
     },
     "metadata": {
      "needs_background": "light"
     },
     "output_type": "display_data"
    },
    {
     "data": {
      "text/plain": [
       "<matplotlib.colorbar.Colorbar at 0x11929e160>"
      ]
     },
     "execution_count": 9,
     "metadata": {},
     "output_type": "execute_result"
    },
    {
     "data": {
      "image/png": "[encoded data removed]",
      "text/plain": [
       "<Figure size 1152x648 with 2 Axes>"
      ]
     },
     "metadata": {
      "needs_background": "light"
     },
     "output_type": "display_data"
    }
   ],
   "source": [
    "show_qmat(Q, world=w)\n",
    "plt.show()\n",
    "plt.imshow(Q.max(axis=-1), origin='lower')\n",
    "plt.colorbar()"
   ]
  },
  {
   "cell_type": "code",
   "execution_count": 10,
   "metadata": {
    "scrolled": false
   },
   "outputs": [
    {
     "data": {
      "image/png": "[encoded data removed]",
      "text/plain": [
       "<Figure size 720x360 with 2 Axes>"
      ]
     },
     "metadata": {
      "needs_background": "light"
     },
     "output_type": "display_data"
    },
    {
     "data": {
      "image/png": "[encoded data removed]",
      "text/plain": [
       "<Figure size 720x360 with 2 Axes>"
      ]
     },
     "metadata": {
      "needs_background": "light"
     },
     "output_type": "display_data"
    },
    {
     "data": {
      "image/png": "[encoded data removed]",
      "text/plain": [
       "<Figure size 720x360 with 2 Axes>"
      ]
     },
     "metadata": {
      "needs_background": "light"
     },
     "output_type": "display_data"
    },
    {
     "data": {
      "image/png": "[encoded data removed]",
      "text/plain": [
       "<Figure size 720x360 with 2 Axes>"
      ]
     },
     "metadata": {
      "needs_background": "light"
     },
     "output_type": "display_data"
    }
   ],
   "source": [
    "for _ in range(4):\n",
    "    w.reset()\n",
    "    path, cost = w.run(Q)\n",
    "    plt.figure(figsize=(10, 5))\n",
    "    show_path(path, world=w)\n",
    "    plt.title(f'Cost {cost}')\n",
    "    plt.show()"
   ]
  },
  {
   "cell_type": "code",
   "execution_count": 11,
   "metadata": {},
   "outputs": [
    {
     "data": {
      "image/png": "[encoded data removed]",
      "text/plain": [
       "<Figure size 1152x648 with 2 Axes>"
      ]
     },
     "metadata": {
      "needs_background": "light"
     },
     "output_type": "display_data"
    }
   ],
   "source": [
    "costs = w.evaluate(Q)\n",
    "plt.imshow(costs, origin='lower')\n",
    "plt.colorbar()\n",
    "plt.show()"
   ]
  }
 ],
 "metadata": {
  "interpreter": {
   "hash": "19217652c784c0eb9511f8f5b096e4f8c7203998629d570e7b12322847e1aa51"
  },
  "kernelspec": {
   "display_name": "Python 3.8.13 ('ml')",
   "language": "python",
   "name": "python3"
  },
  "language_info": {
   "codemirror_mode": {
    "name": "ipython",
    "version": 3
   },
   "file_extension": ".py",
   "mimetype": "text/x-python",
   "name": "python",
   "nbconvert_exporter": "python",
   "pygments_lexer": "ipython3",
   "version": "3.8.13"
  },
  "widgets": {
   "application/vnd.jupyter.widget-state+json": {
    "state": {
     "00510acf2daa4679a357c652ee0e8d00": {
      "model_module": "@jupyter-widgets/controls",
      "model_module_version": "1.5.0",
      "model_name": "ProgressStyleModel",
      "state": {
       "description_width": ""
      }
     },
     "02014158c0ae41b7b5a84f9132a629d9": {
      "model_module": "@jupyter-widgets/base",
      "model_module_version": "1.2.0",
      "model_name": "LayoutModel",
      "state": {}
     },
     "057ab5a4253b4dc8940c36bbf35490ff": {
      "model_module": "@jupyter-widgets/controls",
      "model_module_version": "1.5.0",
      "model_name": "HTMLModel",
      "state": {
       "layout": "IPY_MODEL_4c4b377b932b43d281b9a6ee42c97e51",
       "style": "IPY_MODEL_1ed92a5875e747beb37afcef75195985",
       "value": "100%"
      }
     },
     "0a2b4597272a4ea3861b5794fac11a94": {
      "model_module": "@jupyter-widgets/base",
      "model_module_version": "1.2.0",
      "model_name": "LayoutModel",
      "state": {}
     },
     "0bbac13c3ad54a0c83d28f4a6fc06d4f": {
      "model_module": "@jupyter-widgets/controls",
      "model_module_version": "1.5.0",
      "model_name": "HTMLModel",
      "state": {
       "layout": "IPY_MODEL_1d31e0671d9440f188fa5e2c507f94dc",
       "style": "IPY_MODEL_c78561e3882e42a286ccdbf108430212",
       "value": "  2%"
      }
     },
     "0deb0494d3b047bdaae3d60297d42307": {
      "model_module": "@jupyter-widgets/controls",
      "model_module_version": "1.5.0",
      "model_name": "DescriptionStyleModel",
      "state": {
       "description_width": ""
      }
     },
     "0e226ac5c3924a94bd55dc90bafe138c": {
      "model_module": "@jupyter-widgets/base",
      "model_module_version": "1.2.0",
      "model_name": "LayoutModel",
      "state": {}
     },
     "12036c1a2dd54533ad0c6c355b463ba9": {
      "model_module": "@jupyter-widgets/base",
      "model_module_version": "1.2.0",
      "model_name": "LayoutModel",
      "state": {}
     },
     "12a3ba19aac14ac7a942f95187f6c296": {
      "model_module": "@jupyter-widgets/base",
      "model_module_version": "1.2.0",
      "model_name": "LayoutModel",
      "state": {}
     },
     "1550d44de6004a388ba918edff74f4db": {
      "model_module": "@jupyter-widgets/base",
      "model_module_version": "1.2.0",
      "model_name": "LayoutModel",
      "state": {}
     },
     "18a09feb6fd940fdb9f372fac10c0919": {
      "model_module": "@jupyter-widgets/controls",
      "model_module_version": "1.5.0",
      "model_name": "DescriptionStyleModel",
      "state": {
       "description_width": ""
      }
     },
     "1b9d637e94a644b8824715c3c721558c": {
      "model_module": "@jupyter-widgets/controls",
      "model_module_version": "1.5.0",
      "model_name": "FloatProgressModel",
      "state": {
       "bar_style": "success",
       "layout": "IPY_MODEL_524aac365df743458b8a7845d4fb0f13",
       "max": 10000,
       "style": "IPY_MODEL_fd49d5e6be9b40fdaa3d5a87a57343c2",
       "value": 10000
      }
     },
     "1d2f62f786424046a91942e3607f2d41": {
      "model_module": "@jupyter-widgets/controls",
      "model_module_version": "1.5.0",
      "model_name": "HTMLModel",
      "state": {
       "layout": "IPY_MODEL_b96830c669f647a6800f5ed9d7daec34",
       "style": "IPY_MODEL_18a09feb6fd940fdb9f372fac10c0919",
       "value": " 10000/10000 [00:23&lt;00:00, 3587.06it/s]"
      }
     },
     "1d31e0671d9440f188fa5e2c507f94dc": {
      "model_module": "@jupyter-widgets/base",
      "model_module_version": "1.2.0",
      "model_name": "LayoutModel",
      "state": {}
     },
     "1ed92a5875e747beb37afcef75195985": {
      "model_module": "@jupyter-widgets/controls",
      "model_module_version": "1.5.0",
      "model_name": "DescriptionStyleModel",
      "state": {
       "description_width": ""
      }
     },
     "237e3d5ff2f64ae9afe852db81508a51": {
      "model_module": "@jupyter-widgets/controls",
      "model_module_version": "1.5.0",
      "model_name": "DescriptionStyleModel",
      "state": {
       "description_width": ""
      }
     },
     "2aae794a7fae4dfb9391d720dc42d201": {
      "model_module": "@jupyter-widgets/controls",
      "model_module_version": "1.5.0",
      "model_name": "DescriptionStyleModel",
      "state": {
       "description_width": ""
      }
     },
     "2d5871679d004aeaa15284723766f162": {
      "model_module": "@jupyter-widgets/base",
      "model_module_version": "1.2.0",
      "model_name": "LayoutModel",
      "state": {}
     },
     "2e1cdf1093584116acdf01fb8ac63080": {
      "model_module": "@jupyter-widgets/controls",
      "model_module_version": "1.5.0",
      "model_name": "FloatProgressModel",
      "state": {
       "bar_style": "success",
       "layout": "IPY_MODEL_49c8751379294035bdd33234d30bf418",
       "max": 1000,
       "style": "IPY_MODEL_3db1fae63a10440db0e1b082e239434d",
       "value": 1000
      }
     },
     "2ec50bcc6ee045bd8dbb7cf1b4b3fcb6": {
      "model_module": "@jupyter-widgets/base",
      "model_module_version": "1.2.0",
      "model_name": "LayoutModel",
      "state": {}
     },
     "3425dbd7d20747048a8518e60dc9cf31": {
      "model_module": "@jupyter-widgets/base",
      "model_module_version": "1.2.0",
      "model_name": "LayoutModel",
      "state": {}
     },
     "367b30b3a5174ea89e3194438cb56fbd": {
      "model_module": "@jupyter-widgets/controls",
      "model_module_version": "1.5.0",
      "model_name": "DescriptionStyleModel",
      "state": {
       "description_width": ""
      }
     },
     "3db1fae63a10440db0e1b082e239434d": {
      "model_module": "@jupyter-widgets/controls",
      "model_module_version": "1.5.0",
      "model_name": "ProgressStyleModel",
      "state": {
       "description_width": ""
      }
     },
     "49c8751379294035bdd33234d30bf418": {
      "model_module": "@jupyter-widgets/base",
      "model_module_version": "1.2.0",
      "model_name": "LayoutModel",
      "state": {}
     },
     "4c4b377b932b43d281b9a6ee42c97e51": {
      "model_module": "@jupyter-widgets/base",
      "model_module_version": "1.2.0",
      "model_name": "LayoutModel",
      "state": {}
     },
     "500bf1c0320e4d1795492a50a92d2936": {
      "model_module": "@jupyter-widgets/base",
      "model_module_version": "1.2.0",
      "model_name": "LayoutModel",
      "state": {}
     },
     "524aac365df743458b8a7845d4fb0f13": {
      "model_module": "@jupyter-widgets/base",
      "model_module_version": "1.2.0",
      "model_name": "LayoutModel",
      "state": {}
     },
     "5838d40797af4281ba9c1ad8e01cef8b": {
      "model_module": "@jupyter-widgets/controls",
      "model_module_version": "1.5.0",
      "model_name": "HTMLModel",
      "state": {
       "layout": "IPY_MODEL_bba5bec6eb6c47268597f9a5855c2ef3",
       "style": "IPY_MODEL_237e3d5ff2f64ae9afe852db81508a51",
       "value": " 241/10000 [00:03&lt;02:54, 56.02it/s]"
      }
     },
     "5888fea9c6774d239e14a0871a30d558": {
      "model_module": "@jupyter-widgets/controls",
      "model_module_version": "1.5.0",
      "model_name": "ProgressStyleModel",
      "state": {
       "description_width": ""
      }
     },
     "5b78bf4baecc4b27ae72dd437d35d7be": {
      "model_module": "@jupyter-widgets/controls",
      "model_module_version": "1.5.0",
      "model_name": "HTMLModel",
      "state": {
       "layout": "IPY_MODEL_d2cc9dde030742d8b0c273ef0f871f02",
       "style": "IPY_MODEL_9dbe48d937274f1aa4b8182ab8362d07",
       "value": " 100000/100000 [05:06&lt;00:00, 3708.29it/s]"
      }
     },
     "5dae345781a645c39da5440ce087f10e": {
      "model_module": "@jupyter-widgets/controls",
      "model_module_version": "1.5.0",
      "model_name": "FloatProgressModel",
      "state": {
       "bar_style": "success",
       "layout": "IPY_MODEL_b2e91c5c4b9a4d9cac3748e1dcd4f111",
       "max": 10000,
       "style": "IPY_MODEL_5888fea9c6774d239e14a0871a30d558",
       "value": 10000
      }
     },
     "64ed1999985c48609fd5a7299a3274f1": {
      "model_module": "@jupyter-widgets/base",
      "model_module_version": "1.2.0",
      "model_name": "LayoutModel",
      "state": {}
     },
     "7157f881e3d34e50b0a47fc44b1e4f6f": {
      "model_module": "@jupyter-widgets/controls",
      "model_module_version": "1.5.0",
      "model_name": "DescriptionStyleModel",
      "state": {
       "description_width": ""
      }
     },
     "767ce97530824c7b8d95df412a9294f6": {
      "model_module": "@jupyter-widgets/controls",
      "model_module_version": "1.5.0",
      "model_name": "HBoxModel",
      "state": {
       "children": [
        "IPY_MODEL_85552c56fa784883bf4277ab2233784b",
        "IPY_MODEL_2e1cdf1093584116acdf01fb8ac63080",
        "IPY_MODEL_d1114216a5da4cdbb51a0798802594ac"
       ],
       "layout": "IPY_MODEL_e10bdb26aa7d43e19db8c8c654721690"
      }
     },
     "7739d8a13ebb47809b1870b071326f41": {
      "model_module": "@jupyter-widgets/controls",
      "model_module_version": "1.5.0",
      "model_name": "HTMLModel",
      "state": {
       "layout": "IPY_MODEL_dca17cf4142e4b28907b35681059f1dc",
       "style": "IPY_MODEL_0deb0494d3b047bdaae3d60297d42307",
       "value": " 10000/10000 [00:24&lt;00:00, 3302.49it/s]"
      }
     },
     "7c83bf4827b148d884f7a8f185c9d46f": {
      "model_module": "@jupyter-widgets/controls",
      "model_module_version": "1.5.0",
      "model_name": "HBoxModel",
      "state": {
       "children": [
        "IPY_MODEL_0bbac13c3ad54a0c83d28f4a6fc06d4f",
        "IPY_MODEL_dc6f53b40975459890d1ae5ea7ea7dc2",
        "IPY_MODEL_5838d40797af4281ba9c1ad8e01cef8b"
       ],
       "layout": "IPY_MODEL_9033f01cc31d4fe6a8337320c5be5627"
      }
     },
     "80c1628e99c34106bd35571bc7ba1e02": {
      "model_module": "@jupyter-widgets/controls",
      "model_module_version": "1.5.0",
      "model_name": "HBoxModel",
      "state": {
       "children": [
        "IPY_MODEL_d9528c1062524aadbdbf47115ffdfefb",
        "IPY_MODEL_8cf305cff35d4f5d80163e6ac5e3613c",
        "IPY_MODEL_1d2f62f786424046a91942e3607f2d41"
       ],
       "layout": "IPY_MODEL_0e226ac5c3924a94bd55dc90bafe138c"
      }
     },
     "840d52ff7c144d898a5d912b0a0d6fef": {
      "model_module": "@jupyter-widgets/base",
      "model_module_version": "1.2.0",
      "model_name": "LayoutModel",
      "state": {}
     },
     "85552c56fa784883bf4277ab2233784b": {
      "model_module": "@jupyter-widgets/controls",
      "model_module_version": "1.5.0",
      "model_name": "HTMLModel",
      "state": {
       "layout": "IPY_MODEL_3425dbd7d20747048a8518e60dc9cf31",
       "style": "IPY_MODEL_a07208fbfac24bd49da0c56efb7e448e",
       "value": "100%"
      }
     },
     "8cf305cff35d4f5d80163e6ac5e3613c": {
      "model_module": "@jupyter-widgets/controls",
      "model_module_version": "1.5.0",
      "model_name": "FloatProgressModel",
      "state": {
       "bar_style": "success",
       "layout": "IPY_MODEL_cd008f02c397490c9d20cc313e73cf22",
       "max": 10000,
       "style": "IPY_MODEL_9994f77ba11e49f19065ce035725fff3",
       "value": 10000
      }
     },
     "8d26aa2e0d74410bb3b9fb745e216cbd": {
      "model_module": "@jupyter-widgets/controls",
      "model_module_version": "1.5.0",
      "model_name": "DescriptionStyleModel",
      "state": {
       "description_width": ""
      }
     },
     "8df6307efa7d4809a4f084c6d4ef8459": {
      "model_module": "@jupyter-widgets/controls",
      "model_module_version": "1.5.0",
      "model_name": "HBoxModel",
      "state": {
       "children": [
        "IPY_MODEL_057ab5a4253b4dc8940c36bbf35490ff",
        "IPY_MODEL_1b9d637e94a644b8824715c3c721558c",
        "IPY_MODEL_dbfe912d4e1946428fd7983d26702ccf"
       ],
       "layout": "IPY_MODEL_2ec50bcc6ee045bd8dbb7cf1b4b3fcb6"
      }
     },
     "9033f01cc31d4fe6a8337320c5be5627": {
      "model_module": "@jupyter-widgets/base",
      "model_module_version": "1.2.0",
      "model_name": "LayoutModel",
      "state": {}
     },
     "91826588b290437d9446d839fd56c37c": {
      "model_module": "@jupyter-widgets/controls",
      "model_module_version": "1.5.0",
      "model_name": "FloatProgressModel",
      "state": {
       "bar_style": "success",
       "layout": "IPY_MODEL_0a2b4597272a4ea3861b5794fac11a94",
       "max": 10000,
       "style": "IPY_MODEL_e9eb157d923b4c45aff188688c17ac6b",
       "value": 10000
      }
     },
     "9994f77ba11e49f19065ce035725fff3": {
      "model_module": "@jupyter-widgets/controls",
      "model_module_version": "1.5.0",
      "model_name": "ProgressStyleModel",
      "state": {
       "description_width": ""
      }
     },
     "9dbe48d937274f1aa4b8182ab8362d07": {
      "model_module": "@jupyter-widgets/controls",
      "model_module_version": "1.5.0",
      "model_name": "DescriptionStyleModel",
      "state": {
       "description_width": ""
      }
     },
     "9f347e42313848b589a0ddd6a97ec79d": {
      "model_module": "@jupyter-widgets/controls",
      "model_module_version": "1.5.0",
      "model_name": "HTMLModel",
      "state": {
       "layout": "IPY_MODEL_02014158c0ae41b7b5a84f9132a629d9",
       "style": "IPY_MODEL_f3311b79db354b1a92a7e6d7b220d99c",
       "value": "100%"
      }
     },
     "a07208fbfac24bd49da0c56efb7e448e": {
      "model_module": "@jupyter-widgets/controls",
      "model_module_version": "1.5.0",
      "model_name": "DescriptionStyleModel",
      "state": {
       "description_width": ""
      }
     },
     "a3c58c5d2a2c4eadbec6bb7ff22cf279": {
      "model_module": "@jupyter-widgets/controls",
      "model_module_version": "1.5.0",
      "model_name": "HBoxModel",
      "state": {
       "children": [
        "IPY_MODEL_9f347e42313848b589a0ddd6a97ec79d",
        "IPY_MODEL_5dae345781a645c39da5440ce087f10e",
        "IPY_MODEL_f982fb02b02645d88ccd4e494a8687ab"
       ],
       "layout": "IPY_MODEL_12036c1a2dd54533ad0c6c355b463ba9"
      }
     },
     "ae46b3b846904b6383707df7bc7927ec": {
      "model_module": "@jupyter-widgets/controls",
      "model_module_version": "1.5.0",
      "model_name": "DescriptionStyleModel",
      "state": {
       "description_width": ""
      }
     },
     "afa213d8e1a941faaccae8bce24f4985": {
      "model_module": "@jupyter-widgets/controls",
      "model_module_version": "1.5.0",
      "model_name": "DescriptionStyleModel",
      "state": {
       "description_width": ""
      }
     },
     "b2e91c5c4b9a4d9cac3748e1dcd4f111": {
      "model_module": "@jupyter-widgets/base",
      "model_module_version": "1.2.0",
      "model_name": "LayoutModel",
      "state": {}
     },
     "b96830c669f647a6800f5ed9d7daec34": {
      "model_module": "@jupyter-widgets/base",
      "model_module_version": "1.2.0",
      "model_name": "LayoutModel",
      "state": {}
     },
     "bb341e2a196c43059701e925ecd5acd1": {
      "model_module": "@jupyter-widgets/controls",
      "model_module_version": "1.5.0",
      "model_name": "HTMLModel",
      "state": {
       "layout": "IPY_MODEL_c622420e575442299b29eb008e09e3e2",
       "style": "IPY_MODEL_2aae794a7fae4dfb9391d720dc42d201",
       "value": "100%"
      }
     },
     "bba5bec6eb6c47268597f9a5855c2ef3": {
      "model_module": "@jupyter-widgets/base",
      "model_module_version": "1.2.0",
      "model_name": "LayoutModel",
      "state": {}
     },
     "c27595e5aa7c4049b4fdbc2b1584014a": {
      "model_module": "@jupyter-widgets/base",
      "model_module_version": "1.2.0",
      "model_name": "LayoutModel",
      "state": {}
     },
     "c622420e575442299b29eb008e09e3e2": {
      "model_module": "@jupyter-widgets/base",
      "model_module_version": "1.2.0",
      "model_name": "LayoutModel",
      "state": {}
     },
     "c78561e3882e42a286ccdbf108430212": {
      "model_module": "@jupyter-widgets/controls",
      "model_module_version": "1.5.0",
      "model_name": "DescriptionStyleModel",
      "state": {
       "description_width": ""
      }
     },
     "cd008f02c397490c9d20cc313e73cf22": {
      "model_module": "@jupyter-widgets/base",
      "model_module_version": "1.2.0",
      "model_name": "LayoutModel",
      "state": {}
     },
     "cd9f6475c173410aae29a090cf294c40": {
      "model_module": "@jupyter-widgets/controls",
      "model_module_version": "1.5.0",
      "model_name": "ProgressStyleModel",
      "state": {
       "description_width": ""
      }
     },
     "cddf1d2d871743e58eaecca1641de11a": {
      "model_module": "@jupyter-widgets/base",
      "model_module_version": "1.2.0",
      "model_name": "LayoutModel",
      "state": {}
     },
     "d1114216a5da4cdbb51a0798802594ac": {
      "model_module": "@jupyter-widgets/controls",
      "model_module_version": "1.5.0",
      "model_name": "HTMLModel",
      "state": {
       "layout": "IPY_MODEL_840d52ff7c144d898a5d912b0a0d6fef",
       "style": "IPY_MODEL_8d26aa2e0d74410bb3b9fb745e216cbd",
       "value": " 1000/1000 [00:14&lt;00:00, 103.85it/s]"
      }
     },
     "d2cc9dde030742d8b0c273ef0f871f02": {
      "model_module": "@jupyter-widgets/base",
      "model_module_version": "1.2.0",
      "model_name": "LayoutModel",
      "state": {}
     },
     "d9528c1062524aadbdbf47115ffdfefb": {
      "model_module": "@jupyter-widgets/controls",
      "model_module_version": "1.5.0",
      "model_name": "HTMLModel",
      "state": {
       "layout": "IPY_MODEL_500bf1c0320e4d1795492a50a92d2936",
       "style": "IPY_MODEL_afa213d8e1a941faaccae8bce24f4985",
       "value": "100%"
      }
     },
     "daa7546272a94c05b8c1b976ec519669": {
      "model_module": "@jupyter-widgets/controls",
      "model_module_version": "1.5.0",
      "model_name": "HTMLModel",
      "state": {
       "layout": "IPY_MODEL_ef41352fc71047869fa12f7c8dfb7aac",
       "style": "IPY_MODEL_ae46b3b846904b6383707df7bc7927ec",
       "value": "100%"
      }
     },
     "dbfe912d4e1946428fd7983d26702ccf": {
      "model_module": "@jupyter-widgets/controls",
      "model_module_version": "1.5.0",
      "model_name": "HTMLModel",
      "state": {
       "layout": "IPY_MODEL_c27595e5aa7c4049b4fdbc2b1584014a",
       "style": "IPY_MODEL_367b30b3a5174ea89e3194438cb56fbd",
       "value": " 10000/10000 [00:12&lt;00:00, 3629.25it/s]"
      }
     },
     "dc523eb880df494ebf056022a2cc8df3": {
      "model_module": "@jupyter-widgets/controls",
      "model_module_version": "1.5.0",
      "model_name": "HBoxModel",
      "state": {
       "children": [
        "IPY_MODEL_bb341e2a196c43059701e925ecd5acd1",
        "IPY_MODEL_91826588b290437d9446d839fd56c37c",
        "IPY_MODEL_7739d8a13ebb47809b1870b071326f41"
       ],
       "layout": "IPY_MODEL_cddf1d2d871743e58eaecca1641de11a"
      }
     },
     "dc6f53b40975459890d1ae5ea7ea7dc2": {
      "model_module": "@jupyter-widgets/controls",
      "model_module_version": "1.5.0",
      "model_name": "FloatProgressModel",
      "state": {
       "bar_style": "danger",
       "layout": "IPY_MODEL_1550d44de6004a388ba918edff74f4db",
       "max": 10000,
       "style": "IPY_MODEL_00510acf2daa4679a357c652ee0e8d00",
       "value": 241
      }
     },
     "dca17cf4142e4b28907b35681059f1dc": {
      "model_module": "@jupyter-widgets/base",
      "model_module_version": "1.2.0",
      "model_name": "LayoutModel",
      "state": {}
     },
     "e10bdb26aa7d43e19db8c8c654721690": {
      "model_module": "@jupyter-widgets/base",
      "model_module_version": "1.2.0",
      "model_name": "LayoutModel",
      "state": {}
     },
     "e9eb157d923b4c45aff188688c17ac6b": {
      "model_module": "@jupyter-widgets/controls",
      "model_module_version": "1.5.0",
      "model_name": "ProgressStyleModel",
      "state": {
       "description_width": ""
      }
     },
     "ef41352fc71047869fa12f7c8dfb7aac": {
      "model_module": "@jupyter-widgets/base",
      "model_module_version": "1.2.0",
      "model_name": "LayoutModel",
      "state": {}
     },
     "f3311b79db354b1a92a7e6d7b220d99c": {
      "model_module": "@jupyter-widgets/controls",
      "model_module_version": "1.5.0",
      "model_name": "DescriptionStyleModel",
      "state": {
       "description_width": ""
      }
     },
     "f3cc4394384a4cc7a54cc560a6adee7f": {
      "model_module": "@jupyter-widgets/controls",
      "model_module_version": "1.5.0",
      "model_name": "HBoxModel",
      "state": {
       "children": [
        "IPY_MODEL_daa7546272a94c05b8c1b976ec519669",
        "IPY_MODEL_f887b931a74d4ae49ce8f80e709a0813",
        "IPY_MODEL_5b78bf4baecc4b27ae72dd437d35d7be"
       ],
       "layout": "IPY_MODEL_2d5871679d004aeaa15284723766f162"
      }
     },
     "f887b931a74d4ae49ce8f80e709a0813": {
      "model_module": "@jupyter-widgets/controls",
      "model_module_version": "1.5.0",
      "model_name": "FloatProgressModel",
      "state": {
       "bar_style": "success",
       "layout": "IPY_MODEL_64ed1999985c48609fd5a7299a3274f1",
       "max": 100000,
       "style": "IPY_MODEL_cd9f6475c173410aae29a090cf294c40",
       "value": 100000
      }
     },
     "f982fb02b02645d88ccd4e494a8687ab": {
      "model_module": "@jupyter-widgets/controls",
      "model_module_version": "1.5.0",
      "model_name": "HTMLModel",
      "state": {
       "layout": "IPY_MODEL_12a3ba19aac14ac7a942f95187f6c296",
       "style": "IPY_MODEL_7157f881e3d34e50b0a47fc44b1e4f6f",
       "value": " 10000/10000 [00:14&lt;00:00, 3641.48it/s]"
      }
     },
     "fd49d5e6be9b40fdaa3d5a87a57343c2": {
      "model_module": "@jupyter-widgets/controls",
      "model_module_version": "1.5.0",
      "model_name": "ProgressStyleModel",
      "state": {
       "description_width": ""
      }
     }
    },
    "version_major": 2,
    "version_minor": 0
   }
  }
 },
 "nbformat": 4,
 "nbformat_minor": 2
}
