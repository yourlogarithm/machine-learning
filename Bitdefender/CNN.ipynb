{
 "cells": [
  {
   "cell_type": "markdown",
   "metadata": {},
   "source": [
    "# Introduction to Convolutional Neural Networks - Image analysis"
   ]
  },
  {
   "cell_type": "markdown",
   "metadata": {},
   "source": [
    "## Overview \n",
    "\n",
    "This kernel is aimed at giving a simple understanding of a Convolutional Neural Network (CNN). This will be achieved in the following order:\n",
    "\n",
    "- Understanding the operation of convolution\n",
    "- A short look back Neural Networks\n",
    "- Data preprocessing\n",
    "- Understanding the Convolutional Neural Network used\n",
    "- Understanding Optimizers\n",
    "- Understanding ImageDataGenerator\n",
    "- Making the predictions and calculating the accuracy\n",
    "\n",
    "## What is Convolution?\n",
    "\n",
    "<b>Definition:</b>\n",
    "   - In mathematics, convolution is a mathematical operation between two functions (f and g) to produce a third function that expresses how the shape of one is modified by the other.\n",
    "\n",
    "<b>Utility:</b>\n",
    "   - Convolution is used in several areas such as probability, statistics, computer vision, natural language processing, image and signal processing, engineering, and differential equations.\n",
    "   \n",
    "<b>Mathematical representation:</b>\n",
    "   <img src=\"images/convolution_op.png\" width=\"300\" height=\"500\">    "
   ]
  },
  {
   "cell_type": "markdown",
   "metadata": {},
   "source": [
    "## What are Artificial Neural Networks?\n",
    "\n",
    "<b>Definition: </b>\n",
    "   - Artificial neural networks (ANN) or connectionist systems are computing systems vaguely inspired by the biological neural networks that constitute animal brains. Such systems \"learn\" to perform tasks by considering examples, generally without being programmed with any task-specific rules.\n",
    "   - An ANN is a collection of smaller processing units called the artificial neurons which loosely resemble the biological neuron.\n",
    "   - A collection of interconnected circuits make a network.\n",
    "\n",
    "   <img src=\"images/nn.png\" width=\"300\" height=\"400\">\n",
    "\n",
    "   - In the image above:\n",
    "       - each circular node represents an artificial neuron.\n",
    "       - an arrow represents a connection from the output of one artificial neuron to the input of another."
   ]
  },
  {
   "cell_type": "markdown",
   "metadata": {},
   "source": [
    "## What are Convolutional Neural Networks"
   ]
  },
  {
   "cell_type": "markdown",
   "metadata": {},
   "source": [
    "<b>Definition:</b>\n",
    "   - In deep learning, a convolutional neural network (CNN, or ConvNet) is a class of artificial neural network (ANN), most commonly applied to analyze visual imagery.\n",
    "   - CNNs were inspired by biological processes in that the connectivity pattern between neurons resembles the organization of the animal visual cortex. \n",
    "   - A CNN architecture is formed by a stack of distinct layers that transform the input volume into an output volume through a differentiable function. A few distinct types of layers are commonly used. \n",
    "   \n",
    "<b>Convolutional layer:</b>\n",
    "   - The convolutional layer is the core building block of a CNN. The layer's parameters consist of a set of learnable filters (or kernels), which have a small receptive field, but extend through the full depth of the input volume. \n",
    "   - During the forward pass, each filter is convolved across the width and height of the input volume, computing the dot product between the filter entries and the input, producing a 2-dimensional activation map of that filter. As a result, the network learns filters that activate when it detects some specific type of feature at some spatial position in the input.\n",
    "      \n",
    "      <img src=\"https://miro.medium.com/max/1400/1*Fw-ehcNBR9byHtho-Rxbtw.gif\" width=\"500\" height=\"340\">\n",
    "      \n",
    "<b>Pooling Layer</b>\n",
    "   - There are several non-linear functions to implement pooling, where max pooling is the most common.\n",
    "   - It partitions the input image into a set of rectangles and, for each such sub-region, outputs the maximum.\n",
    "   \n",
    "   <img src=\"https://nico-curti.github.io/NumPyNet/NumPyNet/images/maxpool.gif\" width=\"500\" height=\"340\">"
   ]
  },
  {
   "cell_type": "markdown",
   "metadata": {},
   "source": [
    "# Understand CNN - Let's code!\n",
    "\n",
    "Solving classification problems:\n",
    "   - Handwriting recognition of Arabic Alphabets\n",
    "   - MNIST"
   ]
  },
  {
   "cell_type": "markdown",
   "metadata": {},
   "source": [
    "## Importing necesarry libraries"
   ]
  },
  {
   "cell_type": "code",
   "execution_count": 1,
   "metadata": {
    "ExecuteTime": {
     "end_time": "2022-05-12T06:22:17.120696Z",
     "start_time": "2022-05-12T06:22:16.136382Z"
    }
   },
   "outputs": [
    {
     "name": "stdout",
     "output_type": "stream",
     "text": [
      "WARNING:tensorflow:From /Users/yourlogarithm/.miniforge3/envs/ml/lib/python3.8/site-packages/tensorflow/python/compat/v2_compat.py:107: disable_resource_variables (from tensorflow.python.ops.variable_scope) is deprecated and will be removed in a future version.\n",
      "Instructions for updating:\n",
      "non-resource variables are not supported in the long term\n"
     ]
    }
   ],
   "source": [
    "import numpy as np\n",
    "import pandas as pd\n",
    "import matplotlib.pyplot as plt\n",
    "import seaborn as sns\n",
    "\n",
    "import tflearn.data_utils as du\n",
    "from keras.models import Sequential\n",
    "from keras.layers import Dense, Dropout, Flatten, Conv2D, MaxPool2D\n",
    "from keras.preprocessing.image import ImageDataGenerator\n",
    "from sklearn.metrics import confusion_matrix\n",
    "from sklearn.model_selection import train_test_split\n",
    "from keras.callbacks import ReduceLROnPlateau \n",
    "import tensorflow as tf\n",
    "from tensorflow.keras.optimizers import RMSprop, SGD\n",
    "\n",
    "%matplotlib inline\n",
    "sns.set(style='white', context='notebook', palette='deep')\n",
    "np.set_printoptions(suppress=True)"
   ]
  },
  {
   "cell_type": "markdown",
   "metadata": {},
   "source": [
    "## Handwriting recognition of Arabic Alphabets\n",
    "\n",
    "### Loading the data set \n"
   ]
  },
  {
   "cell_type": "code",
   "execution_count": 2,
   "metadata": {
    "ExecuteTime": {
     "end_time": "2022-05-12T10:11:55.914945Z",
     "start_time": "2022-05-12T10:11:54.623301Z"
    }
   },
   "outputs": [],
   "source": [
    "train_data = pd.read_csv('dataset/arabic/csvTrainImages 13440x1024.csv', header = None)\n",
    "train_label = pd.read_csv('dataset/arabic/csvTrainLabel 13440x1.csv', header = None)\n",
    "test_data = pd.read_csv('dataset/arabic/csvTestImages 3360x1024.csv', header = None)\n",
    "test_label = pd.read_csv('dataset/arabic/csvTestLabel 3360x1.csv', header = None)"
   ]
  },
  {
   "cell_type": "code",
   "execution_count": 3,
   "metadata": {
    "ExecuteTime": {
     "end_time": "2022-05-12T10:11:55.953177Z",
     "start_time": "2022-05-12T10:11:55.917113Z"
    }
   },
   "outputs": [
    {
     "name": "stdout",
     "output_type": "stream",
     "text": [
      "<class 'pandas.core.frame.DataFrame'>\n",
      "RangeIndex: 13440 entries, 0 to 13439\n",
      "Columns: 1024 entries, 0 to 1023\n",
      "dtypes: int64(1024)\n",
      "memory usage: 105.0 MB\n"
     ]
    }
   ],
   "source": [
    "train_data.info()"
   ]
  },
  {
   "cell_type": "code",
   "execution_count": 4,
   "metadata": {
    "ExecuteTime": {
     "end_time": "2022-05-12T10:12:03.730213Z",
     "start_time": "2022-05-12T10:12:03.419132Z"
    }
   },
   "outputs": [
    {
     "name": "stdout",
     "output_type": "stream",
     "text": [
      "<class 'pandas.core.frame.DataFrame'>\n",
      "RangeIndex: 3360 entries, 0 to 3359\n",
      "Columns: 1024 entries, 0 to 1023\n",
      "dtypes: int64(1024)\n",
      "memory usage: 26.3 MB\n"
     ]
    }
   ],
   "source": [
    "test_data.info()"
   ]
  },
  {
   "cell_type": "code",
   "execution_count": 5,
   "metadata": {
    "ExecuteTime": {
     "end_time": "2022-05-12T10:12:03.958624Z",
     "start_time": "2022-05-12T10:12:03.919234Z"
    }
   },
   "outputs": [],
   "source": [
    "train_data = train_data.iloc[:,:].values.astype('float32')\n",
    "train_label = train_label.iloc[:,:].values.astype('int32') - 1\n",
    "test_data = test_data.iloc[:,:].values.astype('float32')\n",
    "test_label = test_label.iloc[:,:].values.astype('int32') - 1"
   ]
  },
  {
   "cell_type": "markdown",
   "metadata": {},
   "source": [
    "### Visualizing the data set"
   ]
  },
  {
   "cell_type": "code",
   "execution_count": 6,
   "metadata": {
    "ExecuteTime": {
     "end_time": "2022-05-12T10:12:21.002983Z",
     "start_time": "2022-05-12T10:12:20.998254Z"
    }
   },
   "outputs": [],
   "source": [
    "def row_calculator(number_of_images, number_of_columns):\n",
    "    if number_of_images % number_of_columns != 0:\n",
    "        return (number_of_images // number_of_columns) + 1\n",
    "    else:\n",
    "        return (number_of_images // number_of_columns)"
   ]
  },
  {
   "cell_type": "code",
   "execution_count": 7,
   "metadata": {
    "ExecuteTime": {
     "end_time": "2022-05-12T10:12:21.451722Z",
     "start_time": "2022-05-12T10:12:21.443368Z"
    }
   },
   "outputs": [],
   "source": [
    "def display_image(x, img_size, number_of_images):\n",
    "    plt.figure(figsize=(8, 7))\n",
    "    if x.shape[0] > 0:\n",
    "        n_samples = x.shape[0]\n",
    "        x = x.reshape(n_samples, img_size, img_size)\n",
    "        number_of_rows = row_calculator(number_of_images, 4)\n",
    "        for i in range(number_of_images):\n",
    "            plt.subplot(number_of_rows, 4, i + 1)\n",
    "            plt.imshow(x[i])\n"
   ]
  },
  {
   "cell_type": "markdown",
   "metadata": {},
   "source": [
    "### The training set examples"
   ]
  },
  {
   "cell_type": "code",
   "execution_count": 8,
   "metadata": {
    "ExecuteTime": {
     "end_time": "2022-05-12T10:12:24.281927Z",
     "start_time": "2022-05-12T10:12:22.058140Z"
    }
   },
   "outputs": [
    {
     "data": {
      "image/png": "[encoded data removed]",
      "text/plain": [
       "<Figure size 576x504 with 16 Axes>"
      ]
     },
     "metadata": {},
     "output_type": "display_data"
    }
   ],
   "source": [
    "display_image(train_data, 32, 16)"
   ]
  },
  {
   "cell_type": "markdown",
   "metadata": {},
   "source": [
    "### The test set  examples"
   ]
  },
  {
   "cell_type": "code",
   "execution_count": 9,
   "metadata": {
    "ExecuteTime": {
     "end_time": "2022-05-12T10:12:26.476680Z",
     "start_time": "2022-05-12T10:12:24.284074Z"
    }
   },
   "outputs": [
    {
     "data": {
      "image/png": "[encoded data removed]",
      "text/plain": [
       "<Figure size 576x504 with 16 Axes>"
      ]
     },
     "metadata": {},
     "output_type": "display_data"
    }
   ],
   "source": [
    "display_image(test_data, 32, 16)"
   ]
  },
  {
   "cell_type": "markdown",
   "metadata": {},
   "source": [
    "### Data set preprocessing\n",
    "#### Encoding categorical variables \n",
    "\n",
    "<b> What are Categorical Variables? </b>\n",
    "   - In statistics, a categorical variable is a variable that can take on one of a limited, and usually fixed number of possible values, assigning each individual or other unit of observation to a particular group or nominal category on the basis of some qualitative property.\n",
    "   - In simple terms, the value of a categorical varibale, represents a category or a class."
   ]
  },
  {
   "cell_type": "code",
   "execution_count": 10,
   "metadata": {
    "ExecuteTime": {
     "end_time": "2022-05-12T08:22:11.220082Z",
     "start_time": "2022-05-12T08:22:11.217353Z"
    }
   },
   "outputs": [
    {
     "name": "stdout",
     "output_type": "stream",
     "text": [
      "(13440, 1)\n",
      "[0]\n",
      "[1. 0. 0. 0. 0. 0. 0. 0. 0. 0. 0. 0. 0. 0. 0. 0. 0. 0. 0. 0. 0. 0. 0. 0.\n",
      " 0. 0. 0. 0.]\n",
      "(13440, 28)\n"
     ]
    }
   ],
   "source": [
    "print(train_label.shape)\n",
    "print(train_label[0])\n",
    "train_label = du.to_categorical(train_label, 28)\n",
    "print(train_label[0])\n",
    "print(train_label.shape)"
   ]
  },
  {
   "cell_type": "markdown",
   "metadata": {},
   "source": [
    "#### Normalization\n",
    "<b> What is Normalization? </b>\n",
    "   - Normalization is done to bring the entire data into a well defined range, preferably between 0 and 1."
   ]
  },
  {
   "cell_type": "code",
   "execution_count": 11,
   "metadata": {
    "ExecuteTime": {
     "end_time": "2022-05-12T08:22:11.273722Z",
     "start_time": "2022-05-12T08:22:11.221910Z"
    }
   },
   "outputs": [],
   "source": [
    "train_data = train_data / 255\n",
    "test_data = test_data / 255"
   ]
  },
  {
   "cell_type": "code",
   "execution_count": 12,
   "metadata": {},
   "outputs": [
    {
     "name": "stdout",
     "output_type": "stream",
     "text": [
      "(13440, 1024)\n"
     ]
    }
   ],
   "source": [
    "print(train_data.shape)"
   ]
  },
  {
   "cell_type": "markdown",
   "metadata": {},
   "source": [
    "Reshape the data to represent a 2D image."
   ]
  },
  {
   "cell_type": "code",
   "execution_count": 13,
   "metadata": {
    "ExecuteTime": {
     "end_time": "2022-05-12T08:23:19.201453Z",
     "start_time": "2022-05-12T08:23:19.196070Z"
    }
   },
   "outputs": [],
   "source": [
    "train_data = train_data.reshape([-1, 32, 32, 1])\n",
    "test_data = test_data.reshape([-1, 32, 32, 1])"
   ]
  },
  {
   "cell_type": "code",
   "execution_count": 14,
   "metadata": {},
   "outputs": [
    {
     "name": "stdout",
     "output_type": "stream",
     "text": [
      "(13440, 32, 32, 1)\n"
     ]
    }
   ],
   "source": [
    "print(train_data.shape)"
   ]
  },
  {
   "cell_type": "markdown",
   "metadata": {},
   "source": [
    "#### Split train data into train and validation sets\n",
    "Split the train data set in two parts: \n",
    "- 25% - validation set\n",
    "- 75% - train set"
   ]
  },
  {
   "cell_type": "code",
   "execution_count": 15,
   "metadata": {
    "ExecuteTime": {
     "end_time": "2022-05-12T06:22:23.250546Z",
     "start_time": "2022-05-12T06:22:23.095837Z"
    }
   },
   "outputs": [],
   "source": [
    "train_data, data_val, train_label, label_val = train_test_split(\n",
    "    train_data, \n",
    "    train_label, \n",
    "    test_size=0.25, \n",
    "    random_state=20, \n",
    "    shuffle=True\n",
    ")\n"
   ]
  },
  {
   "cell_type": "markdown",
   "metadata": {},
   "source": [
    "### Building the CNN "
   ]
  },
  {
   "cell_type": "code",
   "execution_count": 16,
   "metadata": {
    "ExecuteTime": {
     "end_time": "2022-05-12T06:22:23.315149Z",
     "start_time": "2022-05-12T06:22:23.256237Z"
    }
   },
   "outputs": [],
   "source": [
    "model = Sequential()\n",
    "model.add(Conv2D(filters=32, kernel_size=(5, 5), padding=\"Same\", activation=\"relu\", input_shape=(32, 32, 1)))\n",
    "model.add(Conv2D(filters=32, kernel_size=(5, 5), padding=\"Same\", activation=\"relu\"))\n",
    "model.add(MaxPool2D(pool_size=(2, 2)))\n",
    "model.add(Dropout(0.25))\n",
    "model.add(Conv2D(filters=64, kernel_size=(3, 3), padding=\"Same\", activation=\"relu\"))\n",
    "model.add(Conv2D(filters=64, kernel_size=(3, 3), padding=\"Same\", activation=\"relu\"))\n",
    "model.add(MaxPool2D(pool_size=(2, 2), strides=(2, 2)))\n",
    "model.add(Dropout(0.25))\n",
    "model.add(Flatten())\n",
    "model.add(Dense(units=256, input_dim=1024, activation=\"relu\"))\n",
    "model.add(Dense(units=256, activation=\"relu\"))\n",
    "model.add(Dropout(0.5))\n",
    "model.add(Dense(28, activation=\"softmax\"))\n"
   ]
  },
  {
   "cell_type": "markdown",
   "metadata": {},
   "source": [
    "#### Model summary"
   ]
  },
  {
   "cell_type": "code",
   "execution_count": 17,
   "metadata": {
    "ExecuteTime": {
     "end_time": "2022-05-12T06:22:23.405479Z",
     "start_time": "2022-05-12T06:22:23.397952Z"
    }
   },
   "outputs": [
    {
     "name": "stdout",
     "output_type": "stream",
     "text": [
      "Model: \"sequential\"\n",
      "_________________________________________________________________\n",
      " Layer (type)                Output Shape              Param #   \n",
      "=================================================================\n",
      " conv2d (Conv2D)             (None, 32, 32, 32)        832       \n",
      "                                                                 \n",
      " conv2d_1 (Conv2D)           (None, 32, 32, 32)        25632     \n",
      "                                                                 \n",
      " max_pooling2d (MaxPooling2D  (None, 16, 16, 32)       0         \n",
      " )                                                               \n",
      "                                                                 \n",
      " dropout (Dropout)           (None, 16, 16, 32)        0         \n",
      "                                                                 \n",
      " conv2d_2 (Conv2D)           (None, 16, 16, 64)        18496     \n",
      "                                                                 \n",
      " conv2d_3 (Conv2D)           (None, 16, 16, 64)        36928     \n",
      "                                                                 \n",
      " max_pooling2d_1 (MaxPooling  (None, 8, 8, 64)         0         \n",
      " 2D)                                                             \n",
      "                                                                 \n",
      " dropout_1 (Dropout)         (None, 8, 8, 64)          0         \n",
      "                                                                 \n",
      " flatten (Flatten)           (None, 4096)              0         \n",
      "                                                                 \n",
      " dense (Dense)               (None, 256)               1048832   \n",
      "                                                                 \n",
      " dense_1 (Dense)             (None, 256)               65792     \n",
      "                                                                 \n",
      " dropout_2 (Dropout)         (None, 256)               0         \n",
      "                                                                 \n",
      " dense_2 (Dense)             (None, 28)                7196      \n",
      "                                                                 \n",
      "=================================================================\n",
      "Total params: 1,203,708\n",
      "Trainable params: 1,203,708\n",
      "Non-trainable params: 0\n",
      "_________________________________________________________________\n"
     ]
    }
   ],
   "source": [
    "model.summary()"
   ]
  },
  {
   "attachments": {},
   "cell_type": "markdown",
   "metadata": {},
   "source": [
    "#### What is Conv2D?\n",
    "   - Conv2D layer - is like a set of learnable filters. Each filter transform a part of the image (defined by the kernel size) using the kernel filter. The kernel filter matrix is applied on the whole image. Filters can be seen as a transformation of the image.\n",
    "   \n",
    "       <img src=\"https://miro.medium.com/max/1216/1*aRrWvkaLiCf_ryTkahsTeA.png\" width=\"500\" height=\"400\">\n",
    "\n",
    "   \n",
    "   <b>Conv2D Hyperparameters:</b>\n",
    "   - <i>Kernel size</i> - the number of pixels processed together.\n",
    "   - <i>Padding</i> - Padding is the addition of (typically) 0-valued pixels on the borders of an image. This is done so that the border pixels are not undervalued (lost) from the output because they would ordinarily participate in only a single receptive field instance. The padding applied is typically one less than the corresponding kernel dimension. For example, a convolutional layer using 3x3 kernels would receive a 2-pixel pad on all sides of the image.\n",
    "   - <i>Stride</i> - the number of pixels that the analysis window moves on each iteration. A stride of 2 means that each kernel is offset by 2 pixels from its predecessor.\n",
    "   - <i>Number of filters</i> - Since feature map size decreases with depth, layers near the input layer tend to have fewer filters while higher layers can have more. \n",
    "\n",
    "#### What is Max Pooling?\n",
    "   - Pooling means combining a set of data. The process of combining data follows some rules.\n",
    "   - By definition, it selects the maximum element from the region of the feature map covered by the filter. For this layer, the pooling size (the area size pooled each time) must be chosen.\n",
    "   - Max pooling is used to reduce the dimensions. It can also avoid overfitting.\n",
    "\n",
    "#### What is Dropout?\n",
    "   - Dropout is a regularization technique for reducing overfitting in neural networks. The term \"dropout\" refers to dropping out units (both hidden and visible) in a neural network. \n",
    "   - A proportion of nodes in the layer are randomly ignored (their weights are setted to zero). This forces the network to learn features in a distributed way and also drops a randomly proportion of the network.\n",
    "\n",
    "#### What is Flatten?\n",
    "   - Flattening is done to convert the multidimensional data into a single 1D feature vector to be used by the next layer which is the Dense Layer. It combines all the found local features on the previous convolutional layers. \n",
    "\n",
    "#### What is a Dense Layer?\n",
    "   - The Dense layer is just a layer of Artificial Neural Network\n",
    "  \n",
    "### Set the optimizer and LR \n",
    "\n",
    "#### What is an optimizer?\n",
    "   - Optimization algorithms helps us to minimize (or maximize) an Objective function (another name for Error function) E(x) which is simply a mathematical function dependent on the model’s internal learnable parameters which are used in computing the target values (Y) from the set of predictors (X) used in the model.\n",
    "\n",
    "#### What is learning rate?\n",
    "- The learning rate is a tuning parameter in an optimization algorithm that determines the step size at each iteration while moving toward a minimum of a loss function.\n",
    "- The learning rate determines how big a step is taken in that direction.\n",
    "\n",
    "#### What is a loss function?\n",
    "- Loss function is defined to measure how poorly our model performs on images with known labels. It represents the error rate between the oberved labels and the predicted ones."
   ]
  },
  {
   "cell_type": "code",
   "execution_count": 18,
   "metadata": {
    "ExecuteTime": {
     "end_time": "2022-05-12T06:22:23.426932Z",
     "start_time": "2022-05-12T06:22:23.407056Z"
    }
   },
   "outputs": [
    {
     "name": "stderr",
     "output_type": "stream",
     "text": [
      "/Users/yourlogarithm/.miniforge3/envs/ml/lib/python3.8/site-packages/keras/optimizer_v2/rmsprop.py:130: UserWarning: The `lr` argument is deprecated, use `learning_rate` instead.\n",
      "  super(RMSprop, self).__init__(name, **kwargs)\n"
     ]
    }
   ],
   "source": [
    "optimizer = RMSprop(lr=0.001, rho=0.9, epsilon=1e-08, decay=0.0)"
   ]
  },
  {
   "cell_type": "code",
   "execution_count": 19,
   "metadata": {
    "ExecuteTime": {
     "end_time": "2022-05-12T06:22:23.449323Z",
     "start_time": "2022-05-12T06:22:23.428634Z"
    }
   },
   "outputs": [],
   "source": [
    "model.compile(\n",
    "    optimizer=optimizer,\n",
    "    loss = \"categorical_crossentropy\",\n",
    "    metrics=[\"accuracy\"]\n",
    ")"
   ]
  },
  {
   "cell_type": "markdown",
   "metadata": {},
   "source": [
    "### Data augmentation\n",
    "\n",
    "- expand artificially the data set to avoid the overfitting problem\n",
    "- alter training data with small transformations to reproduce the variations occuring when someone is writing a letter.\n"
   ]
  },
  {
   "cell_type": "code",
   "execution_count": 20,
   "metadata": {
    "ExecuteTime": {
     "end_time": "2022-05-12T06:22:23.453453Z",
     "start_time": "2022-05-12T06:22:23.450772Z"
    }
   },
   "outputs": [],
   "source": [
    "datagen = ImageDataGenerator(\n",
    "    rotation_range=10, # randomly rotate images in the range (degrees, 0 to 180)\n",
    "    zoom_range = 0.1,  # randomly zoom image \n",
    "    width_shift_range=0.1, # randomly shift images horizontally (fraction of total width)\n",
    "    height_shift_range=0.1,  # randomly shift images vertically (fraction of total height)\n",
    "    horizontal_flip=False,\n",
    "    vertical_flip=False\n",
    ")"
   ]
  },
  {
   "cell_type": "code",
   "execution_count": 21,
   "metadata": {
    "ExecuteTime": {
     "end_time": "2022-05-12T06:22:23.487223Z",
     "start_time": "2022-05-12T06:22:23.454946Z"
    }
   },
   "outputs": [
    {
     "name": "stdout",
     "output_type": "stream",
     "text": [
      "(10080, 32, 32, 1)\n"
     ]
    }
   ],
   "source": [
    "datagen.fit(train_data)\n",
    "print(train_data.shape)"
   ]
  },
  {
   "cell_type": "markdown",
   "metadata": {},
   "source": [
    "### Fitting the CNN to the training data"
   ]
  },
  {
   "cell_type": "code",
   "execution_count": 22,
   "metadata": {},
   "outputs": [
    {
     "name": "stdout",
     "output_type": "stream",
     "text": [
      "[[0. 0. 0. ... 0. 0. 1.]\n",
      " [0. 0. 0. ... 0. 0. 0.]\n",
      " [0. 0. 0. ... 1. 0. 0.]\n",
      " ...\n",
      " [0. 0. 0. ... 0. 0. 1.]\n",
      " [0. 0. 0. ... 0. 0. 0.]\n",
      " [0. 0. 0. ... 0. 0. 0.]]\n"
     ]
    }
   ],
   "source": [
    "print(train_label)"
   ]
  },
  {
   "cell_type": "code",
   "execution_count": 23,
   "metadata": {
    "ExecuteTime": {
     "end_time": "2022-05-12T06:23:12.091998Z",
     "start_time": "2022-05-12T06:22:23.489267Z"
    }
   },
   "outputs": [
    {
     "name": "stdout",
     "output_type": "stream",
     "text": [
      "Metal device set to: Apple M1\n",
      "\n",
      "systemMemory: 8.00 GB\n",
      "maxCacheSize: 2.67 GB\n",
      "\n"
     ]
    },
    {
     "name": "stderr",
     "output_type": "stream",
     "text": [
      "/var/folders/9v/c16ht93j5zndjmhbp9pcxzqr0000gn/T/ipykernel_56195/2150141556.py:1: UserWarning: `model.fit_generator` is deprecated and will be removed in a future version. Please use `Model.fit`, which supports generators.\n",
      "  history = model.fit_generator(\n",
      "2022-05-28 14:50:26.090837: I tensorflow/core/common_runtime/pluggable_device/pluggable_device_factory.cc:305] Could not identify NUMA node of platform GPU ID 0, defaulting to 0. Your kernel may not have been built with NUMA support.\n",
      "2022-05-28 14:50:26.090995: I tensorflow/core/common_runtime/pluggable_device/pluggable_device_factory.cc:271] Created TensorFlow device (/job:localhost/replica:0/task:0/device:GPU:0 with 0 MB memory) -> physical PluggableDevice (device: 0, name: METAL, pci bus id: <undefined>)\n",
      "2022-05-28 14:50:26.102735: W tensorflow/core/platform/profile_utils/cpu_utils.cc:128] Failed to get CPU frequency: 0 Hz\n",
      "2022-05-28 14:50:26.103050: I tensorflow/core/grappler/optimizers/custom_graph_optimizer_registry.cc:113] Plugin optimizer for device_type GPU is enabled.\n",
      "2022-05-28 14:50:26.118829: I tensorflow/core/grappler/optimizers/custom_graph_optimizer_registry.cc:113] Plugin optimizer for device_type GPU is enabled.\n"
     ]
    },
    {
     "name": "stdout",
     "output_type": "stream",
     "text": [
      "Epoch 1/30\n"
     ]
    },
    {
     "name": "stderr",
     "output_type": "stream",
     "text": [
      "2022-05-28 14:50:26.401083: I tensorflow/core/grappler/optimizers/custom_graph_optimizer_registry.cc:113] Plugin optimizer for device_type GPU is enabled.\n",
      "2022-05-28 14:50:26.564560: I tensorflow/core/grappler/optimizers/custom_graph_optimizer_registry.cc:113] Plugin optimizer for device_type GPU is enabled.\n",
      "2022-05-28 14:50:26.577124: I tensorflow/core/grappler/optimizers/custom_graph_optimizer_registry.cc:113] Plugin optimizer for device_type GPU is enabled.\n",
      "2022-05-28 14:50:26.596630: I tensorflow/core/grappler/optimizers/custom_graph_optimizer_registry.cc:113] Plugin optimizer for device_type GPU is enabled.\n"
     ]
    },
    {
     "name": "stdout",
     "output_type": "stream",
     "text": [
      " 99/100 [============================>.] - ETA: 0s - batch: 49.0000 - size: 99.7980 - loss: 2.7647 - acc: 0.1763"
     ]
    },
    {
     "name": "stderr",
     "output_type": "stream",
     "text": [
      "/Users/yourlogarithm/.miniforge3/envs/ml/lib/python3.8/site-packages/keras/engine/training_v1.py:2057: UserWarning: `Model.state_updates` will be removed in a future version. This property should not be used in TensorFlow 2.0, as `updates` are applied automatically.\n",
      "  updates = self.state_updates\n",
      "2022-05-28 14:50:31.593213: I tensorflow/core/grappler/optimizers/custom_graph_optimizer_registry.cc:113] Plugin optimizer for device_type GPU is enabled.\n"
     ]
    },
    {
     "name": "stdout",
     "output_type": "stream",
     "text": [
      "100/100 [==============================] - 6s 41ms/step - batch: 49.5000 - size: 99.8000 - loss: 2.7573 - acc: 0.1781 - val_loss: 1.4621 - val_acc: 0.5226\n",
      "Epoch 2/30\n",
      "100/100 [==============================] - 4s 37ms/step - batch: 49.5000 - size: 99.8000 - loss: 1.6372 - acc: 0.4499 - val_loss: 1.1665 - val_acc: 0.5994\n",
      "Epoch 3/30\n",
      "100/100 [==============================] - 4s 37ms/step - batch: 49.5000 - size: 99.8000 - loss: 1.1763 - acc: 0.5988 - val_loss: 0.6879 - val_acc: 0.7560\n",
      "Epoch 4/30\n",
      "100/100 [==============================] - 4s 37ms/step - batch: 49.5000 - size: 100.0000 - loss: 0.8966 - acc: 0.6932 - val_loss: 0.4593 - val_acc: 0.8378\n",
      "Epoch 5/30\n",
      "100/100 [==============================] - 4s 37ms/step - batch: 49.5000 - size: 99.6000 - loss: 0.7281 - acc: 0.7549 - val_loss: 0.3770 - val_acc: 0.8744\n",
      "Epoch 6/30\n",
      "100/100 [==============================] - 4s 37ms/step - batch: 49.5000 - size: 99.8000 - loss: 0.6078 - acc: 0.7958 - val_loss: 0.4030 - val_acc: 0.8625\n",
      "Epoch 7/30\n",
      "100/100 [==============================] - 4s 37ms/step - batch: 49.5000 - size: 99.8000 - loss: 0.5205 - acc: 0.8243 - val_loss: 0.2318 - val_acc: 0.9223\n",
      "Epoch 8/30\n",
      "100/100 [==============================] - 4s 37ms/step - batch: 49.5000 - size: 99.8000 - loss: 0.4633 - acc: 0.8473 - val_loss: 0.3763 - val_acc: 0.8771\n",
      "Epoch 9/30\n",
      "100/100 [==============================] - 4s 37ms/step - batch: 49.5000 - size: 99.8000 - loss: 0.4076 - acc: 0.8679 - val_loss: 0.2364 - val_acc: 0.9223\n",
      "Epoch 10/30\n",
      "100/100 [==============================] - 4s 37ms/step - batch: 49.5000 - size: 99.8000 - loss: 0.3714 - acc: 0.8779 - val_loss: 0.2069 - val_acc: 0.9307\n",
      "Epoch 11/30\n",
      "100/100 [==============================] - 4s 37ms/step - batch: 49.5000 - size: 99.8000 - loss: 0.3468 - acc: 0.8871 - val_loss: 0.2011 - val_acc: 0.9390\n",
      "Epoch 12/30\n",
      "100/100 [==============================] - 4s 38ms/step - batch: 49.5000 - size: 99.8000 - loss: 0.3170 - acc: 0.8956 - val_loss: 0.2008 - val_acc: 0.9363\n",
      "Epoch 13/30\n",
      "100/100 [==============================] - 4s 37ms/step - batch: 49.5000 - size: 99.8000 - loss: 0.2847 - acc: 0.9069 - val_loss: 0.2888 - val_acc: 0.9113\n",
      "Epoch 14/30\n",
      "100/100 [==============================] - 4s 37ms/step - batch: 49.5000 - size: 99.8000 - loss: 0.2574 - acc: 0.9155 - val_loss: 0.1948 - val_acc: 0.9360\n",
      "Epoch 15/30\n",
      "100/100 [==============================] - 4s 37ms/step - batch: 49.5000 - size: 99.8000 - loss: 0.2607 - acc: 0.9136 - val_loss: 0.1409 - val_acc: 0.9580\n",
      "Epoch 16/30\n",
      "100/100 [==============================] - 4s 37ms/step - batch: 49.5000 - size: 99.8000 - loss: 0.2254 - acc: 0.9285 - val_loss: 0.1526 - val_acc: 0.9506\n",
      "Epoch 17/30\n",
      "100/100 [==============================] - 4s 37ms/step - batch: 49.5000 - size: 99.8000 - loss: 0.2198 - acc: 0.9319 - val_loss: 0.1425 - val_acc: 0.9565\n",
      "Epoch 18/30\n",
      "100/100 [==============================] - 4s 37ms/step - batch: 49.5000 - size: 99.8000 - loss: 0.2079 - acc: 0.9356 - val_loss: 0.1330 - val_acc: 0.9610\n",
      "Epoch 19/30\n",
      "100/100 [==============================] - 4s 37ms/step - batch: 49.5000 - size: 99.8000 - loss: 0.2018 - acc: 0.9357 - val_loss: 0.1123 - val_acc: 0.9634\n",
      "Epoch 20/30\n",
      "100/100 [==============================] - 4s 40ms/step - batch: 49.5000 - size: 99.8000 - loss: 0.1821 - acc: 0.9416 - val_loss: 0.1089 - val_acc: 0.9676\n",
      "Epoch 21/30\n",
      "100/100 [==============================] - 4s 38ms/step - batch: 49.5000 - size: 99.8000 - loss: 0.1829 - acc: 0.9424 - val_loss: 0.1089 - val_acc: 0.9696\n",
      "Epoch 22/30\n",
      "100/100 [==============================] - 4s 38ms/step - batch: 49.5000 - size: 100.0000 - loss: 0.1718 - acc: 0.9461 - val_loss: 0.1320 - val_acc: 0.9628\n",
      "Epoch 23/30\n",
      "100/100 [==============================] - 4s 38ms/step - batch: 49.5000 - size: 99.8000 - loss: 0.1692 - acc: 0.9513 - val_loss: 0.1284 - val_acc: 0.9646\n",
      "Epoch 24/30\n",
      "100/100 [==============================] - 4s 38ms/step - batch: 49.5000 - size: 99.8000 - loss: 0.1609 - acc: 0.9473 - val_loss: 0.1094 - val_acc: 0.9685\n",
      "Epoch 25/30\n",
      "100/100 [==============================] - 4s 38ms/step - batch: 49.5000 - size: 99.6000 - loss: 0.1489 - acc: 0.9558 - val_loss: 0.1296 - val_acc: 0.9655\n",
      "Epoch 26/30\n",
      "100/100 [==============================] - 4s 38ms/step - batch: 49.5000 - size: 99.8000 - loss: 0.1648 - acc: 0.9484 - val_loss: 0.0955 - val_acc: 0.9750\n",
      "Epoch 27/30\n",
      "100/100 [==============================] - 4s 38ms/step - batch: 49.5000 - size: 99.8000 - loss: 0.1334 - acc: 0.9596 - val_loss: 0.1394 - val_acc: 0.9634\n",
      "Epoch 28/30\n",
      "100/100 [==============================] - 4s 38ms/step - batch: 49.5000 - size: 99.8000 - loss: 0.1415 - acc: 0.9540 - val_loss: 0.0953 - val_acc: 0.9738\n",
      "Epoch 29/30\n",
      "100/100 [==============================] - 4s 38ms/step - batch: 49.5000 - size: 99.8000 - loss: 0.1335 - acc: 0.9604 - val_loss: 0.1121 - val_acc: 0.9696\n",
      "Epoch 30/30\n",
      "100/100 [==============================] - 4s 38ms/step - batch: 49.5000 - size: 99.8000 - loss: 0.1302 - acc: 0.9609 - val_loss: 0.1186 - val_acc: 0.9690\n"
     ]
    }
   ],
   "source": [
    "history = model.fit_generator(\n",
    "    datagen.flow(train_data, train_label, batch_size=100),\n",
    "    epochs=30,\n",
    "    validation_data=(data_val, label_val),\n",
    "    verbose=1,\n",
    "    steps_per_epoch=train_data.shape[0] // 100,\n",
    ")\n"
   ]
  },
  {
   "cell_type": "code",
   "execution_count": 24,
   "metadata": {
    "ExecuteTime": {
     "end_time": "2022-05-12T06:23:12.616937Z",
     "start_time": "2022-05-12T06:23:12.101134Z"
    }
   },
   "outputs": [
    {
     "data": {
      "image/png": "[encoded data removed]",
      "text/plain": [
       "<Figure size 432x288 with 2 Axes>"
      ]
     },
     "metadata": {},
     "output_type": "display_data"
    }
   ],
   "source": [
    "fig, ax = plt.subplots(2, 1)\n",
    "ax[0].plot(history.history['loss'], color='b', label=\"Training loss\")\n",
    "ax[0].plot(history.history['val_loss'], color='r', label=\"Validation loss\", axes=ax[0])\n",
    "legend = ax[0].legend(loc='best', shadow=True)\n",
    "\n",
    "ax[1].plot(history.history['acc'], color='b', label=\"Training accuracy\")\n",
    "ax[1].plot(history.history['val_acc'], color='r', label=\"Validation accuracy\")\n",
    "legend = ax[1].legend(loc='best', shadow=True)\n"
   ]
  },
  {
   "cell_type": "markdown",
   "metadata": {},
   "source": [
    "### Making the predictions"
   ]
  },
  {
   "cell_type": "code",
   "execution_count": 25,
   "metadata": {
    "ExecuteTime": {
     "end_time": "2022-05-12T06:23:12.886831Z",
     "start_time": "2022-05-12T06:23:12.618905Z"
    }
   },
   "outputs": [
    {
     "name": "stderr",
     "output_type": "stream",
     "text": [
      "/Users/yourlogarithm/.miniforge3/envs/ml/lib/python3.8/site-packages/keras/engine/training_v1.py:2079: UserWarning: `Model.state_updates` will be removed in a future version. This property should not be used in TensorFlow 2.0, as `updates` are applied automatically.\n",
      "  updates=self.state_updates,\n",
      "2022-05-28 14:52:20.814793: I tensorflow/core/grappler/optimizers/custom_graph_optimizer_registry.cc:113] Plugin optimizer for device_type GPU is enabled.\n"
     ]
    }
   ],
   "source": [
    "predictions = model.predict(test_data)\n",
    "predictions = np.argmax(predictions, axis=1)"
   ]
  },
  {
   "cell_type": "markdown",
   "metadata": {},
   "source": [
    "#### Generating a confusion matrix\n",
    "###### What is a Confusion matrix?\n",
    "- A confusion matrix is a technique for summarizing the performance of a classification algorithm. Classification accuracy alone can be misleading if you have an unequal number of observations in each class or if you have more than two classes in your dataset. Calculating a confusion matrix can give you a better idea of what your classification model is getting right and what types of errors it is making."
   ]
  },
  {
   "cell_type": "code",
   "execution_count": 26,
   "metadata": {
    "ExecuteTime": {
     "end_time": "2022-05-12T11:07:08.423296Z",
     "start_time": "2022-05-12T11:07:08.404359Z"
    }
   },
   "outputs": [],
   "source": [
    "cm = confusion_matrix(test_label, predictions)"
   ]
  },
  {
   "cell_type": "code",
   "execution_count": 27,
   "metadata": {
    "ExecuteTime": {
     "end_time": "2022-05-12T11:07:09.152655Z",
     "start_time": "2022-05-12T11:07:09.146874Z"
    }
   },
   "outputs": [],
   "source": [
    "labels = [\"1\", \"2\", \"3\", \"4\", \"5\", \"6\", \"7\", \"8\", \"9\", \"10\", \n",
    "          \"11\", \"12\", \"13\", \"14\", \"15\", \"16\", \"17\", \"18\", \"19\", \"20\", \n",
    "          \"21\", \"22\", \"23\", \"24\", \"25\", \"26\", \"27\", \"28\"]"
   ]
  },
  {
   "cell_type": "code",
   "execution_count": 28,
   "metadata": {
    "ExecuteTime": {
     "end_time": "2022-05-12T11:07:12.753577Z",
     "start_time": "2022-05-12T11:07:09.883286Z"
    }
   },
   "outputs": [
    {
     "data": {
      "text/plain": [
       "<AxesSubplot:>"
      ]
     },
     "execution_count": 28,
     "metadata": {},
     "output_type": "execute_result"
    },
    {
     "data": {
      "image/png": "[encoded data removed]",
      "text/plain": [
       "<Figure size 2520x2520 with 2 Axes>"
      ]
     },
     "metadata": {},
     "output_type": "display_data"
    }
   ],
   "source": [
    "fig, ax = plt.subplots(figsize=(35, 35))\n",
    "sns.heatmap(cm, annot=True, linewidths=.5, ax=ax, fmt='')"
   ]
  },
  {
   "cell_type": "markdown",
   "metadata": {},
   "source": [
    "#### Calculating the accuracy\n",
    "- \"accuracy\" - metric function is used to evaluate the performance the model. This function usage is only for evaluation, the results are no used when training the model."
   ]
  },
  {
   "cell_type": "code",
   "execution_count": 29,
   "metadata": {
    "ExecuteTime": {
     "end_time": "2022-05-12T06:23:16.315785Z",
     "start_time": "2022-05-12T06:23:16.312213Z"
    }
   },
   "outputs": [
    {
     "name": "stdout",
     "output_type": "stream",
     "text": [
      "accuracy = 0.9732142857142857\n"
     ]
    }
   ],
   "source": [
    "accuracy = sum(cm[i][i] for i in range(28)) / test_label.shape[0]\n",
    "print(\"accuracy = \" + str(accuracy))"
   ]
  },
  {
   "cell_type": "code",
   "execution_count": 30,
   "metadata": {
    "ExecuteTime": {
     "end_time": "2022-05-12T11:08:46.327691Z",
     "start_time": "2022-05-12T11:08:46.323088Z"
    }
   },
   "outputs": [],
   "source": [
    "from sklearn.metrics import classification_report"
   ]
  },
  {
   "cell_type": "code",
   "execution_count": 31,
   "metadata": {
    "ExecuteTime": {
     "end_time": "2022-05-12T11:09:16.894780Z",
     "start_time": "2022-05-12T11:09:16.876070Z"
    }
   },
   "outputs": [
    {
     "name": "stdout",
     "output_type": "stream",
     "text": [
      "              precision    recall  f1-score   support\n",
      "\n",
      "           1       1.00      1.00      1.00       120\n",
      "           2       1.00      1.00      1.00       120\n",
      "           3       0.94      1.00      0.97       120\n",
      "           4       1.00      0.93      0.96       120\n",
      "           5       0.98      0.99      0.99       120\n",
      "           6       0.96      0.99      0.98       120\n",
      "           7       0.93      0.97      0.95       120\n",
      "           8       0.94      1.00      0.97       120\n",
      "           9       0.96      0.93      0.95       120\n",
      "          10       0.94      0.99      0.96       120\n",
      "          11       0.97      0.91      0.94       120\n",
      "          12       0.99      0.99      0.99       120\n",
      "          13       0.99      0.98      0.99       120\n",
      "          14       0.95      0.98      0.97       120\n",
      "          15       0.97      0.95      0.96       120\n",
      "          16       0.93      1.00      0.96       120\n",
      "          17       1.00      0.93      0.97       120\n",
      "          18       1.00      0.95      0.97       120\n",
      "          19       1.00      0.95      0.97       120\n",
      "          20       0.94      0.99      0.96       120\n",
      "          21       0.99      0.93      0.96       120\n",
      "          22       0.98      0.99      0.98       120\n",
      "          23       1.00      0.99      1.00       120\n",
      "          24       0.99      0.99      0.99       120\n",
      "          25       0.97      0.96      0.97       120\n",
      "          26       0.97      0.98      0.98       120\n",
      "          27       0.98      0.95      0.97       120\n",
      "          28       0.99      1.00      1.00       120\n",
      "\n",
      "    accuracy                           0.97      3360\n",
      "   macro avg       0.97      0.97      0.97      3360\n",
      "weighted avg       0.97      0.97      0.97      3360\n",
      "\n"
     ]
    }
   ],
   "source": [
    "print(classification_report(test_label, predictions, target_names=labels))"
   ]
  },
  {
   "cell_type": "markdown",
   "metadata": {},
   "source": [
    "## MNIST"
   ]
  },
  {
   "cell_type": "markdown",
   "metadata": {},
   "source": [
    "### Loading the dataset"
   ]
  },
  {
   "cell_type": "code",
   "execution_count": 32,
   "metadata": {
    "ExecuteTime": {
     "end_time": "2022-05-12T08:48:12.094496Z",
     "start_time": "2022-05-12T08:48:08.677068Z"
    }
   },
   "outputs": [],
   "source": [
    "train_data = pd.read_csv(\"dataset/mnist/train.csv\")\n",
    "test_data = pd.read_csv(\"dataset/mnist/test.csv\")"
   ]
  },
  {
   "cell_type": "code",
   "execution_count": 33,
   "metadata": {
    "ExecuteTime": {
     "end_time": "2022-05-12T08:48:12.255262Z",
     "start_time": "2022-05-12T08:48:12.096639Z"
    }
   },
   "outputs": [],
   "source": [
    "y_train = train_data['label']\n",
    "x_train = train_data.drop(labels = [\"label\"], axis=1)"
   ]
  },
  {
   "cell_type": "markdown",
   "metadata": {},
   "source": [
    "Labels are 10 digits numbers from 0 to 9."
   ]
  },
  {
   "cell_type": "code",
   "execution_count": 34,
   "metadata": {
    "ExecuteTime": {
     "end_time": "2022-05-12T08:48:12.276189Z",
     "start_time": "2022-05-12T08:48:12.257502Z"
    }
   },
   "outputs": [
    {
     "data": {
      "text/plain": [
       "1"
      ]
     },
     "execution_count": 34,
     "metadata": {},
     "output_type": "execute_result"
    }
   ],
   "source": [
    "y_train[0]"
   ]
  },
  {
   "cell_type": "code",
   "execution_count": 35,
   "metadata": {
    "ExecuteTime": {
     "end_time": "2022-05-12T08:48:12.456275Z",
     "start_time": "2022-05-12T08:48:12.277961Z"
    }
   },
   "outputs": [
    {
     "name": "stderr",
     "output_type": "stream",
     "text": [
      "/Users/yourlogarithm/.miniforge3/envs/ml/lib/python3.8/site-packages/seaborn/_decorators.py:36: FutureWarning: Pass the following variable as a keyword arg: x. From version 0.12, the only valid positional argument will be `data`, and passing other arguments without an explicit keyword will result in an error or misinterpretation.\n",
      "  warnings.warn(\n"
     ]
    },
    {
     "data": {
      "text/plain": [
       "1    4684\n",
       "7    4401\n",
       "3    4351\n",
       "9    4188\n",
       "2    4177\n",
       "6    4137\n",
       "0    4132\n",
       "4    4072\n",
       "8    4063\n",
       "5    3795\n",
       "Name: label, dtype: int64"
      ]
     },
     "execution_count": 35,
     "metadata": {},
     "output_type": "execute_result"
    },
    {
     "data": {
      "image/png": "[encoded data removed]",
      "text/plain": [
       "<Figure size 432x288 with 1 Axes>"
      ]
     },
     "metadata": {},
     "output_type": "display_data"
    }
   ],
   "source": [
    "g = sns.countplot(y_train)\n",
    "y_train.value_counts()"
   ]
  },
  {
   "cell_type": "markdown",
   "metadata": {},
   "source": [
    "### Check for null and missing values\n",
    "\n",
    "- check if there are corrupt images in the dataset"
   ]
  },
  {
   "cell_type": "code",
   "execution_count": 36,
   "metadata": {
    "ExecuteTime": {
     "end_time": "2022-05-12T06:23:20.415432Z",
     "start_time": "2022-05-12T06:23:20.022523Z"
    }
   },
   "outputs": [
    {
     "data": {
      "text/plain": [
       "count       784\n",
       "unique        1\n",
       "top       False\n",
       "freq        784\n",
       "dtype: object"
      ]
     },
     "execution_count": 36,
     "metadata": {},
     "output_type": "execute_result"
    }
   ],
   "source": [
    "x_train.isnull().any().describe()"
   ]
  },
  {
   "cell_type": "code",
   "execution_count": 37,
   "metadata": {
    "ExecuteTime": {
     "end_time": "2022-05-12T06:23:20.653806Z",
     "start_time": "2022-05-12T06:23:20.416972Z"
    }
   },
   "outputs": [
    {
     "data": {
      "text/plain": [
       "count       784\n",
       "unique        1\n",
       "top       False\n",
       "freq        784\n",
       "dtype: object"
      ]
     },
     "execution_count": 37,
     "metadata": {},
     "output_type": "execute_result"
    }
   ],
   "source": [
    "test_data.isnull().any().describe()"
   ]
  },
  {
   "cell_type": "markdown",
   "metadata": {},
   "source": [
    "### Dataset preprocessing"
   ]
  },
  {
   "cell_type": "markdown",
   "metadata": {},
   "source": [
    "#### Normalization"
   ]
  },
  {
   "cell_type": "code",
   "execution_count": 38,
   "metadata": {
    "ExecuteTime": {
     "end_time": "2022-05-12T06:23:21.317449Z",
     "start_time": "2022-05-12T06:23:20.655471Z"
    }
   },
   "outputs": [],
   "source": [
    "x_train = x_train / 255.0\n",
    "test_data = test_data / 255.0"
   ]
  },
  {
   "cell_type": "markdown",
   "metadata": {},
   "source": [
    "#### Reshape"
   ]
  },
  {
   "cell_type": "code",
   "execution_count": 39,
   "metadata": {
    "ExecuteTime": {
     "end_time": "2022-05-12T06:23:21.321768Z",
     "start_time": "2022-05-12T06:23:21.319161Z"
    }
   },
   "outputs": [],
   "source": [
    "# (height = 28px, width=28px, canal=1)\n",
    "x_train = x_train.values.reshape(-1, 28, 28, 1)\n",
    "test_data = test_data.values.reshape(-1, 28, 28, 1)"
   ]
  },
  {
   "cell_type": "markdown",
   "metadata": {},
   "source": [
    "#### Label enconding"
   ]
  },
  {
   "cell_type": "code",
   "execution_count": 40,
   "metadata": {
    "ExecuteTime": {
     "end_time": "2022-05-12T06:23:21.343827Z",
     "start_time": "2022-05-12T06:23:21.323239Z"
    }
   },
   "outputs": [],
   "source": [
    "# convert labels to one hot vectors\n",
    "from keras.utils.np_utils import to_categorical\n",
    "y_train = to_categorical(y_train, num_classes = 10)"
   ]
  },
  {
   "cell_type": "code",
   "execution_count": 41,
   "metadata": {
    "ExecuteTime": {
     "end_time": "2022-05-12T06:23:21.362232Z",
     "start_time": "2022-05-12T06:23:21.345627Z"
    }
   },
   "outputs": [
    {
     "data": {
      "text/plain": [
       "array([0., 1., 0., 0., 0., 0., 0., 0., 0., 0.], dtype=float32)"
      ]
     },
     "execution_count": 41,
     "metadata": {},
     "output_type": "execute_result"
    }
   ],
   "source": [
    "y_train[0]"
   ]
  },
  {
   "cell_type": "markdown",
   "metadata": {},
   "source": [
    "#### Split training and validation set"
   ]
  },
  {
   "cell_type": "markdown",
   "metadata": {},
   "source": [
    "Split the train data set in two parts: \n",
    "- 25% - validation set\n",
    "- 75% - train set"
   ]
  },
  {
   "cell_type": "code",
   "execution_count": 42,
   "metadata": {
    "ExecuteTime": {
     "end_time": "2022-05-12T06:23:21.882637Z",
     "start_time": "2022-05-12T06:23:21.363914Z"
    }
   },
   "outputs": [],
   "source": [
    "x_train, x_val, y_train, y_val = train_test_split(\n",
    "    x_train, \n",
    "    y_train, \n",
    "    test_size=0.25, \n",
    "    random_state=20, \n",
    "    shuffle=True\n",
    ")\n"
   ]
  },
  {
   "cell_type": "code",
   "execution_count": 43,
   "metadata": {},
   "outputs": [
    {
     "name": "stdout",
     "output_type": "stream",
     "text": [
      "(10500, 28, 28, 1)\n"
     ]
    }
   ],
   "source": [
    "print(x_val.shape)"
   ]
  },
  {
   "cell_type": "markdown",
   "metadata": {},
   "source": [
    "### Building the CNN\n",
    "\n",
    "#### Define the model\n"
   ]
  },
  {
   "cell_type": "code",
   "execution_count": 44,
   "metadata": {
    "ExecuteTime": {
     "end_time": "2022-05-12T06:23:21.886807Z",
     "start_time": "2022-05-12T06:23:21.884334Z"
    }
   },
   "outputs": [],
   "source": [
    "model = Sequential()"
   ]
  },
  {
   "cell_type": "code",
   "execution_count": 45,
   "metadata": {
    "ExecuteTime": {
     "end_time": "2022-05-12T06:23:21.932526Z",
     "start_time": "2022-05-12T06:23:21.888404Z"
    }
   },
   "outputs": [],
   "source": [
    "model.add(Conv2D(filters=32, kernel_size=(5, 5), padding=\"Same\", activation=\"relu\", input_shape=(28, 28, 1)))\n",
    "model.add(Conv2D(filters=32, kernel_size=(5, 5), padding=\"Same\", activation=\"relu\"))\n",
    "model.add(MaxPool2D(pool_size=(2, 2)))\n",
    "model.add(Dropout(0.25))\n",
    "model.add(Conv2D(filters=64, kernel_size=(3, 3), padding=\"Same\", activation=\"relu\"))\n",
    "model.add(Conv2D(filters=64, kernel_size=(3, 3), padding=\"Same\", activation=\"relu\"))\n",
    "model.add(MaxPool2D(pool_size=(2, 2)))\n",
    "model.add(Dropout(0.25))\n",
    "model.add(Flatten())\n",
    "model.add(Dense(256, activation = \"relu\"))\n",
    "model.add(Dropout(0.5))\n",
    "model.add(Dense(10, activation = \"softmax\"))"
   ]
  },
  {
   "cell_type": "markdown",
   "metadata": {},
   "source": [
    "#### Model summary"
   ]
  },
  {
   "cell_type": "code",
   "execution_count": 46,
   "metadata": {
    "ExecuteTime": {
     "end_time": "2022-05-12T06:23:22.098689Z",
     "start_time": "2022-05-12T06:23:22.091465Z"
    }
   },
   "outputs": [
    {
     "name": "stdout",
     "output_type": "stream",
     "text": [
      "Model: \"sequential_1\"\n",
      "_________________________________________________________________\n",
      " Layer (type)                Output Shape              Param #   \n",
      "=================================================================\n",
      " conv2d_4 (Conv2D)           (None, 28, 28, 32)        832       \n",
      "                                                                 \n",
      " conv2d_5 (Conv2D)           (None, 28, 28, 32)        25632     \n",
      "                                                                 \n",
      " max_pooling2d_2 (MaxPooling  (None, 14, 14, 32)       0         \n",
      " 2D)                                                             \n",
      "                                                                 \n",
      " dropout_3 (Dropout)         (None, 14, 14, 32)        0         \n",
      "                                                                 \n",
      " conv2d_6 (Conv2D)           (None, 14, 14, 64)        18496     \n",
      "                                                                 \n",
      " conv2d_7 (Conv2D)           (None, 14, 14, 64)        36928     \n",
      "                                                                 \n",
      " max_pooling2d_3 (MaxPooling  (None, 7, 7, 64)         0         \n",
      " 2D)                                                             \n",
      "                                                                 \n",
      " dropout_4 (Dropout)         (None, 7, 7, 64)          0         \n",
      "                                                                 \n",
      " flatten_1 (Flatten)         (None, 3136)              0         \n",
      "                                                                 \n",
      " dense_3 (Dense)             (None, 256)               803072    \n",
      "                                                                 \n",
      " dropout_5 (Dropout)         (None, 256)               0         \n",
      "                                                                 \n",
      " dense_4 (Dense)             (None, 10)                2570      \n",
      "                                                                 \n",
      "=================================================================\n",
      "Total params: 887,530\n",
      "Trainable params: 887,530\n",
      "Non-trainable params: 0\n",
      "_________________________________________________________________\n"
     ]
    }
   ],
   "source": [
    "model.summary()"
   ]
  },
  {
   "cell_type": "markdown",
   "metadata": {},
   "source": [
    "### Set the optimizer and LR\n",
    "   - SGD - (stochastic gradient descent) randomly picks one data point from the whole data set at each iteration to reduce the computations enormously."
   ]
  },
  {
   "cell_type": "code",
   "execution_count": 47,
   "metadata": {
    "ExecuteTime": {
     "end_time": "2022-05-12T06:23:22.157315Z",
     "start_time": "2022-05-12T06:23:22.100094Z"
    }
   },
   "outputs": [
    {
     "name": "stderr",
     "output_type": "stream",
     "text": [
      "/Users/yourlogarithm/.miniforge3/envs/ml/lib/python3.8/site-packages/keras/optimizer_v2/gradient_descent.py:102: UserWarning: The `lr` argument is deprecated, use `learning_rate` instead.\n",
      "  super(SGD, self).__init__(name, **kwargs)\n"
     ]
    }
   ],
   "source": [
    "model.compile(optimizer = SGD(lr=0.01), loss = \"categorical_crossentropy\", metrics=[\"accuracy\"])"
   ]
  },
  {
   "cell_type": "markdown",
   "metadata": {},
   "source": [
    "- ReduceLROnPlateau is used to reduce the learning rate by half if the accuracy is not improved after 3 epochs"
   ]
  },
  {
   "cell_type": "code",
   "execution_count": 48,
   "metadata": {
    "ExecuteTime": {
     "end_time": "2022-05-12T06:23:22.161182Z",
     "start_time": "2022-05-12T06:23:22.158727Z"
    }
   },
   "outputs": [],
   "source": [
    "learning_rate_reduction = ReduceLROnPlateau(\n",
    "    monitor=\"val_acc\", \n",
    "    patience=3, \n",
    "    verbose=1, \n",
    "    factor=0.5, \n",
    "    min_lr=0.00001\n",
    ")\n"
   ]
  },
  {
   "cell_type": "code",
   "execution_count": 49,
   "metadata": {
    "ExecuteTime": {
     "end_time": "2022-05-12T06:23:22.175933Z",
     "start_time": "2022-05-12T06:23:22.162809Z"
    }
   },
   "outputs": [],
   "source": [
    "epochs = 40\n",
    "batch_size = 64"
   ]
  },
  {
   "cell_type": "markdown",
   "metadata": {},
   "source": [
    "### Data augmentation"
   ]
  },
  {
   "cell_type": "code",
   "execution_count": 50,
   "metadata": {
    "ExecuteTime": {
     "end_time": "2022-05-12T06:23:22.330365Z",
     "start_time": "2022-05-12T06:23:22.178025Z"
    }
   },
   "outputs": [],
   "source": [
    "datagen = ImageDataGenerator(\n",
    "    rotation_range=10,  # randomly rotate images in the range (degrees, 0 to 180)\n",
    "    zoom_range=0.1,  # randomly zoom image\n",
    "    width_shift_range=0.1,  # randomly shift images horizontally (fraction of total width)\n",
    "    height_shift_range=0.1,  # randomly shift images vertically (fraction of total height)\n",
    "    horizontal_flip=False,\n",
    "    vertical_flip=False,\n",
    ")\n",
    "\n",
    "datagen.fit(x_train)\n"
   ]
  },
  {
   "cell_type": "markdown",
   "metadata": {},
   "source": [
    "### Fitting the model to train the data"
   ]
  },
  {
   "cell_type": "code",
   "execution_count": 51,
   "metadata": {
    "ExecuteTime": {
     "end_time": "2022-05-12T06:26:53.995034Z",
     "start_time": "2022-05-12T06:23:22.331966Z"
    }
   },
   "outputs": [
    {
     "name": "stdout",
     "output_type": "stream",
     "text": [
      "Epoch 1/40\n"
     ]
    },
    {
     "name": "stderr",
     "output_type": "stream",
     "text": [
      "/var/folders/9v/c16ht93j5zndjmhbp9pcxzqr0000gn/T/ipykernel_56195/1974673548.py:1: UserWarning: `model.fit_generator` is deprecated and will be removed in a future version. Please use `Model.fit`, which supports generators.\n",
      "  history = model.fit_generator(\n",
      "2022-05-28 14:52:25.466057: I tensorflow/core/grappler/optimizers/custom_graph_optimizer_registry.cc:113] Plugin optimizer for device_type GPU is enabled.\n",
      "2022-05-28 14:52:25.481624: I tensorflow/core/grappler/optimizers/custom_graph_optimizer_registry.cc:113] Plugin optimizer for device_type GPU is enabled.\n",
      "2022-05-28 14:52:25.549763: I tensorflow/core/grappler/optimizers/custom_graph_optimizer_registry.cc:113] Plugin optimizer for device_type GPU is enabled.\n",
      "2022-05-28 14:52:25.779875: I tensorflow/core/grappler/optimizers/custom_graph_optimizer_registry.cc:113] Plugin optimizer for device_type GPU is enabled.\n",
      "2022-05-28 14:52:25.794190: I tensorflow/core/grappler/optimizers/custom_graph_optimizer_registry.cc:113] Plugin optimizer for device_type GPU is enabled.\n",
      "2022-05-28 14:52:25.799957: I tensorflow/core/grappler/optimizers/custom_graph_optimizer_registry.cc:113] Plugin optimizer for device_type GPU is enabled.\n"
     ]
    },
    {
     "name": "stdout",
     "output_type": "stream",
     "text": [
      "490/492 [============================>.] - ETA: 0s - batch: 244.5000 - size: 63.8939 - loss: 2.0842 - acc: 0.2503"
     ]
    },
    {
     "name": "stderr",
     "output_type": "stream",
     "text": [
      "/Users/yourlogarithm/.miniforge3/envs/ml/lib/python3.8/site-packages/keras/engine/training_v1.py:2057: UserWarning: `Model.state_updates` will be removed in a future version. This property should not be used in TensorFlow 2.0, as `updates` are applied automatically.\n",
      "  updates = self.state_updates\n",
      "2022-05-28 14:52:35.493492: I tensorflow/core/grappler/optimizers/custom_graph_optimizer_registry.cc:113] Plugin optimizer for device_type GPU is enabled.\n"
     ]
    },
    {
     "name": "stdout",
     "output_type": "stream",
     "text": [
      "492/492 [==============================] - 12s 22ms/step - batch: 245.5000 - size: 63.8943 - loss: 2.0813 - acc: 0.2514 - val_loss: 0.8236 - val_acc: 0.7908 - lr: 0.0100\n",
      "Epoch 2/40\n",
      " 10/492 [..............................] - ETA: 8s - batch: 4.5000 - size: 64.0000 - loss: 1.4139 - acc: 0.5219   "
     ]
    },
    {
     "name": "stderr",
     "output_type": "stream",
     "text": [
      "2022-05-28 14:52:37.136006: I tensorflow/core/grappler/optimizers/custom_graph_optimizer_registry.cc:113] Plugin optimizer for device_type GPU is enabled.\n"
     ]
    },
    {
     "name": "stdout",
     "output_type": "stream",
     "text": [
      "181/492 [==========>...................] - ETA: 5s - batch: 90.0000 - size: 63.7127 - loss: 1.1643 - acc: 0.6178"
     ]
    },
    {
     "ename": "KeyboardInterrupt",
     "evalue": "",
     "output_type": "error",
     "traceback": [
      "\u001b[0;31m---------------------------------------------------------------------------\u001b[0m",
      "\u001b[0;31mKeyboardInterrupt\u001b[0m                         Traceback (most recent call last)",
      "\u001b[1;32m/Users/yourlogarithm/Projects/machine-learning/Bitdefender/labs/lab5/convolutional_nn_2022.ipynb Cell 90'\u001b[0m in \u001b[0;36m<cell line: 1>\u001b[0;34m()\u001b[0m\n\u001b[0;32m----> <a href='vscode-notebook-cell:/Users/yourlogarithm/Projects/machine-learning/Bitdefender/labs/lab5/convolutional_nn_2022.ipynb#ch0000088?line=0'>1</a>\u001b[0m history \u001b[39m=\u001b[39m model\u001b[39m.\u001b[39;49mfit_generator(\n\u001b[1;32m      <a href='vscode-notebook-cell:/Users/yourlogarithm/Projects/machine-learning/Bitdefender/labs/lab5/convolutional_nn_2022.ipynb#ch0000088?line=1'>2</a>\u001b[0m     datagen\u001b[39m.\u001b[39;49mflow(x_train, y_train, batch_size\u001b[39m=\u001b[39;49mbatch_size),\n\u001b[1;32m      <a href='vscode-notebook-cell:/Users/yourlogarithm/Projects/machine-learning/Bitdefender/labs/lab5/convolutional_nn_2022.ipynb#ch0000088?line=2'>3</a>\u001b[0m     epochs\u001b[39m=\u001b[39;49mepochs,\n\u001b[1;32m      <a href='vscode-notebook-cell:/Users/yourlogarithm/Projects/machine-learning/Bitdefender/labs/lab5/convolutional_nn_2022.ipynb#ch0000088?line=3'>4</a>\u001b[0m     validation_data\u001b[39m=\u001b[39;49m(x_val, y_val),\n\u001b[1;32m      <a href='vscode-notebook-cell:/Users/yourlogarithm/Projects/machine-learning/Bitdefender/labs/lab5/convolutional_nn_2022.ipynb#ch0000088?line=4'>5</a>\u001b[0m     verbose\u001b[39m=\u001b[39;49m\u001b[39m1\u001b[39;49m,\n\u001b[1;32m      <a href='vscode-notebook-cell:/Users/yourlogarithm/Projects/machine-learning/Bitdefender/labs/lab5/convolutional_nn_2022.ipynb#ch0000088?line=5'>6</a>\u001b[0m     steps_per_epoch\u001b[39m=\u001b[39;49mx_train\u001b[39m.\u001b[39;49mshape[\u001b[39m0\u001b[39;49m] \u001b[39m/\u001b[39;49m\u001b[39m/\u001b[39;49m batch_size,\n\u001b[1;32m      <a href='vscode-notebook-cell:/Users/yourlogarithm/Projects/machine-learning/Bitdefender/labs/lab5/convolutional_nn_2022.ipynb#ch0000088?line=6'>7</a>\u001b[0m     callbacks\u001b[39m=\u001b[39;49m[learning_rate_reduction],\n\u001b[1;32m      <a href='vscode-notebook-cell:/Users/yourlogarithm/Projects/machine-learning/Bitdefender/labs/lab5/convolutional_nn_2022.ipynb#ch0000088?line=7'>8</a>\u001b[0m )\n",
      "File \u001b[0;32m~/.miniforge3/envs/ml/lib/python3.8/site-packages/keras/engine/training_v1.py:1233\u001b[0m, in \u001b[0;36mModel.fit_generator\u001b[0;34m(self, generator, steps_per_epoch, epochs, verbose, callbacks, validation_data, validation_steps, validation_freq, class_weight, max_queue_size, workers, use_multiprocessing, shuffle, initial_epoch)\u001b[0m\n\u001b[1;32m   <a href='file:///Users/yourlogarithm/.miniforge3/envs/ml/lib/python3.8/site-packages/keras/engine/training_v1.py?line=1221'>1222</a>\u001b[0m \u001b[39m\"\"\"Fits the model on data yielded batch-by-batch by a Python generator.\u001b[39;00m\n\u001b[1;32m   <a href='file:///Users/yourlogarithm/.miniforge3/envs/ml/lib/python3.8/site-packages/keras/engine/training_v1.py?line=1222'>1223</a>\u001b[0m \n\u001b[1;32m   <a href='file:///Users/yourlogarithm/.miniforge3/envs/ml/lib/python3.8/site-packages/keras/engine/training_v1.py?line=1223'>1224</a>\u001b[0m \u001b[39mDEPRECATED:\u001b[39;00m\n\u001b[1;32m   <a href='file:///Users/yourlogarithm/.miniforge3/envs/ml/lib/python3.8/site-packages/keras/engine/training_v1.py?line=1224'>1225</a>\u001b[0m \u001b[39m  `Model.fit` now supports generators, so there is no longer any need to use\u001b[39;00m\n\u001b[1;32m   <a href='file:///Users/yourlogarithm/.miniforge3/envs/ml/lib/python3.8/site-packages/keras/engine/training_v1.py?line=1225'>1226</a>\u001b[0m \u001b[39m  this endpoint.\u001b[39;00m\n\u001b[1;32m   <a href='file:///Users/yourlogarithm/.miniforge3/envs/ml/lib/python3.8/site-packages/keras/engine/training_v1.py?line=1226'>1227</a>\u001b[0m \u001b[39m\"\"\"\u001b[39;00m\n\u001b[1;32m   <a href='file:///Users/yourlogarithm/.miniforge3/envs/ml/lib/python3.8/site-packages/keras/engine/training_v1.py?line=1227'>1228</a>\u001b[0m warnings\u001b[39m.\u001b[39mwarn(\n\u001b[1;32m   <a href='file:///Users/yourlogarithm/.miniforge3/envs/ml/lib/python3.8/site-packages/keras/engine/training_v1.py?line=1228'>1229</a>\u001b[0m     \u001b[39m'\u001b[39m\u001b[39m`model.fit_generator` is deprecated and \u001b[39m\u001b[39m'\u001b[39m\n\u001b[1;32m   <a href='file:///Users/yourlogarithm/.miniforge3/envs/ml/lib/python3.8/site-packages/keras/engine/training_v1.py?line=1229'>1230</a>\u001b[0m     \u001b[39m'\u001b[39m\u001b[39mwill be removed in a future version. \u001b[39m\u001b[39m'\u001b[39m\n\u001b[1;32m   <a href='file:///Users/yourlogarithm/.miniforge3/envs/ml/lib/python3.8/site-packages/keras/engine/training_v1.py?line=1230'>1231</a>\u001b[0m     \u001b[39m'\u001b[39m\u001b[39mPlease use `Model.fit`, which supports generators.\u001b[39m\u001b[39m'\u001b[39m,\n\u001b[1;32m   <a href='file:///Users/yourlogarithm/.miniforge3/envs/ml/lib/python3.8/site-packages/keras/engine/training_v1.py?line=1231'>1232</a>\u001b[0m     stacklevel\u001b[39m=\u001b[39m\u001b[39m2\u001b[39m)\n\u001b[0;32m-> <a href='file:///Users/yourlogarithm/.miniforge3/envs/ml/lib/python3.8/site-packages/keras/engine/training_v1.py?line=1232'>1233</a>\u001b[0m \u001b[39mreturn\u001b[39;00m \u001b[39mself\u001b[39;49m\u001b[39m.\u001b[39;49mfit(\n\u001b[1;32m   <a href='file:///Users/yourlogarithm/.miniforge3/envs/ml/lib/python3.8/site-packages/keras/engine/training_v1.py?line=1233'>1234</a>\u001b[0m     generator,\n\u001b[1;32m   <a href='file:///Users/yourlogarithm/.miniforge3/envs/ml/lib/python3.8/site-packages/keras/engine/training_v1.py?line=1234'>1235</a>\u001b[0m     steps_per_epoch\u001b[39m=\u001b[39;49msteps_per_epoch,\n\u001b[1;32m   <a href='file:///Users/yourlogarithm/.miniforge3/envs/ml/lib/python3.8/site-packages/keras/engine/training_v1.py?line=1235'>1236</a>\u001b[0m     epochs\u001b[39m=\u001b[39;49mepochs,\n\u001b[1;32m   <a href='file:///Users/yourlogarithm/.miniforge3/envs/ml/lib/python3.8/site-packages/keras/engine/training_v1.py?line=1236'>1237</a>\u001b[0m     verbose\u001b[39m=\u001b[39;49mverbose,\n\u001b[1;32m   <a href='file:///Users/yourlogarithm/.miniforge3/envs/ml/lib/python3.8/site-packages/keras/engine/training_v1.py?line=1237'>1238</a>\u001b[0m     callbacks\u001b[39m=\u001b[39;49mcallbacks,\n\u001b[1;32m   <a href='file:///Users/yourlogarithm/.miniforge3/envs/ml/lib/python3.8/site-packages/keras/engine/training_v1.py?line=1238'>1239</a>\u001b[0m     validation_data\u001b[39m=\u001b[39;49mvalidation_data,\n\u001b[1;32m   <a href='file:///Users/yourlogarithm/.miniforge3/envs/ml/lib/python3.8/site-packages/keras/engine/training_v1.py?line=1239'>1240</a>\u001b[0m     validation_steps\u001b[39m=\u001b[39;49mvalidation_steps,\n\u001b[1;32m   <a href='file:///Users/yourlogarithm/.miniforge3/envs/ml/lib/python3.8/site-packages/keras/engine/training_v1.py?line=1240'>1241</a>\u001b[0m     validation_freq\u001b[39m=\u001b[39;49mvalidation_freq,\n\u001b[1;32m   <a href='file:///Users/yourlogarithm/.miniforge3/envs/ml/lib/python3.8/site-packages/keras/engine/training_v1.py?line=1241'>1242</a>\u001b[0m     class_weight\u001b[39m=\u001b[39;49mclass_weight,\n\u001b[1;32m   <a href='file:///Users/yourlogarithm/.miniforge3/envs/ml/lib/python3.8/site-packages/keras/engine/training_v1.py?line=1242'>1243</a>\u001b[0m     max_queue_size\u001b[39m=\u001b[39;49mmax_queue_size,\n\u001b[1;32m   <a href='file:///Users/yourlogarithm/.miniforge3/envs/ml/lib/python3.8/site-packages/keras/engine/training_v1.py?line=1243'>1244</a>\u001b[0m     workers\u001b[39m=\u001b[39;49mworkers,\n\u001b[1;32m   <a href='file:///Users/yourlogarithm/.miniforge3/envs/ml/lib/python3.8/site-packages/keras/engine/training_v1.py?line=1244'>1245</a>\u001b[0m     use_multiprocessing\u001b[39m=\u001b[39;49muse_multiprocessing,\n\u001b[1;32m   <a href='file:///Users/yourlogarithm/.miniforge3/envs/ml/lib/python3.8/site-packages/keras/engine/training_v1.py?line=1245'>1246</a>\u001b[0m     shuffle\u001b[39m=\u001b[39;49mshuffle,\n\u001b[1;32m   <a href='file:///Users/yourlogarithm/.miniforge3/envs/ml/lib/python3.8/site-packages/keras/engine/training_v1.py?line=1246'>1247</a>\u001b[0m     initial_epoch\u001b[39m=\u001b[39;49minitial_epoch)\n",
      "File \u001b[0;32m~/.miniforge3/envs/ml/lib/python3.8/site-packages/keras/engine/training_v1.py:777\u001b[0m, in \u001b[0;36mModel.fit\u001b[0;34m(self, x, y, batch_size, epochs, verbose, callbacks, validation_split, validation_data, shuffle, class_weight, sample_weight, initial_epoch, steps_per_epoch, validation_steps, validation_freq, max_queue_size, workers, use_multiprocessing, **kwargs)\u001b[0m\n\u001b[1;32m    <a href='file:///Users/yourlogarithm/.miniforge3/envs/ml/lib/python3.8/site-packages/keras/engine/training_v1.py?line=773'>774</a>\u001b[0m \u001b[39mself\u001b[39m\u001b[39m.\u001b[39m_check_call_args(\u001b[39m'\u001b[39m\u001b[39mfit\u001b[39m\u001b[39m'\u001b[39m)\n\u001b[1;32m    <a href='file:///Users/yourlogarithm/.miniforge3/envs/ml/lib/python3.8/site-packages/keras/engine/training_v1.py?line=775'>776</a>\u001b[0m func \u001b[39m=\u001b[39m \u001b[39mself\u001b[39m\u001b[39m.\u001b[39m_select_training_loop(x)\n\u001b[0;32m--> <a href='file:///Users/yourlogarithm/.miniforge3/envs/ml/lib/python3.8/site-packages/keras/engine/training_v1.py?line=776'>777</a>\u001b[0m \u001b[39mreturn\u001b[39;00m func\u001b[39m.\u001b[39;49mfit(\n\u001b[1;32m    <a href='file:///Users/yourlogarithm/.miniforge3/envs/ml/lib/python3.8/site-packages/keras/engine/training_v1.py?line=777'>778</a>\u001b[0m     \u001b[39mself\u001b[39;49m,\n\u001b[1;32m    <a href='file:///Users/yourlogarithm/.miniforge3/envs/ml/lib/python3.8/site-packages/keras/engine/training_v1.py?line=778'>779</a>\u001b[0m     x\u001b[39m=\u001b[39;49mx,\n\u001b[1;32m    <a href='file:///Users/yourlogarithm/.miniforge3/envs/ml/lib/python3.8/site-packages/keras/engine/training_v1.py?line=779'>780</a>\u001b[0m     y\u001b[39m=\u001b[39;49my,\n\u001b[1;32m    <a href='file:///Users/yourlogarithm/.miniforge3/envs/ml/lib/python3.8/site-packages/keras/engine/training_v1.py?line=780'>781</a>\u001b[0m     batch_size\u001b[39m=\u001b[39;49mbatch_size,\n\u001b[1;32m    <a href='file:///Users/yourlogarithm/.miniforge3/envs/ml/lib/python3.8/site-packages/keras/engine/training_v1.py?line=781'>782</a>\u001b[0m     epochs\u001b[39m=\u001b[39;49mepochs,\n\u001b[1;32m    <a href='file:///Users/yourlogarithm/.miniforge3/envs/ml/lib/python3.8/site-packages/keras/engine/training_v1.py?line=782'>783</a>\u001b[0m     verbose\u001b[39m=\u001b[39;49mverbose,\n\u001b[1;32m    <a href='file:///Users/yourlogarithm/.miniforge3/envs/ml/lib/python3.8/site-packages/keras/engine/training_v1.py?line=783'>784</a>\u001b[0m     callbacks\u001b[39m=\u001b[39;49mcallbacks,\n\u001b[1;32m    <a href='file:///Users/yourlogarithm/.miniforge3/envs/ml/lib/python3.8/site-packages/keras/engine/training_v1.py?line=784'>785</a>\u001b[0m     validation_split\u001b[39m=\u001b[39;49mvalidation_split,\n\u001b[1;32m    <a href='file:///Users/yourlogarithm/.miniforge3/envs/ml/lib/python3.8/site-packages/keras/engine/training_v1.py?line=785'>786</a>\u001b[0m     validation_data\u001b[39m=\u001b[39;49mvalidation_data,\n\u001b[1;32m    <a href='file:///Users/yourlogarithm/.miniforge3/envs/ml/lib/python3.8/site-packages/keras/engine/training_v1.py?line=786'>787</a>\u001b[0m     shuffle\u001b[39m=\u001b[39;49mshuffle,\n\u001b[1;32m    <a href='file:///Users/yourlogarithm/.miniforge3/envs/ml/lib/python3.8/site-packages/keras/engine/training_v1.py?line=787'>788</a>\u001b[0m     class_weight\u001b[39m=\u001b[39;49mclass_weight,\n\u001b[1;32m    <a href='file:///Users/yourlogarithm/.miniforge3/envs/ml/lib/python3.8/site-packages/keras/engine/training_v1.py?line=788'>789</a>\u001b[0m     sample_weight\u001b[39m=\u001b[39;49msample_weight,\n\u001b[1;32m    <a href='file:///Users/yourlogarithm/.miniforge3/envs/ml/lib/python3.8/site-packages/keras/engine/training_v1.py?line=789'>790</a>\u001b[0m     initial_epoch\u001b[39m=\u001b[39;49minitial_epoch,\n\u001b[1;32m    <a href='file:///Users/yourlogarithm/.miniforge3/envs/ml/lib/python3.8/site-packages/keras/engine/training_v1.py?line=790'>791</a>\u001b[0m     steps_per_epoch\u001b[39m=\u001b[39;49msteps_per_epoch,\n\u001b[1;32m    <a href='file:///Users/yourlogarithm/.miniforge3/envs/ml/lib/python3.8/site-packages/keras/engine/training_v1.py?line=791'>792</a>\u001b[0m     validation_steps\u001b[39m=\u001b[39;49mvalidation_steps,\n\u001b[1;32m    <a href='file:///Users/yourlogarithm/.miniforge3/envs/ml/lib/python3.8/site-packages/keras/engine/training_v1.py?line=792'>793</a>\u001b[0m     validation_freq\u001b[39m=\u001b[39;49mvalidation_freq,\n\u001b[1;32m    <a href='file:///Users/yourlogarithm/.miniforge3/envs/ml/lib/python3.8/site-packages/keras/engine/training_v1.py?line=793'>794</a>\u001b[0m     max_queue_size\u001b[39m=\u001b[39;49mmax_queue_size,\n\u001b[1;32m    <a href='file:///Users/yourlogarithm/.miniforge3/envs/ml/lib/python3.8/site-packages/keras/engine/training_v1.py?line=794'>795</a>\u001b[0m     workers\u001b[39m=\u001b[39;49mworkers,\n\u001b[1;32m    <a href='file:///Users/yourlogarithm/.miniforge3/envs/ml/lib/python3.8/site-packages/keras/engine/training_v1.py?line=795'>796</a>\u001b[0m     use_multiprocessing\u001b[39m=\u001b[39;49muse_multiprocessing)\n",
      "File \u001b[0;32m~/.miniforge3/envs/ml/lib/python3.8/site-packages/keras/engine/training_generator_v1.py:570\u001b[0m, in \u001b[0;36mGeneratorOrSequenceTrainingLoop.fit\u001b[0;34m(self, model, x, y, batch_size, epochs, verbose, callbacks, validation_split, validation_data, shuffle, class_weight, sample_weight, initial_epoch, steps_per_epoch, validation_steps, validation_freq, max_queue_size, workers, use_multiprocessing)\u001b[0m\n\u001b[1;32m    <a href='file:///Users/yourlogarithm/.miniforge3/envs/ml/lib/python3.8/site-packages/keras/engine/training_generator_v1.py?line=566'>567</a>\u001b[0m model\u001b[39m.\u001b[39m_validate_or_infer_batch_size(batch_size, steps_per_epoch, x)\n\u001b[1;32m    <a href='file:///Users/yourlogarithm/.miniforge3/envs/ml/lib/python3.8/site-packages/keras/engine/training_generator_v1.py?line=567'>568</a>\u001b[0m training_utils_v1\u001b[39m.\u001b[39mcheck_generator_arguments(\n\u001b[1;32m    <a href='file:///Users/yourlogarithm/.miniforge3/envs/ml/lib/python3.8/site-packages/keras/engine/training_generator_v1.py?line=568'>569</a>\u001b[0m     y, sample_weight, validation_split\u001b[39m=\u001b[39mvalidation_split)\n\u001b[0;32m--> <a href='file:///Users/yourlogarithm/.miniforge3/envs/ml/lib/python3.8/site-packages/keras/engine/training_generator_v1.py?line=569'>570</a>\u001b[0m \u001b[39mreturn\u001b[39;00m fit_generator(\n\u001b[1;32m    <a href='file:///Users/yourlogarithm/.miniforge3/envs/ml/lib/python3.8/site-packages/keras/engine/training_generator_v1.py?line=570'>571</a>\u001b[0m     model,\n\u001b[1;32m    <a href='file:///Users/yourlogarithm/.miniforge3/envs/ml/lib/python3.8/site-packages/keras/engine/training_generator_v1.py?line=571'>572</a>\u001b[0m     x,\n\u001b[1;32m    <a href='file:///Users/yourlogarithm/.miniforge3/envs/ml/lib/python3.8/site-packages/keras/engine/training_generator_v1.py?line=572'>573</a>\u001b[0m     steps_per_epoch\u001b[39m=\u001b[39;49msteps_per_epoch,\n\u001b[1;32m    <a href='file:///Users/yourlogarithm/.miniforge3/envs/ml/lib/python3.8/site-packages/keras/engine/training_generator_v1.py?line=573'>574</a>\u001b[0m     epochs\u001b[39m=\u001b[39;49mepochs,\n\u001b[1;32m    <a href='file:///Users/yourlogarithm/.miniforge3/envs/ml/lib/python3.8/site-packages/keras/engine/training_generator_v1.py?line=574'>575</a>\u001b[0m     verbose\u001b[39m=\u001b[39;49mverbose,\n\u001b[1;32m    <a href='file:///Users/yourlogarithm/.miniforge3/envs/ml/lib/python3.8/site-packages/keras/engine/training_generator_v1.py?line=575'>576</a>\u001b[0m     callbacks\u001b[39m=\u001b[39;49mcallbacks,\n\u001b[1;32m    <a href='file:///Users/yourlogarithm/.miniforge3/envs/ml/lib/python3.8/site-packages/keras/engine/training_generator_v1.py?line=576'>577</a>\u001b[0m     validation_data\u001b[39m=\u001b[39;49mvalidation_data,\n\u001b[1;32m    <a href='file:///Users/yourlogarithm/.miniforge3/envs/ml/lib/python3.8/site-packages/keras/engine/training_generator_v1.py?line=577'>578</a>\u001b[0m     validation_steps\u001b[39m=\u001b[39;49mvalidation_steps,\n\u001b[1;32m    <a href='file:///Users/yourlogarithm/.miniforge3/envs/ml/lib/python3.8/site-packages/keras/engine/training_generator_v1.py?line=578'>579</a>\u001b[0m     validation_freq\u001b[39m=\u001b[39;49mvalidation_freq,\n\u001b[1;32m    <a href='file:///Users/yourlogarithm/.miniforge3/envs/ml/lib/python3.8/site-packages/keras/engine/training_generator_v1.py?line=579'>580</a>\u001b[0m     class_weight\u001b[39m=\u001b[39;49mclass_weight,\n\u001b[1;32m    <a href='file:///Users/yourlogarithm/.miniforge3/envs/ml/lib/python3.8/site-packages/keras/engine/training_generator_v1.py?line=580'>581</a>\u001b[0m     max_queue_size\u001b[39m=\u001b[39;49mmax_queue_size,\n\u001b[1;32m    <a href='file:///Users/yourlogarithm/.miniforge3/envs/ml/lib/python3.8/site-packages/keras/engine/training_generator_v1.py?line=581'>582</a>\u001b[0m     workers\u001b[39m=\u001b[39;49mworkers,\n\u001b[1;32m    <a href='file:///Users/yourlogarithm/.miniforge3/envs/ml/lib/python3.8/site-packages/keras/engine/training_generator_v1.py?line=582'>583</a>\u001b[0m     use_multiprocessing\u001b[39m=\u001b[39;49muse_multiprocessing,\n\u001b[1;32m    <a href='file:///Users/yourlogarithm/.miniforge3/envs/ml/lib/python3.8/site-packages/keras/engine/training_generator_v1.py?line=583'>584</a>\u001b[0m     shuffle\u001b[39m=\u001b[39;49mshuffle,\n\u001b[1;32m    <a href='file:///Users/yourlogarithm/.miniforge3/envs/ml/lib/python3.8/site-packages/keras/engine/training_generator_v1.py?line=584'>585</a>\u001b[0m     initial_epoch\u001b[39m=\u001b[39;49minitial_epoch,\n\u001b[1;32m    <a href='file:///Users/yourlogarithm/.miniforge3/envs/ml/lib/python3.8/site-packages/keras/engine/training_generator_v1.py?line=585'>586</a>\u001b[0m     steps_name\u001b[39m=\u001b[39;49m\u001b[39m'\u001b[39;49m\u001b[39msteps_per_epoch\u001b[39;49m\u001b[39m'\u001b[39;49m)\n",
      "File \u001b[0;32m~/.miniforge3/envs/ml/lib/python3.8/site-packages/keras/engine/training_generator_v1.py:252\u001b[0m, in \u001b[0;36mmodel_iteration\u001b[0;34m(model, data, steps_per_epoch, epochs, verbose, callbacks, validation_data, validation_steps, validation_freq, class_weight, max_queue_size, workers, use_multiprocessing, shuffle, initial_epoch, mode, batch_size, steps_name, **kwargs)\u001b[0m\n\u001b[1;32m    <a href='file:///Users/yourlogarithm/.miniforge3/envs/ml/lib/python3.8/site-packages/keras/engine/training_generator_v1.py?line=248'>249</a>\u001b[0m callbacks\u001b[39m.\u001b[39m_call_batch_hook(mode, \u001b[39m'\u001b[39m\u001b[39mbegin\u001b[39m\u001b[39m'\u001b[39m, step, batch_logs)\n\u001b[1;32m    <a href='file:///Users/yourlogarithm/.miniforge3/envs/ml/lib/python3.8/site-packages/keras/engine/training_generator_v1.py?line=250'>251</a>\u001b[0m is_deferred \u001b[39m=\u001b[39m \u001b[39mnot\u001b[39;00m model\u001b[39m.\u001b[39m_is_compiled\n\u001b[0;32m--> <a href='file:///Users/yourlogarithm/.miniforge3/envs/ml/lib/python3.8/site-packages/keras/engine/training_generator_v1.py?line=251'>252</a>\u001b[0m batch_outs \u001b[39m=\u001b[39m batch_function(\u001b[39m*\u001b[39;49mbatch_data)\n\u001b[1;32m    <a href='file:///Users/yourlogarithm/.miniforge3/envs/ml/lib/python3.8/site-packages/keras/engine/training_generator_v1.py?line=252'>253</a>\u001b[0m \u001b[39mif\u001b[39;00m \u001b[39mnot\u001b[39;00m \u001b[39misinstance\u001b[39m(batch_outs, \u001b[39mlist\u001b[39m):\n\u001b[1;32m    <a href='file:///Users/yourlogarithm/.miniforge3/envs/ml/lib/python3.8/site-packages/keras/engine/training_generator_v1.py?line=253'>254</a>\u001b[0m   batch_outs \u001b[39m=\u001b[39m [batch_outs]\n",
      "File \u001b[0;32m~/.miniforge3/envs/ml/lib/python3.8/site-packages/keras/engine/training_v1.py:1076\u001b[0m, in \u001b[0;36mModel.train_on_batch\u001b[0;34m(self, x, y, sample_weight, class_weight, reset_metrics)\u001b[0m\n\u001b[1;32m   <a href='file:///Users/yourlogarithm/.miniforge3/envs/ml/lib/python3.8/site-packages/keras/engine/training_v1.py?line=1073'>1074</a>\u001b[0m   \u001b[39mself\u001b[39m\u001b[39m.\u001b[39m_update_sample_weight_modes(sample_weights\u001b[39m=\u001b[39msample_weights)\n\u001b[1;32m   <a href='file:///Users/yourlogarithm/.miniforge3/envs/ml/lib/python3.8/site-packages/keras/engine/training_v1.py?line=1074'>1075</a>\u001b[0m   \u001b[39mself\u001b[39m\u001b[39m.\u001b[39m_make_train_function()\n\u001b[0;32m-> <a href='file:///Users/yourlogarithm/.miniforge3/envs/ml/lib/python3.8/site-packages/keras/engine/training_v1.py?line=1075'>1076</a>\u001b[0m   outputs \u001b[39m=\u001b[39m \u001b[39mself\u001b[39;49m\u001b[39m.\u001b[39;49mtrain_function(ins)  \u001b[39m# pylint: disable=not-callable\u001b[39;00m\n\u001b[1;32m   <a href='file:///Users/yourlogarithm/.miniforge3/envs/ml/lib/python3.8/site-packages/keras/engine/training_v1.py?line=1077'>1078</a>\u001b[0m \u001b[39mif\u001b[39;00m reset_metrics:\n\u001b[1;32m   <a href='file:///Users/yourlogarithm/.miniforge3/envs/ml/lib/python3.8/site-packages/keras/engine/training_v1.py?line=1078'>1079</a>\u001b[0m   \u001b[39mself\u001b[39m\u001b[39m.\u001b[39mreset_metrics()\n",
      "File \u001b[0;32m~/.miniforge3/envs/ml/lib/python3.8/site-packages/keras/backend.py:4275\u001b[0m, in \u001b[0;36mGraphExecutionFunction.__call__\u001b[0;34m(self, inputs)\u001b[0m\n\u001b[1;32m   <a href='file:///Users/yourlogarithm/.miniforge3/envs/ml/lib/python3.8/site-packages/keras/backend.py?line=4268'>4269</a>\u001b[0m \u001b[39mif\u001b[39;00m (\u001b[39mself\u001b[39m\u001b[39m.\u001b[39m_callable_fn \u001b[39mis\u001b[39;00m \u001b[39mNone\u001b[39;00m \u001b[39mor\u001b[39;00m feed_arrays \u001b[39m!=\u001b[39m \u001b[39mself\u001b[39m\u001b[39m.\u001b[39m_feed_arrays \u001b[39mor\u001b[39;00m\n\u001b[1;32m   <a href='file:///Users/yourlogarithm/.miniforge3/envs/ml/lib/python3.8/site-packages/keras/backend.py?line=4269'>4270</a>\u001b[0m     symbol_vals \u001b[39m!=\u001b[39m \u001b[39mself\u001b[39m\u001b[39m.\u001b[39m_symbol_vals \u001b[39mor\u001b[39;00m\n\u001b[1;32m   <a href='file:///Users/yourlogarithm/.miniforge3/envs/ml/lib/python3.8/site-packages/keras/backend.py?line=4270'>4271</a>\u001b[0m     feed_symbols \u001b[39m!=\u001b[39m \u001b[39mself\u001b[39m\u001b[39m.\u001b[39m_feed_symbols \u001b[39mor\u001b[39;00m \u001b[39mself\u001b[39m\u001b[39m.\u001b[39mfetches \u001b[39m!=\u001b[39m \u001b[39mself\u001b[39m\u001b[39m.\u001b[39m_fetches \u001b[39mor\u001b[39;00m\n\u001b[1;32m   <a href='file:///Users/yourlogarithm/.miniforge3/envs/ml/lib/python3.8/site-packages/keras/backend.py?line=4271'>4272</a>\u001b[0m     session \u001b[39m!=\u001b[39m \u001b[39mself\u001b[39m\u001b[39m.\u001b[39m_session):\n\u001b[1;32m   <a href='file:///Users/yourlogarithm/.miniforge3/envs/ml/lib/python3.8/site-packages/keras/backend.py?line=4272'>4273</a>\u001b[0m   \u001b[39mself\u001b[39m\u001b[39m.\u001b[39m_make_callable(feed_arrays, feed_symbols, symbol_vals, session)\n\u001b[0;32m-> <a href='file:///Users/yourlogarithm/.miniforge3/envs/ml/lib/python3.8/site-packages/keras/backend.py?line=4274'>4275</a>\u001b[0m fetched \u001b[39m=\u001b[39m \u001b[39mself\u001b[39;49m\u001b[39m.\u001b[39;49m_callable_fn(\u001b[39m*\u001b[39;49marray_vals,\n\u001b[1;32m   <a href='file:///Users/yourlogarithm/.miniforge3/envs/ml/lib/python3.8/site-packages/keras/backend.py?line=4275'>4276</a>\u001b[0m                             run_metadata\u001b[39m=\u001b[39;49m\u001b[39mself\u001b[39;49m\u001b[39m.\u001b[39;49mrun_metadata)\n\u001b[1;32m   <a href='file:///Users/yourlogarithm/.miniforge3/envs/ml/lib/python3.8/site-packages/keras/backend.py?line=4276'>4277</a>\u001b[0m \u001b[39mself\u001b[39m\u001b[39m.\u001b[39m_call_fetch_callbacks(fetched[\u001b[39m-\u001b[39m\u001b[39mlen\u001b[39m(\u001b[39mself\u001b[39m\u001b[39m.\u001b[39m_fetches):])\n\u001b[1;32m   <a href='file:///Users/yourlogarithm/.miniforge3/envs/ml/lib/python3.8/site-packages/keras/backend.py?line=4277'>4278</a>\u001b[0m output_structure \u001b[39m=\u001b[39m tf\u001b[39m.\u001b[39mnest\u001b[39m.\u001b[39mpack_sequence_as(\n\u001b[1;32m   <a href='file:///Users/yourlogarithm/.miniforge3/envs/ml/lib/python3.8/site-packages/keras/backend.py?line=4278'>4279</a>\u001b[0m     \u001b[39mself\u001b[39m\u001b[39m.\u001b[39m_outputs_structure,\n\u001b[1;32m   <a href='file:///Users/yourlogarithm/.miniforge3/envs/ml/lib/python3.8/site-packages/keras/backend.py?line=4279'>4280</a>\u001b[0m     fetched[:\u001b[39mlen\u001b[39m(\u001b[39mself\u001b[39m\u001b[39m.\u001b[39moutputs)],\n\u001b[1;32m   <a href='file:///Users/yourlogarithm/.miniforge3/envs/ml/lib/python3.8/site-packages/keras/backend.py?line=4280'>4281</a>\u001b[0m     expand_composites\u001b[39m=\u001b[39m\u001b[39mTrue\u001b[39;00m)\n",
      "File \u001b[0;32m~/.miniforge3/envs/ml/lib/python3.8/site-packages/tensorflow/python/client/session.py:1480\u001b[0m, in \u001b[0;36mBaseSession._Callable.__call__\u001b[0;34m(self, *args, **kwargs)\u001b[0m\n\u001b[1;32m   <a href='file:///Users/yourlogarithm/.miniforge3/envs/ml/lib/python3.8/site-packages/tensorflow/python/client/session.py?line=1477'>1478</a>\u001b[0m \u001b[39mtry\u001b[39;00m:\n\u001b[1;32m   <a href='file:///Users/yourlogarithm/.miniforge3/envs/ml/lib/python3.8/site-packages/tensorflow/python/client/session.py?line=1478'>1479</a>\u001b[0m   run_metadata_ptr \u001b[39m=\u001b[39m tf_session\u001b[39m.\u001b[39mTF_NewBuffer() \u001b[39mif\u001b[39;00m run_metadata \u001b[39melse\u001b[39;00m \u001b[39mNone\u001b[39;00m\n\u001b[0;32m-> <a href='file:///Users/yourlogarithm/.miniforge3/envs/ml/lib/python3.8/site-packages/tensorflow/python/client/session.py?line=1479'>1480</a>\u001b[0m   ret \u001b[39m=\u001b[39m tf_session\u001b[39m.\u001b[39;49mTF_SessionRunCallable(\u001b[39mself\u001b[39;49m\u001b[39m.\u001b[39;49m_session\u001b[39m.\u001b[39;49m_session,\n\u001b[1;32m   <a href='file:///Users/yourlogarithm/.miniforge3/envs/ml/lib/python3.8/site-packages/tensorflow/python/client/session.py?line=1480'>1481</a>\u001b[0m                                          \u001b[39mself\u001b[39;49m\u001b[39m.\u001b[39;49m_handle, args,\n\u001b[1;32m   <a href='file:///Users/yourlogarithm/.miniforge3/envs/ml/lib/python3.8/site-packages/tensorflow/python/client/session.py?line=1481'>1482</a>\u001b[0m                                          run_metadata_ptr)\n\u001b[1;32m   <a href='file:///Users/yourlogarithm/.miniforge3/envs/ml/lib/python3.8/site-packages/tensorflow/python/client/session.py?line=1482'>1483</a>\u001b[0m   \u001b[39mif\u001b[39;00m run_metadata:\n\u001b[1;32m   <a href='file:///Users/yourlogarithm/.miniforge3/envs/ml/lib/python3.8/site-packages/tensorflow/python/client/session.py?line=1483'>1484</a>\u001b[0m     proto_data \u001b[39m=\u001b[39m tf_session\u001b[39m.\u001b[39mTF_GetBuffer(run_metadata_ptr)\n",
      "\u001b[0;31mKeyboardInterrupt\u001b[0m: "
     ]
    }
   ],
   "source": [
    "history = model.fit_generator(\n",
    "    datagen.flow(x_train, y_train, batch_size=batch_size),\n",
    "    epochs=epochs,\n",
    "    validation_data=(x_val, y_val),\n",
    "    verbose=1,\n",
    "    steps_per_epoch=x_train.shape[0] // batch_size,\n",
    "    callbacks=[learning_rate_reduction],\n",
    ")\n"
   ]
  },
  {
   "cell_type": "code",
   "execution_count": null,
   "metadata": {
    "ExecuteTime": {
     "end_time": "2022-05-12T06:26:54.549023Z",
     "start_time": "2022-05-12T06:26:53.997986Z"
    }
   },
   "outputs": [],
   "source": [
    "fig, ax = plt.subplots(2,1)\n",
    "ax[0].plot(history.history['loss'], color='b', label=\"Training loss\")\n",
    "ax[0].plot(history.history['val_loss'], color='r', label=\"Validation loss\",axes =ax[0])\n",
    "legend = ax[0].legend(loc='best', shadow=True)\n",
    "\n",
    "ax[1].plot(history.history['acc'], color='b', label=\"Training accuracy\")\n",
    "ax[1].plot(history.history['val_acc'], color='r',label=\"Validation accuracy\")\n",
    "legend = ax[1].legend(loc='best', shadow=True)"
   ]
  },
  {
   "cell_type": "code",
   "execution_count": null,
   "metadata": {
    "ExecuteTime": {
     "end_time": "2022-05-12T08:30:23.243590Z",
     "start_time": "2022-05-12T08:30:22.648089Z"
    }
   },
   "outputs": [],
   "source": [
    "preds = model.predict(x_val)\n",
    "pred_classes = np.argmax(preds, axis = 1) \n",
    "y_true = np.argmax(y_val, axis = 1) \n",
    "mat = confusion_matrix(y_true, pred_classes) \n",
    "mat2 = np.zeros((10, 10,))\n",
    "\n",
    "for i in range(10):\n",
    "    sm = sum(mat[i]) \n",
    "    for j in range(10):\n",
    "        x = mat[i][j] / sm\n",
    "        mat2[i][j] = x"
   ]
  },
  {
   "cell_type": "code",
   "execution_count": null,
   "metadata": {
    "ExecuteTime": {
     "end_time": "2022-05-12T08:30:23.249495Z",
     "start_time": "2022-05-12T08:30:23.245645Z"
    }
   },
   "outputs": [],
   "source": [
    "preds[0]"
   ]
  },
  {
   "cell_type": "code",
   "execution_count": null,
   "metadata": {
    "ExecuteTime": {
     "end_time": "2022-05-12T08:30:23.397177Z",
     "start_time": "2022-05-12T08:30:23.389991Z"
    }
   },
   "outputs": [],
   "source": [
    "import pandas as pd\n",
    "mat2_arr = np.array(mat2)\n",
    "labels = ['0', '1', '2', '3', '4', '5', '6', '7', '8', '9']\n",
    "conf_mat_test = pd.DataFrame(data=mat2_arr, columns=labels, index=labels)"
   ]
  },
  {
   "cell_type": "code",
   "execution_count": null,
   "metadata": {
    "ExecuteTime": {
     "end_time": "2022-05-12T08:30:40.890049Z",
     "start_time": "2022-05-12T08:30:40.193828Z"
    }
   },
   "outputs": [],
   "source": [
    "import matplotlib.pyplot as plt\n",
    "\n",
    "fig, ax = plt.subplots(figsize=(15, 15))\n",
    "sns.heatmap(conf_mat_test, annot=True, linewidths=.5, ax=ax, fmt='.2%')"
   ]
  },
  {
   "cell_type": "markdown",
   "metadata": {},
   "source": [
    "### Errors in prediction"
   ]
  },
  {
   "cell_type": "markdown",
   "metadata": {},
   "source": [
    "Errors are difference between predicted labels and true labels.\n"
   ]
  },
  {
   "cell_type": "code",
   "execution_count": null,
   "metadata": {
    "ExecuteTime": {
     "end_time": "2022-05-12T06:26:56.016732Z",
     "start_time": "2022-05-12T06:26:56.012655Z"
    }
   },
   "outputs": [],
   "source": [
    "errors = (pred_classes - y_true != 0) \n",
    "pred_classes_errors = pred_classes[errors]\n",
    "pred_errors = preds[errors]\n",
    "y_true_errors = y_true[errors]\n",
    "x_val_errors = x_val[errors]"
   ]
  },
  {
   "cell_type": "markdown",
   "metadata": {},
   "source": [
    "Compute the probabilities of the wrong predicted numbers."
   ]
  },
  {
   "cell_type": "code",
   "execution_count": null,
   "metadata": {
    "ExecuteTime": {
     "end_time": "2022-05-12T06:45:03.575125Z",
     "start_time": "2022-05-12T06:45:03.570361Z"
    }
   },
   "outputs": [],
   "source": [
    "y_pred_errors_prob = np.max(pred_errors, axis = 1) "
   ]
  },
  {
   "cell_type": "markdown",
   "metadata": {},
   "source": [
    "Compute predicted probabilities of the true values in the error set."
   ]
  },
  {
   "cell_type": "code",
   "execution_count": null,
   "metadata": {
    "ExecuteTime": {
     "end_time": "2022-05-12T06:45:03.923131Z",
     "start_time": "2022-05-12T06:45:03.918547Z"
    }
   },
   "outputs": [],
   "source": [
    "true_prob_errors = np.diagonal(np.take(pred_errors, y_true_errors, axis=1)) "
   ]
  },
  {
   "cell_type": "markdown",
   "metadata": {},
   "source": [
    "Compute the difference between the probability of the predicted label and the true label."
   ]
  },
  {
   "cell_type": "code",
   "execution_count": null,
   "metadata": {
    "ExecuteTime": {
     "end_time": "2022-05-12T06:45:04.256713Z",
     "start_time": "2022-05-12T06:45:04.253107Z"
    }
   },
   "outputs": [],
   "source": [
    "delta_pred_true_errors = y_pred_errors_prob - true_prob_errors"
   ]
  },
  {
   "cell_type": "markdown",
   "metadata": {
    "ExecuteTime": {
     "end_time": "2022-05-12T06:44:14.796306Z",
     "start_time": "2022-05-12T06:44:14.789768Z"
    }
   },
   "source": [
    "Sort the list of the delta probability errors.\n"
   ]
  },
  {
   "cell_type": "code",
   "execution_count": null,
   "metadata": {
    "ExecuteTime": {
     "end_time": "2022-05-12T06:45:04.593824Z",
     "start_time": "2022-05-12T06:45:04.589704Z"
    }
   },
   "outputs": [],
   "source": [
    "sorted_dela_errors = np.argsort(delta_pred_true_errors)"
   ]
  },
  {
   "cell_type": "markdown",
   "metadata": {},
   "source": [
    "Analyse top 6 errors."
   ]
  },
  {
   "cell_type": "code",
   "execution_count": null,
   "metadata": {
    "ExecuteTime": {
     "end_time": "2022-05-12T06:45:05.237198Z",
     "start_time": "2022-05-12T06:45:05.233277Z"
    }
   },
   "outputs": [],
   "source": [
    "most_important_errors = sorted_dela_errors[-6:]"
   ]
  },
  {
   "cell_type": "code",
   "execution_count": null,
   "metadata": {
    "ExecuteTime": {
     "end_time": "2022-05-12T06:45:05.654969Z",
     "start_time": "2022-05-12T06:45:05.645145Z"
    }
   },
   "outputs": [],
   "source": [
    "def display_errors(errors_index, img_errors, pred_errors, obs_errors):\n",
    "    n = 0\n",
    "    nrows = 2\n",
    "    ncols = 3\n",
    "    fig, ax = plt.subplots(nrows, ncols, sharex=True, sharey=True)\n",
    "    for row in range(nrows):\n",
    "        for col in range(ncols):\n",
    "            error = errors_index[n]\n",
    "            ax[row, col].imshow((img_errors[error]).reshape((28, 28)), cmap=\"gray\")\n",
    "            ax[row, col].set_title(\n",
    "                \"Predicted label :{}\\nTrue label :{}\".format(\n",
    "                    pred_errors[error], obs_errors[error]\n",
    "                )\n",
    "            )\n",
    "            n += 1\n"
   ]
  },
  {
   "cell_type": "code",
   "execution_count": null,
   "metadata": {
    "ExecuteTime": {
     "end_time": "2022-05-12T06:45:07.371009Z",
     "start_time": "2022-05-12T06:45:06.484652Z"
    }
   },
   "outputs": [],
   "source": [
    "display_errors(most_important_errors, x_val_errors, pred_classes_errors, y_true_errors)"
   ]
  }
 ],
 "metadata": {
  "interpreter": {
   "hash": "19217652c784c0eb9511f8f5b096e4f8c7203998629d570e7b12322847e1aa51"
  },
  "kernelspec": {
   "display_name": "Python 3.8.13 ('ml')",
   "language": "python",
   "name": "python3"
  },
  "language_info": {
   "codemirror_mode": {
    "name": "ipython",
    "version": 3
   },
   "file_extension": ".py",
   "mimetype": "text/x-python",
   "name": "python",
   "nbconvert_exporter": "python",
   "pygments_lexer": "ipython3",
   "version": "3.8.13"
  },
  "toc": {
   "base_numbering": 1,
   "nav_menu": {},
   "number_sections": true,
   "sideBar": true,
   "skip_h1_title": false,
   "title_cell": "Table of Contents",
   "title_sidebar": "Contents",
   "toc_cell": false,
   "toc_position": {},
   "toc_section_display": true,
   "toc_window_display": false
  }
 },
 "nbformat": 4,
 "nbformat_minor": 2
}
