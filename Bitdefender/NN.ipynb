{
 "cells": [
  {
   "cell_type": "markdown",
   "metadata": {},
   "source": [
    "# Neural networks - straightforward guide"
   ]
  },
  {
   "cell_type": "code",
   "execution_count": 100,
   "metadata": {},
   "outputs": [],
   "source": [
    "import json\n",
    "import matplotlib.pyplot as plt\n",
    "import numpy as np\n",
    "import pickle\n",
    "import pandas as pd\n",
    "import seaborn as sns\n",
    "\n",
    "import sklearn\n",
    "from sklearn.preprocessing import StandardScaler, MultiLabelBinarizer\n",
    "from sklearn.ensemble import RandomForestClassifier\n",
    "from sklearn.metrics import accuracy_score, roc_curve, auc, log_loss\n",
    "from sklearn.metrics import classification_report\n",
    "\n",
    "import tensorflow as tf\n",
    "from tensorflow import keras"
   ]
  },
  {
   "cell_type": "code",
   "execution_count": 101,
   "metadata": {},
   "outputs": [],
   "source": [
    "%matplotlib widget"
   ]
  },
  {
   "cell_type": "markdown",
   "metadata": {},
   "source": [
    "# Kaggle\n",
    "https://www.kaggle.com/uciml/pima-indians-diabetes-database"
   ]
  },
  {
   "cell_type": "code",
   "execution_count": 102,
   "metadata": {},
   "outputs": [],
   "source": [
    "dataset = pd.read_csv('diabetes.csv')"
   ]
  },
  {
   "cell_type": "code",
   "execution_count": 103,
   "metadata": {},
   "outputs": [
    {
     "data": {
      "text/html": [
       "<div>\n",
       "<style scoped>\n",
       "    .dataframe tbody tr th:only-of-type {\n",
       "        vertical-align: middle;\n",
       "    }\n",
       "\n",
       "    .dataframe tbody tr th {\n",
       "        vertical-align: top;\n",
       "    }\n",
       "\n",
       "    .dataframe thead th {\n",
       "        text-align: right;\n",
       "    }\n",
       "</style>\n",
       "<table border=\"1\" class=\"dataframe\">\n",
       "  <thead>\n",
       "    <tr style=\"text-align: right;\">\n",
       "      <th></th>\n",
       "      <th>Pregnancies</th>\n",
       "      <th>Glucose</th>\n",
       "      <th>BloodPressure</th>\n",
       "      <th>SkinThickness</th>\n",
       "      <th>Insulin</th>\n",
       "      <th>BMI</th>\n",
       "      <th>DiabetesPedigreeFunction</th>\n",
       "      <th>Age</th>\n",
       "      <th>Outcome</th>\n",
       "    </tr>\n",
       "  </thead>\n",
       "  <tbody>\n",
       "    <tr>\n",
       "      <th>0</th>\n",
       "      <td>6</td>\n",
       "      <td>148</td>\n",
       "      <td>72</td>\n",
       "      <td>35</td>\n",
       "      <td>0</td>\n",
       "      <td>33.6</td>\n",
       "      <td>0.627</td>\n",
       "      <td>50</td>\n",
       "      <td>1</td>\n",
       "    </tr>\n",
       "    <tr>\n",
       "      <th>1</th>\n",
       "      <td>1</td>\n",
       "      <td>85</td>\n",
       "      <td>66</td>\n",
       "      <td>29</td>\n",
       "      <td>0</td>\n",
       "      <td>26.6</td>\n",
       "      <td>0.351</td>\n",
       "      <td>31</td>\n",
       "      <td>0</td>\n",
       "    </tr>\n",
       "    <tr>\n",
       "      <th>2</th>\n",
       "      <td>8</td>\n",
       "      <td>183</td>\n",
       "      <td>64</td>\n",
       "      <td>0</td>\n",
       "      <td>0</td>\n",
       "      <td>23.3</td>\n",
       "      <td>0.672</td>\n",
       "      <td>32</td>\n",
       "      <td>1</td>\n",
       "    </tr>\n",
       "    <tr>\n",
       "      <th>3</th>\n",
       "      <td>1</td>\n",
       "      <td>89</td>\n",
       "      <td>66</td>\n",
       "      <td>23</td>\n",
       "      <td>94</td>\n",
       "      <td>28.1</td>\n",
       "      <td>0.167</td>\n",
       "      <td>21</td>\n",
       "      <td>0</td>\n",
       "    </tr>\n",
       "    <tr>\n",
       "      <th>4</th>\n",
       "      <td>0</td>\n",
       "      <td>137</td>\n",
       "      <td>40</td>\n",
       "      <td>35</td>\n",
       "      <td>168</td>\n",
       "      <td>43.1</td>\n",
       "      <td>2.288</td>\n",
       "      <td>33</td>\n",
       "      <td>1</td>\n",
       "    </tr>\n",
       "  </tbody>\n",
       "</table>\n",
       "</div>"
      ],
      "text/plain": [
       "   Pregnancies  Glucose  BloodPressure  SkinThickness  Insulin   BMI  \\\n",
       "0            6      148             72             35        0  33.6   \n",
       "1            1       85             66             29        0  26.6   \n",
       "2            8      183             64              0        0  23.3   \n",
       "3            1       89             66             23       94  28.1   \n",
       "4            0      137             40             35      168  43.1   \n",
       "\n",
       "   DiabetesPedigreeFunction  Age  Outcome  \n",
       "0                     0.627   50        1  \n",
       "1                     0.351   31        0  \n",
       "2                     0.672   32        1  \n",
       "3                     0.167   21        0  \n",
       "4                     2.288   33        1  "
      ]
     },
     "execution_count": 103,
     "metadata": {},
     "output_type": "execute_result"
    }
   ],
   "source": [
    "dataset.head()"
   ]
  },
  {
   "cell_type": "code",
   "execution_count": 104,
   "metadata": {},
   "outputs": [
    {
     "data": {
      "text/html": [
       "<div>\n",
       "<style scoped>\n",
       "    .dataframe tbody tr th:only-of-type {\n",
       "        vertical-align: middle;\n",
       "    }\n",
       "\n",
       "    .dataframe tbody tr th {\n",
       "        vertical-align: top;\n",
       "    }\n",
       "\n",
       "    .dataframe thead th {\n",
       "        text-align: right;\n",
       "    }\n",
       "</style>\n",
       "<table border=\"1\" class=\"dataframe\">\n",
       "  <thead>\n",
       "    <tr style=\"text-align: right;\">\n",
       "      <th></th>\n",
       "      <th>Pregnancies</th>\n",
       "      <th>Glucose</th>\n",
       "      <th>BloodPressure</th>\n",
       "      <th>SkinThickness</th>\n",
       "      <th>Insulin</th>\n",
       "      <th>BMI</th>\n",
       "      <th>DiabetesPedigreeFunction</th>\n",
       "      <th>Age</th>\n",
       "      <th>Outcome</th>\n",
       "    </tr>\n",
       "  </thead>\n",
       "  <tbody>\n",
       "    <tr>\n",
       "      <th>count</th>\n",
       "      <td>768.000000</td>\n",
       "      <td>768.000000</td>\n",
       "      <td>768.000000</td>\n",
       "      <td>768.000000</td>\n",
       "      <td>768.000000</td>\n",
       "      <td>768.000000</td>\n",
       "      <td>768.000000</td>\n",
       "      <td>768.000000</td>\n",
       "      <td>768.000000</td>\n",
       "    </tr>\n",
       "    <tr>\n",
       "      <th>mean</th>\n",
       "      <td>3.845052</td>\n",
       "      <td>120.894531</td>\n",
       "      <td>69.105469</td>\n",
       "      <td>20.536458</td>\n",
       "      <td>79.799479</td>\n",
       "      <td>31.992578</td>\n",
       "      <td>0.471876</td>\n",
       "      <td>33.240885</td>\n",
       "      <td>0.348958</td>\n",
       "    </tr>\n",
       "    <tr>\n",
       "      <th>std</th>\n",
       "      <td>3.369578</td>\n",
       "      <td>31.972618</td>\n",
       "      <td>19.355807</td>\n",
       "      <td>15.952218</td>\n",
       "      <td>115.244002</td>\n",
       "      <td>7.884160</td>\n",
       "      <td>0.331329</td>\n",
       "      <td>11.760232</td>\n",
       "      <td>0.476951</td>\n",
       "    </tr>\n",
       "    <tr>\n",
       "      <th>min</th>\n",
       "      <td>0.000000</td>\n",
       "      <td>0.000000</td>\n",
       "      <td>0.000000</td>\n",
       "      <td>0.000000</td>\n",
       "      <td>0.000000</td>\n",
       "      <td>0.000000</td>\n",
       "      <td>0.078000</td>\n",
       "      <td>21.000000</td>\n",
       "      <td>0.000000</td>\n",
       "    </tr>\n",
       "    <tr>\n",
       "      <th>25%</th>\n",
       "      <td>1.000000</td>\n",
       "      <td>99.000000</td>\n",
       "      <td>62.000000</td>\n",
       "      <td>0.000000</td>\n",
       "      <td>0.000000</td>\n",
       "      <td>27.300000</td>\n",
       "      <td>0.243750</td>\n",
       "      <td>24.000000</td>\n",
       "      <td>0.000000</td>\n",
       "    </tr>\n",
       "    <tr>\n",
       "      <th>50%</th>\n",
       "      <td>3.000000</td>\n",
       "      <td>117.000000</td>\n",
       "      <td>72.000000</td>\n",
       "      <td>23.000000</td>\n",
       "      <td>30.500000</td>\n",
       "      <td>32.000000</td>\n",
       "      <td>0.372500</td>\n",
       "      <td>29.000000</td>\n",
       "      <td>0.000000</td>\n",
       "    </tr>\n",
       "    <tr>\n",
       "      <th>75%</th>\n",
       "      <td>6.000000</td>\n",
       "      <td>140.250000</td>\n",
       "      <td>80.000000</td>\n",
       "      <td>32.000000</td>\n",
       "      <td>127.250000</td>\n",
       "      <td>36.600000</td>\n",
       "      <td>0.626250</td>\n",
       "      <td>41.000000</td>\n",
       "      <td>1.000000</td>\n",
       "    </tr>\n",
       "    <tr>\n",
       "      <th>max</th>\n",
       "      <td>17.000000</td>\n",
       "      <td>199.000000</td>\n",
       "      <td>122.000000</td>\n",
       "      <td>99.000000</td>\n",
       "      <td>846.000000</td>\n",
       "      <td>67.100000</td>\n",
       "      <td>2.420000</td>\n",
       "      <td>81.000000</td>\n",
       "      <td>1.000000</td>\n",
       "    </tr>\n",
       "  </tbody>\n",
       "</table>\n",
       "</div>"
      ],
      "text/plain": [
       "       Pregnancies     Glucose  BloodPressure  SkinThickness     Insulin  \\\n",
       "count   768.000000  768.000000     768.000000     768.000000  768.000000   \n",
       "mean      3.845052  120.894531      69.105469      20.536458   79.799479   \n",
       "std       3.369578   31.972618      19.355807      15.952218  115.244002   \n",
       "min       0.000000    0.000000       0.000000       0.000000    0.000000   \n",
       "25%       1.000000   99.000000      62.000000       0.000000    0.000000   \n",
       "50%       3.000000  117.000000      72.000000      23.000000   30.500000   \n",
       "75%       6.000000  140.250000      80.000000      32.000000  127.250000   \n",
       "max      17.000000  199.000000     122.000000      99.000000  846.000000   \n",
       "\n",
       "              BMI  DiabetesPedigreeFunction         Age     Outcome  \n",
       "count  768.000000                768.000000  768.000000  768.000000  \n",
       "mean    31.992578                  0.471876   33.240885    0.348958  \n",
       "std      7.884160                  0.331329   11.760232    0.476951  \n",
       "min      0.000000                  0.078000   21.000000    0.000000  \n",
       "25%     27.300000                  0.243750   24.000000    0.000000  \n",
       "50%     32.000000                  0.372500   29.000000    0.000000  \n",
       "75%     36.600000                  0.626250   41.000000    1.000000  \n",
       "max     67.100000                  2.420000   81.000000    1.000000  "
      ]
     },
     "execution_count": 104,
     "metadata": {},
     "output_type": "execute_result"
    }
   ],
   "source": [
    "dataset.describe()"
   ]
  },
  {
   "cell_type": "code",
   "execution_count": 105,
   "metadata": {},
   "outputs": [],
   "source": [
    "data = dataset.values\n",
    "X, Y = data[:,:-1], data[:,-1]"
   ]
  },
  {
   "cell_type": "markdown",
   "metadata": {},
   "source": [
    "# Recap"
   ]
  },
  {
   "cell_type": "code",
   "execution_count": 106,
   "metadata": {},
   "outputs": [
    {
     "data": {
      "text/plain": [
       "0.93359375"
      ]
     },
     "execution_count": 106,
     "metadata": {},
     "output_type": "execute_result"
    }
   ],
   "source": [
    "rf = RandomForestClassifier(n_estimators=20, min_samples_leaf=3, max_features=0.5, n_jobs=-1, bootstrap=True)\n",
    "rf.fit(X, Y)\n",
    "\n",
    "accuracy_score(Y, rf.predict(X))"
   ]
  },
  {
   "cell_type": "code",
   "execution_count": 107,
   "metadata": {},
   "outputs": [
    {
     "name": "stdout",
     "output_type": "stream",
     "text": [
      "              precision    recall  f1-score   support\n",
      "\n",
      "     healthy       0.94      0.96      0.95       500\n",
      "    diabetic       0.93      0.88      0.90       268\n",
      "\n",
      "    accuracy                           0.93       768\n",
      "   macro avg       0.93      0.92      0.93       768\n",
      "weighted avg       0.93      0.93      0.93       768\n",
      "\n"
     ]
    }
   ],
   "source": [
    "from sklearn.metrics import classification_report\n",
    "\n",
    "print(classification_report(Y, rf.predict(X), target_names=['healthy', 'diabetic']))"
   ]
  },
  {
   "cell_type": "code",
   "execution_count": 108,
   "metadata": {},
   "outputs": [
    {
     "data": {
      "text/plain": [
       "<AxesSubplot:ylabel='cols'>"
      ]
     },
     "execution_count": 108,
     "metadata": {},
     "output_type": "execute_result"
    },
    {
     "data": {
      "application/vnd.jupyter.widget-view+json": {
       "model_id": "6dd9928c1d2b40f793ed01e83fb42b8e",
       "version_major": 2,
       "version_minor": 0
      },
      "image/png": "[encoded data removed]",
      "text/html": [
       "\n",
       "            <div style=\"display: inline-block;\">\n",
       "                <div class=\"jupyter-widgets widget-label\" style=\"text-align: center;\">\n",
       "                    Figure\n",
       "                </div>\n",
       "                <img src='data:image/png;base64,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' width=640.0/>\n",
       "            </div>\n",
       "        "
      ],
      "text/plain": [
       "Canvas(toolbar=Toolbar(toolitems=[('Home', 'Reset original view', 'home', 'home'), ('Back', 'Back to previous …"
      ]
     },
     "metadata": {},
     "output_type": "display_data"
    }
   ],
   "source": [
    "# %matplotlib widget\n",
    "fi = pd.DataFrame({'cols':dataset.columns[:-1], 'imp':rf.feature_importances_}).sort_values('imp', ascending=False)\n",
    "fi.plot('cols', 'imp', 'barh', legend=False)"
   ]
  },
  {
   "cell_type": "code",
   "execution_count": 109,
   "metadata": {},
   "outputs": [
    {
     "data": {
      "text/plain": [
       "<AxesSubplot:xlabel='Glucose', ylabel='cols'>"
      ]
     },
     "execution_count": 109,
     "metadata": {},
     "output_type": "execute_result"
    }
   ],
   "source": [
    "# %matplotlib widget\n",
    "sns.scatterplot(x='Glucose', y='BMI', hue='Outcome', data=dataset)"
   ]
  },
  {
   "cell_type": "markdown",
   "metadata": {},
   "source": [
    "# Train a neural network\n",
    "https://keras.io/  \n",
    "https://www.tensorflow.org/guide/keras"
   ]
  },
  {
   "cell_type": "code",
   "execution_count": 110,
   "metadata": {},
   "outputs": [
    {
     "data": {
      "text/plain": [
       "array([[0.10444444, 0.89555556],\n",
       "       [0.965     , 0.035     ],\n",
       "       [0.22428571, 0.77571429],\n",
       "       [1.        , 0.        ],\n",
       "       [0.2219246 , 0.7780754 ],\n",
       "       [0.96      , 0.04      ],\n",
       "       [0.41083333, 0.58916667],\n",
       "       [0.54714286, 0.45285714],\n",
       "       [0.08638889, 0.91361111],\n",
       "       [0.54609307, 0.45390693]])"
      ]
     },
     "execution_count": 110,
     "metadata": {},
     "output_type": "execute_result"
    }
   ],
   "source": [
    "# Model prediction expressed as probabilities\n",
    "rf.predict_proba(X[:10])"
   ]
  },
  {
   "cell_type": "markdown",
   "metadata": {},
   "source": [
    "[Log loss visually explained](https://towardsdatascience.com/understanding-binary-cross-entropy-log-loss-a-visual-explanation-a3ac6025181a)\n",
    "\n",
    "TL;DR:\n",
    "\n",
    "$\\huge H(y, pred) = -\\frac{\\sum_{i=1}^{N} y_ilog(pred_i) \\ + \\ (1 - y_i)log(1-pred_i)}{N}$\n",
    "\n",
    "Because $y$ is always 0 or 1, it \"toggles\" the terms of the summation on/off and it could be rewritten as:\n",
    "$\\large -\\frac{\\sum_{i=1}^{N} log(1 - err_i)}{N}$"
   ]
  },
  {
   "cell_type": "code",
   "execution_count": 111,
   "metadata": {},
   "outputs": [
    {
     "data": {
      "text/plain": [
       "0.23203567161881877"
      ]
     },
     "execution_count": 111,
     "metadata": {},
     "output_type": "execute_result"
    }
   ],
   "source": [
    "from sklearn.metrics import log_loss\n",
    "\n",
    "log_loss(Y, rf.predict_proba(X)[:, 1])"
   ]
  },
  {
   "cell_type": "code",
   "execution_count": 112,
   "metadata": {},
   "outputs": [],
   "source": [
    "i = keras.layers.Input(shape=(X.shape[1],), name='input')\n",
    "dense_1 = keras.layers.Dense(16, name='dense_1')(i)\n",
    "dense_2 = keras.layers.Dense(8, name='dense_2')(dense_1)\n",
    "out = keras.layers.Dense(1, activation='sigmoid', name='output')(dense_2)\n",
    "\n",
    "neural_net = keras.Model(inputs=[i], outputs=[out])"
   ]
  },
  {
   "cell_type": "code",
   "execution_count": 113,
   "metadata": {},
   "outputs": [
    {
     "name": "stdout",
     "output_type": "stream",
     "text": [
      "Model: \"model_2\"\n",
      "_________________________________________________________________\n",
      " Layer (type)                Output Shape              Param #   \n",
      "=================================================================\n",
      " input (InputLayer)          [(None, 8)]               0         \n",
      "                                                                 \n",
      " dense_1 (Dense)             (None, 16)                144       \n",
      "                                                                 \n",
      " dense_2 (Dense)             (None, 8)                 136       \n",
      "                                                                 \n",
      " output (Dense)              (None, 1)                 9         \n",
      "                                                                 \n",
      "=================================================================\n",
      "Total params: 289\n",
      "Trainable params: 289\n",
      "Non-trainable params: 0\n",
      "_________________________________________________________________\n"
     ]
    }
   ],
   "source": [
    "neural_net.compile(optimizer=keras.optimizers.Adam(), loss='binary_crossentropy', metrics=['acc'])\n",
    "neural_net.summary()"
   ]
  },
  {
   "cell_type": "code",
   "execution_count": 114,
   "metadata": {
    "scrolled": true,
    "tags": []
   },
   "outputs": [
    {
     "name": "stdout",
     "output_type": "stream",
     "text": [
      "Epoch 1/100\n",
      "9/9 [==============================] - 0s 7ms/step - loss: 53.3159 - acc: 0.3438 - val_loss: 41.0748 - val_acc: 0.3646\n",
      "Epoch 2/100\n",
      "9/9 [==============================] - 0s 2ms/step - loss: 31.5829 - acc: 0.3542 - val_loss: 20.6032 - val_acc: 0.3698\n",
      "Epoch 3/100\n",
      "9/9 [==============================] - 0s 2ms/step - loss: 14.2430 - acc: 0.4444 - val_loss: 10.4326 - val_acc: 0.4948\n",
      "Epoch 4/100\n",
      "9/9 [==============================] - 0s 2ms/step - loss: 7.4918 - acc: 0.5885 - val_loss: 7.9142 - val_acc: 0.5990\n",
      "Epoch 5/100\n",
      "9/9 [==============================] - 0s 1ms/step - loss: 6.1841 - acc: 0.6319 - val_loss: 5.5481 - val_acc: 0.5990\n",
      "Epoch 6/100\n",
      "9/9 [==============================] - 0s 1ms/step - loss: 3.7842 - acc: 0.5833 - val_loss: 3.5264 - val_acc: 0.5000\n",
      "Epoch 7/100\n",
      "9/9 [==============================] - 0s 1ms/step - loss: 2.8861 - acc: 0.5156 - val_loss: 2.7825 - val_acc: 0.5104\n",
      "Epoch 8/100\n",
      "9/9 [==============================] - 0s 1ms/step - loss: 2.5463 - acc: 0.5312 - val_loss: 2.4489 - val_acc: 0.4844\n",
      "Epoch 9/100\n",
      "9/9 [==============================] - 0s 1ms/step - loss: 2.1540 - acc: 0.5208 - val_loss: 2.1967 - val_acc: 0.5104\n",
      "Epoch 10/100\n",
      "9/9 [==============================] - 0s 1ms/step - loss: 1.8272 - acc: 0.5486 - val_loss: 1.9659 - val_acc: 0.5104\n",
      "Epoch 11/100\n",
      "9/9 [==============================] - 0s 1ms/step - loss: 1.6515 - acc: 0.5608 - val_loss: 1.7414 - val_acc: 0.5208\n",
      "Epoch 12/100\n",
      "9/9 [==============================] - 0s 1ms/step - loss: 1.4544 - acc: 0.5642 - val_loss: 1.6125 - val_acc: 0.5729\n",
      "Epoch 13/100\n",
      "9/9 [==============================] - 0s 1ms/step - loss: 1.3605 - acc: 0.6024 - val_loss: 1.5272 - val_acc: 0.5729\n",
      "Epoch 14/100\n",
      "9/9 [==============================] - 0s 1ms/step - loss: 1.2837 - acc: 0.5851 - val_loss: 1.3883 - val_acc: 0.5781\n",
      "Epoch 15/100\n",
      "9/9 [==============================] - 0s 2ms/step - loss: 1.2282 - acc: 0.5920 - val_loss: 1.3787 - val_acc: 0.6094\n",
      "Epoch 16/100\n",
      "9/9 [==============================] - 0s 1ms/step - loss: 1.1700 - acc: 0.6319 - val_loss: 1.3961 - val_acc: 0.6042\n",
      "Epoch 17/100\n",
      "9/9 [==============================] - 0s 2ms/step - loss: 1.1557 - acc: 0.6076 - val_loss: 1.2702 - val_acc: 0.6198\n",
      "Epoch 18/100\n",
      "9/9 [==============================] - 0s 1ms/step - loss: 1.0975 - acc: 0.6163 - val_loss: 1.2167 - val_acc: 0.6146\n",
      "Epoch 19/100\n",
      "9/9 [==============================] - 0s 1ms/step - loss: 1.0888 - acc: 0.5990 - val_loss: 1.1696 - val_acc: 0.6198\n",
      "Epoch 20/100\n",
      "9/9 [==============================] - 0s 1ms/step - loss: 1.0239 - acc: 0.6319 - val_loss: 1.2077 - val_acc: 0.5990\n",
      "Epoch 21/100\n",
      "9/9 [==============================] - 0s 2ms/step - loss: 1.0493 - acc: 0.6181 - val_loss: 1.1103 - val_acc: 0.6302\n",
      "Epoch 22/100\n",
      "9/9 [==============================] - 0s 2ms/step - loss: 0.9586 - acc: 0.6128 - val_loss: 1.0811 - val_acc: 0.6302\n",
      "Epoch 23/100\n",
      "9/9 [==============================] - 0s 2ms/step - loss: 0.9698 - acc: 0.6181 - val_loss: 1.0919 - val_acc: 0.6146\n",
      "Epoch 24/100\n",
      "9/9 [==============================] - 0s 2ms/step - loss: 0.9287 - acc: 0.6198 - val_loss: 1.0337 - val_acc: 0.5990\n",
      "Epoch 25/100\n",
      "9/9 [==============================] - 0s 1ms/step - loss: 0.9161 - acc: 0.6319 - val_loss: 1.0278 - val_acc: 0.6198\n",
      "Epoch 26/100\n",
      "9/9 [==============================] - 0s 1ms/step - loss: 0.9296 - acc: 0.6128 - val_loss: 1.0130 - val_acc: 0.6094\n",
      "Epoch 27/100\n",
      "9/9 [==============================] - 0s 1ms/step - loss: 0.9280 - acc: 0.5972 - val_loss: 1.0161 - val_acc: 0.6042\n",
      "Epoch 28/100\n",
      "9/9 [==============================] - 0s 1ms/step - loss: 0.9091 - acc: 0.6024 - val_loss: 0.9945 - val_acc: 0.5938\n",
      "Epoch 29/100\n",
      "9/9 [==============================] - 0s 1ms/step - loss: 0.8412 - acc: 0.6285 - val_loss: 0.9276 - val_acc: 0.6250\n",
      "Epoch 30/100\n",
      "9/9 [==============================] - 0s 1ms/step - loss: 0.8239 - acc: 0.6267 - val_loss: 0.9055 - val_acc: 0.6302\n",
      "Epoch 31/100\n",
      "9/9 [==============================] - 0s 1ms/step - loss: 0.8212 - acc: 0.6302 - val_loss: 0.9042 - val_acc: 0.6094\n",
      "Epoch 32/100\n",
      "9/9 [==============================] - 0s 1ms/step - loss: 0.7910 - acc: 0.6372 - val_loss: 0.9147 - val_acc: 0.5938\n",
      "Epoch 33/100\n",
      "9/9 [==============================] - 0s 1ms/step - loss: 0.8025 - acc: 0.6198 - val_loss: 0.8507 - val_acc: 0.6302\n",
      "Epoch 34/100\n",
      "9/9 [==============================] - 0s 1ms/step - loss: 0.7630 - acc: 0.6337 - val_loss: 0.8280 - val_acc: 0.6250\n",
      "Epoch 35/100\n",
      "9/9 [==============================] - 0s 1ms/step - loss: 0.7431 - acc: 0.6389 - val_loss: 0.8181 - val_acc: 0.5990\n",
      "Epoch 36/100\n",
      "9/9 [==============================] - 0s 1ms/step - loss: 0.7484 - acc: 0.6198 - val_loss: 0.8043 - val_acc: 0.6250\n",
      "Epoch 37/100\n",
      "9/9 [==============================] - 0s 1ms/step - loss: 0.7215 - acc: 0.6372 - val_loss: 0.7907 - val_acc: 0.6198\n",
      "Epoch 38/100\n",
      "9/9 [==============================] - 0s 1ms/step - loss: 0.7191 - acc: 0.6267 - val_loss: 0.8063 - val_acc: 0.5781\n",
      "Epoch 39/100\n",
      "9/9 [==============================] - 0s 1ms/step - loss: 0.7759 - acc: 0.6510 - val_loss: 0.7594 - val_acc: 0.6198\n",
      "Epoch 40/100\n",
      "9/9 [==============================] - 0s 1ms/step - loss: 0.7406 - acc: 0.6076 - val_loss: 0.7585 - val_acc: 0.6094\n",
      "Epoch 41/100\n",
      "9/9 [==============================] - 0s 1ms/step - loss: 0.7215 - acc: 0.6476 - val_loss: 0.7266 - val_acc: 0.6198\n",
      "Epoch 42/100\n",
      "9/9 [==============================] - 0s 1ms/step - loss: 0.7041 - acc: 0.6493 - val_loss: 0.7330 - val_acc: 0.6250\n",
      "Epoch 43/100\n",
      "9/9 [==============================] - 0s 2ms/step - loss: 0.6987 - acc: 0.6597 - val_loss: 0.7383 - val_acc: 0.6562\n",
      "Epoch 44/100\n",
      "9/9 [==============================] - 0s 1ms/step - loss: 0.6472 - acc: 0.6701 - val_loss: 0.7173 - val_acc: 0.6354\n",
      "Epoch 45/100\n",
      "9/9 [==============================] - 0s 1ms/step - loss: 0.6578 - acc: 0.6649 - val_loss: 0.7469 - val_acc: 0.6458\n",
      "Epoch 46/100\n",
      "9/9 [==============================] - 0s 1ms/step - loss: 0.6711 - acc: 0.6667 - val_loss: 0.8260 - val_acc: 0.6302\n",
      "Epoch 47/100\n",
      "9/9 [==============================] - 0s 1ms/step - loss: 0.7009 - acc: 0.6406 - val_loss: 0.7664 - val_acc: 0.6406\n",
      "Epoch 48/100\n",
      "9/9 [==============================] - 0s 1ms/step - loss: 0.6752 - acc: 0.6615 - val_loss: 0.8663 - val_acc: 0.6250\n",
      "Epoch 49/100\n",
      "9/9 [==============================] - 0s 1ms/step - loss: 0.6839 - acc: 0.6493 - val_loss: 0.6851 - val_acc: 0.6458\n",
      "Epoch 50/100\n",
      "9/9 [==============================] - 0s 1ms/step - loss: 0.6497 - acc: 0.6580 - val_loss: 0.6803 - val_acc: 0.6406\n",
      "Epoch 51/100\n",
      "9/9 [==============================] - 0s 2ms/step - loss: 0.6298 - acc: 0.6840 - val_loss: 0.6655 - val_acc: 0.6719\n",
      "Epoch 52/100\n",
      "9/9 [==============================] - 0s 1ms/step - loss: 0.6241 - acc: 0.6806 - val_loss: 0.6431 - val_acc: 0.6615\n",
      "Epoch 53/100\n",
      "9/9 [==============================] - 0s 1ms/step - loss: 0.6124 - acc: 0.6806 - val_loss: 0.6424 - val_acc: 0.6510\n",
      "Epoch 54/100\n",
      "9/9 [==============================] - 0s 1ms/step - loss: 0.6180 - acc: 0.6736 - val_loss: 0.6458 - val_acc: 0.6458\n",
      "Epoch 55/100\n",
      "9/9 [==============================] - 0s 1ms/step - loss: 0.6445 - acc: 0.6597 - val_loss: 0.6323 - val_acc: 0.6719\n",
      "Epoch 56/100\n",
      "9/9 [==============================] - 0s 2ms/step - loss: 0.6256 - acc: 0.6858 - val_loss: 0.6187 - val_acc: 0.6771\n",
      "Epoch 57/100\n",
      "9/9 [==============================] - 0s 1ms/step - loss: 0.6368 - acc: 0.6649 - val_loss: 0.6535 - val_acc: 0.6406\n",
      "Epoch 58/100\n",
      "9/9 [==============================] - 0s 1ms/step - loss: 0.6293 - acc: 0.6892 - val_loss: 0.6278 - val_acc: 0.6719\n",
      "Epoch 59/100\n",
      "9/9 [==============================] - 0s 1ms/step - loss: 0.6206 - acc: 0.6667 - val_loss: 0.6386 - val_acc: 0.6615\n",
      "Epoch 60/100\n",
      "9/9 [==============================] - 0s 2ms/step - loss: 0.6203 - acc: 0.6788 - val_loss: 0.6087 - val_acc: 0.6823\n",
      "Epoch 61/100\n",
      "9/9 [==============================] - 0s 1ms/step - loss: 0.6004 - acc: 0.6892 - val_loss: 0.6049 - val_acc: 0.6667\n",
      "Epoch 62/100\n",
      "9/9 [==============================] - 0s 1ms/step - loss: 0.6224 - acc: 0.6979 - val_loss: 0.6069 - val_acc: 0.6823\n",
      "Epoch 63/100\n",
      "9/9 [==============================] - 0s 1ms/step - loss: 0.6206 - acc: 0.6684 - val_loss: 0.6342 - val_acc: 0.6510\n",
      "Epoch 64/100\n",
      "9/9 [==============================] - 0s 1ms/step - loss: 0.6002 - acc: 0.6823 - val_loss: 0.6160 - val_acc: 0.6719\n",
      "Epoch 65/100\n",
      "9/9 [==============================] - 0s 1ms/step - loss: 0.6500 - acc: 0.6684 - val_loss: 0.6394 - val_acc: 0.6458\n",
      "Epoch 66/100\n",
      "9/9 [==============================] - 0s 1ms/step - loss: 0.6596 - acc: 0.6649 - val_loss: 0.6132 - val_acc: 0.6771\n",
      "Epoch 67/100\n",
      "9/9 [==============================] - 0s 1ms/step - loss: 0.5964 - acc: 0.6910 - val_loss: 0.5961 - val_acc: 0.6667\n",
      "Epoch 68/100\n",
      "9/9 [==============================] - 0s 2ms/step - loss: 0.6077 - acc: 0.6910 - val_loss: 0.6205 - val_acc: 0.6927\n",
      "Epoch 69/100\n",
      "9/9 [==============================] - 0s 1ms/step - loss: 0.6200 - acc: 0.6858 - val_loss: 0.6706 - val_acc: 0.6042\n",
      "Epoch 70/100\n",
      "9/9 [==============================] - 0s 1ms/step - loss: 0.6537 - acc: 0.6806 - val_loss: 0.7032 - val_acc: 0.5365\n",
      "Epoch 71/100\n",
      "9/9 [==============================] - 0s 1ms/step - loss: 0.6589 - acc: 0.6441 - val_loss: 0.6966 - val_acc: 0.5833\n",
      "Epoch 72/100\n",
      "9/9 [==============================] - 0s 2ms/step - loss: 0.6080 - acc: 0.6979 - val_loss: 0.5969 - val_acc: 0.7448\n",
      "Epoch 73/100\n",
      "9/9 [==============================] - 0s 1ms/step - loss: 0.6189 - acc: 0.6806 - val_loss: 0.6234 - val_acc: 0.6562\n",
      "Epoch 74/100\n",
      "9/9 [==============================] - 0s 1ms/step - loss: 0.6162 - acc: 0.6823 - val_loss: 0.5956 - val_acc: 0.6927\n",
      "Epoch 75/100\n",
      "9/9 [==============================] - 0s 1ms/step - loss: 0.6040 - acc: 0.6944 - val_loss: 0.6277 - val_acc: 0.6458\n",
      "Epoch 76/100\n",
      "9/9 [==============================] - 0s 1ms/step - loss: 0.5914 - acc: 0.6910 - val_loss: 0.6462 - val_acc: 0.6510\n",
      "Epoch 77/100\n",
      "9/9 [==============================] - 0s 1ms/step - loss: 0.5838 - acc: 0.7153 - val_loss: 0.5872 - val_acc: 0.6771\n",
      "Epoch 78/100\n",
      "9/9 [==============================] - 0s 1ms/step - loss: 0.5807 - acc: 0.7153 - val_loss: 0.5997 - val_acc: 0.6823\n",
      "Epoch 79/100\n",
      "9/9 [==============================] - 0s 1ms/step - loss: 0.5849 - acc: 0.7049 - val_loss: 0.5861 - val_acc: 0.7031\n",
      "Epoch 80/100\n",
      "9/9 [==============================] - 0s 1ms/step - loss: 0.5870 - acc: 0.7118 - val_loss: 0.5927 - val_acc: 0.6667\n",
      "Epoch 81/100\n",
      "9/9 [==============================] - 0s 1ms/step - loss: 0.6070 - acc: 0.6701 - val_loss: 0.9640 - val_acc: 0.6354\n",
      "Epoch 82/100\n",
      "9/9 [==============================] - 0s 1ms/step - loss: 0.7218 - acc: 0.6476 - val_loss: 0.7115 - val_acc: 0.6354\n",
      "Epoch 83/100\n",
      "9/9 [==============================] - 0s 1ms/step - loss: 0.6223 - acc: 0.6840 - val_loss: 0.6571 - val_acc: 0.6458\n",
      "Epoch 84/100\n",
      "9/9 [==============================] - 0s 1ms/step - loss: 0.5935 - acc: 0.6997 - val_loss: 0.6030 - val_acc: 0.6823\n",
      "Epoch 85/100\n",
      "9/9 [==============================] - 0s 1ms/step - loss: 0.5710 - acc: 0.7240 - val_loss: 0.5859 - val_acc: 0.6771\n",
      "Epoch 86/100\n",
      "9/9 [==============================] - 0s 1ms/step - loss: 0.5736 - acc: 0.7118 - val_loss: 0.6232 - val_acc: 0.6458\n",
      "Epoch 87/100\n",
      "9/9 [==============================] - 0s 1ms/step - loss: 0.5748 - acc: 0.7101 - val_loss: 0.5841 - val_acc: 0.7344\n",
      "Epoch 88/100\n",
      "9/9 [==============================] - 0s 1ms/step - loss: 0.6241 - acc: 0.6875 - val_loss: 0.5830 - val_acc: 0.6927\n",
      "Epoch 89/100\n",
      "9/9 [==============================] - 0s 1ms/step - loss: 0.6852 - acc: 0.6615 - val_loss: 0.6510 - val_acc: 0.6406\n",
      "Epoch 90/100\n",
      "9/9 [==============================] - 0s 1ms/step - loss: 0.7149 - acc: 0.6632 - val_loss: 0.6265 - val_acc: 0.6562\n",
      "Epoch 91/100\n",
      "9/9 [==============================] - 0s 1ms/step - loss: 0.6419 - acc: 0.6823 - val_loss: 0.5792 - val_acc: 0.7396\n",
      "Epoch 92/100\n",
      "9/9 [==============================] - 0s 1ms/step - loss: 0.6149 - acc: 0.6684 - val_loss: 0.5983 - val_acc: 0.7344\n",
      "Epoch 93/100\n",
      "9/9 [==============================] - 0s 1ms/step - loss: 0.6109 - acc: 0.7101 - val_loss: 0.6908 - val_acc: 0.6406\n",
      "Epoch 94/100\n",
      "9/9 [==============================] - 0s 1ms/step - loss: 0.6051 - acc: 0.7031 - val_loss: 0.6458 - val_acc: 0.6667\n",
      "Epoch 95/100\n",
      "9/9 [==============================] - 0s 1ms/step - loss: 0.6642 - acc: 0.6719 - val_loss: 0.6028 - val_acc: 0.6771\n",
      "Epoch 96/100\n",
      "9/9 [==============================] - 0s 1ms/step - loss: 0.6179 - acc: 0.7014 - val_loss: 0.6494 - val_acc: 0.6406\n",
      "Epoch 97/100\n",
      "9/9 [==============================] - 0s 1ms/step - loss: 0.6143 - acc: 0.7083 - val_loss: 0.6010 - val_acc: 0.6979\n",
      "Epoch 98/100\n",
      "9/9 [==============================] - 0s 1ms/step - loss: 0.5913 - acc: 0.6944 - val_loss: 0.5982 - val_acc: 0.6823\n",
      "Epoch 99/100\n",
      "9/9 [==============================] - 0s 1ms/step - loss: 0.5654 - acc: 0.7205 - val_loss: 0.5773 - val_acc: 0.7396\n",
      "Epoch 100/100\n",
      "9/9 [==============================] - 0s 1ms/step - loss: 0.5779 - acc: 0.7153 - val_loss: 0.5783 - val_acc: 0.6927\n"
     ]
    }
   ],
   "source": [
    "callbacks = []\n",
    "callbacks.append(keras.callbacks.EarlyStopping(monitor='val_loss', mode='auto', patience=10))\n",
    "callbacks.append(keras.callbacks.ModelCheckpoint('neural_net.h5', monitor='val_acc', mode='max',\n",
    "                                                 save_weights_only=False, save_best_only=True))\n",
    "\n",
    "history = neural_net.fit(x=X, y=Y, validation_split=.25, shuffle=True, batch_size=64, epochs=100, callbacks=callbacks)"
   ]
  },
  {
   "cell_type": "code",
   "execution_count": 115,
   "metadata": {},
   "outputs": [],
   "source": [
    "# %matplotlib widget\n",
    "plt.plot(history.history['loss'], label='train loss', marker='.')\n",
    "plt.plot(np.array(history.epoch) + .5, \n",
    "         history.history['val_loss'], label='validation loss', marker='.')\n",
    "plt.xlabel('Epochs')\n",
    "plt.ylabel('Loss')\n",
    "plt.legend();"
   ]
  },
  {
   "cell_type": "code",
   "execution_count": 116,
   "metadata": {},
   "outputs": [],
   "source": [
    "# %matplotlib widget\n",
    "plt.plot(history.history['acc'], label='train accuracy', marker='.')\n",
    "plt.plot(np.array(history.epoch) + .5, \n",
    "         history.history['val_acc'], label='validation accuracy', marker='.')\n",
    "plt.xlabel('Epochs')\n",
    "plt.ylabel('Accuracy')\n",
    "plt.legend();"
   ]
  },
  {
   "cell_type": "markdown",
   "metadata": {},
   "source": [
    "# Single-layer perceptron"
   ]
  },
  {
   "cell_type": "code",
   "execution_count": 117,
   "metadata": {},
   "outputs": [],
   "source": [
    "def sigmoid(x):\n",
    "    return 1 / (1 + np.exp(-x))\n",
    "\n",
    "x = np.arange(-5, 5, 0.1)\n",
    "\n",
    "# %matplotlib widget\n",
    "plt.plot(x, sigmoid(x))\n",
    "plt.grid();"
   ]
  },
  {
   "cell_type": "code",
   "execution_count": 118,
   "metadata": {
    "tags": []
   },
   "outputs": [],
   "source": [
    "neural_net = keras.Sequential([\n",
    "    keras.layers.InputLayer(input_shape=(X.shape[1],)),\n",
    "    keras.layers.Dense(1, activation='sigmoid')\n",
    "])\n",
    "\n",
    "neural_net.compile(optimizer=keras.optimizers.Adam(), loss='binary_crossentropy', metrics=['accuracy'])\n",
    "\n",
    "history = neural_net.fit(x=X, y=Y, batch_size=32, epochs=100, verbose=False)\n",
    "\n",
    "# %matplotlib widget\n",
    "plt.plot(history.history['loss'], marker='.');"
   ]
  },
  {
   "cell_type": "code",
   "execution_count": 119,
   "metadata": {},
   "outputs": [
    {
     "data": {
      "text/plain": [
       "((8, 1), (1,))"
      ]
     },
     "execution_count": 119,
     "metadata": {},
     "output_type": "execute_result"
    }
   ],
   "source": [
    "weights, bias = neural_net.layers[-1].get_weights()\n",
    "weights.shape, bias.shape"
   ]
  },
  {
   "cell_type": "code",
   "execution_count": 120,
   "metadata": {},
   "outputs": [
    {
     "name": "stdout",
     "output_type": "stream",
     "text": [
      "0.5875815203186229\n",
      "0.7109375\n"
     ]
    }
   ],
   "source": [
    "y_hat = sigmoid(np.dot(X, weights) + bias)\n",
    "\n",
    "print(log_loss(Y, y_hat))\n",
    "print(accuracy_score(Y, y_hat > 0.5))"
   ]
  },
  {
   "cell_type": "code",
   "execution_count": 121,
   "metadata": {},
   "outputs": [
    {
     "data": {
      "text/plain": [
       "(0.5940013527870178, 0.69921875)"
      ]
     },
     "execution_count": 121,
     "metadata": {},
     "output_type": "execute_result"
    }
   ],
   "source": [
    "history.history['loss'][-1], history.history['accuracy'][-1]"
   ]
  },
  {
   "cell_type": "markdown",
   "metadata": {},
   "source": [
    "# Gradient descent"
   ]
  },
  {
   "cell_type": "code",
   "execution_count": 122,
   "metadata": {},
   "outputs": [],
   "source": [
    "def f(x):\n",
    "    return x ** 2\n",
    "\n",
    "def df(x):\n",
    "    return x * 2"
   ]
  },
  {
   "cell_type": "code",
   "execution_count": 123,
   "metadata": {},
   "outputs": [],
   "source": [
    "# %matplotlib widget\n",
    "x = np.arange(-8, 8, 0.001)\n",
    "plt.plot(x, f(x), color='k', label='f(x)')\n",
    "\n",
    "xi = 8\n",
    "lr = .2\n",
    "steps = 3\n",
    "\n",
    "projections = True\n",
    "for i in range(steps):\n",
    "    x_ip1 = xi - lr * df(xi)\n",
    "    p_ip1 = f(xi) - lr * df(xi) * df(xi)\n",
    "    y_ip1 = f(x_ip1)\n",
    "    \n",
    "    plt.plot([xi, x_ip1], [f(xi), y_ip1], marker='.', c='b')\n",
    "    if projections:\n",
    "        plt.plot([xi, x_ip1, x_ip1], [f(xi), p_ip1, y_ip1], ls='-.', alpha=.5, c='b')\n",
    "    \n",
    "    xi = x_ip1"
   ]
  },
  {
   "cell_type": "markdown",
   "metadata": {},
   "source": [
    "Complicated functions, like neural nets, can be broken down into elementary functions that we know the derivatives to.\n",
    "\n",
    "A layer like $\\sigma(w \\cdot x + b)$ would become $\\sigma(\\ add(\\ mat\\_mul(w, x), b))$\n",
    "\n",
    "From there we apply the chain rule: $f(g(x))' = f'(g(x)) * g'(x)$\n",
    "\n",
    "Training a neural network is performed through back-propagation, which involves applying the chain rule repeatedly until adjustments are made to all its weights. Fortunately libraries like Tensorflow and PyTorch handle all this busywork behind the scenes."
   ]
  },
  {
   "cell_type": "markdown",
   "metadata": {},
   "source": [
    "[Visualisations of neural networks training](https://playground.tensorflow.org/#activation=linear)"
   ]
  },
  {
   "cell_type": "markdown",
   "metadata": {},
   "source": [
    "# Activation functions - extra decision power"
   ]
  },
  {
   "cell_type": "code",
   "execution_count": 124,
   "metadata": {},
   "outputs": [],
   "source": [
    "def relu(x):\n",
    "    return x * (x > 0)\n",
    "\n",
    "# %matplotlib widget\n",
    "plt.plot(x, relu(x))\n",
    "plt.grid()"
   ]
  },
  {
   "cell_type": "code",
   "execution_count": 125,
   "metadata": {
    "scrolled": true,
    "tags": []
   },
   "outputs": [],
   "source": [
    "neural_net = keras.Sequential([\n",
    "    keras.layers.InputLayer(input_shape=(X.shape[1],)),\n",
    "    keras.layers.Dense(4, activation='relu'),\n",
    "    keras.layers.Dense(1, activation='sigmoid')\n",
    "])\n",
    "\n",
    "neural_net.compile(optimizer=keras.optimizers.Adam(), loss='binary_crossentropy', metrics=['acc'])\n",
    "history = neural_net.fit(x=X, y=Y, validation_split=.25, batch_size=32, epochs=100, verbose=False)"
   ]
  },
  {
   "cell_type": "code",
   "execution_count": 126,
   "metadata": {},
   "outputs": [],
   "source": [
    "# %matplotlib widget\n",
    "plt.plot(history.history['acc'], label='train accuracy', marker='.')\n",
    "plt.plot(np.array(history.epoch) + .5, \n",
    "         history.history['val_acc'], label='validation accuracy', marker='.')\n",
    "plt.xlabel('Epochs')\n",
    "plt.ylabel('Accuracy')\n",
    "plt.legend();"
   ]
  },
  {
   "cell_type": "markdown",
   "metadata": {},
   "source": [
    "# Scaling - using the same units"
   ]
  },
  {
   "cell_type": "code",
   "execution_count": 127,
   "metadata": {},
   "outputs": [],
   "source": [
    "x1 = np.random.uniform(-100,100,100)\n",
    "x2 = np.random.uniform(-1, 1, 100)"
   ]
  },
  {
   "cell_type": "code",
   "execution_count": 128,
   "metadata": {},
   "outputs": [
    {
     "data": {
      "text/plain": [
       "<matplotlib.collections.PathCollection at 0x17e79fd60>"
      ]
     },
     "execution_count": 128,
     "metadata": {},
     "output_type": "execute_result"
    }
   ],
   "source": [
    "# %matplotlib widget\n",
    "plt.scatter(x1, x2)"
   ]
  },
  {
   "cell_type": "code",
   "execution_count": 129,
   "metadata": {},
   "outputs": [
    {
     "data": {
      "text/plain": [
       "<matplotlib.collections.PathCollection at 0x2840841f0>"
      ]
     },
     "execution_count": 129,
     "metadata": {},
     "output_type": "execute_result"
    }
   ],
   "source": [
    "def scale(x):\n",
    "    # the middle becomes 0\n",
    "    # everything is expressed in terms of standard deviation\n",
    "    return (x - np.mean(x)) / np.std(x)\n",
    "\n",
    "# %matplotlib widget\n",
    "plt.scatter(scale(x1), scale(x2))"
   ]
  },
  {
   "cell_type": "code",
   "execution_count": 130,
   "metadata": {},
   "outputs": [],
   "source": [
    "scaler = StandardScaler()\n",
    "data = dataset.values\n",
    "X, Y = data[:,:-1], data[:,-1]\n",
    "\n",
    "scaler.fit(X)\n",
    "X_scaled = scaler.transform(X)"
   ]
  },
  {
   "cell_type": "code",
   "execution_count": 131,
   "metadata": {
    "scrolled": true,
    "tags": []
   },
   "outputs": [],
   "source": [
    "neural_net = keras.Sequential([\n",
    "    keras.layers.InputLayer(input_shape=(X.shape[1],)),\n",
    "    keras.layers.Dense(4, activation='relu'),\n",
    "    keras.layers.Dense(1, activation='sigmoid')\n",
    "])\n",
    "\n",
    "neural_net.compile(optimizer=keras.optimizers.Adam(), loss='binary_crossentropy', metrics=['acc'])\n",
    "history = neural_net.fit(x=X_scaled, y=Y, validation_split=.25, batch_size=32, epochs=100, verbose=False)"
   ]
  },
  {
   "cell_type": "code",
   "execution_count": 132,
   "metadata": {},
   "outputs": [
    {
     "data": {
      "application/vnd.jupyter.widget-view+json": {
       "model_id": "18977877a2ae42c0b1614a917aa6c4a0",
       "version_major": 2,
       "version_minor": 0
      },
      "image/png": "[encoded data removed]",
      "text/html": [
       "\n",
       "            <div style=\"display: inline-block;\">\n",
       "                <div class=\"jupyter-widgets widget-label\" style=\"text-align: center;\">\n",
       "                    Figure\n",
       "                </div>\n",
       "                <img src='data:image/png;base64,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' width=640.0/>\n",
       "            </div>\n",
       "        "
      ],
      "text/plain": [
       "Canvas(toolbar=Toolbar(toolitems=[('Home', 'Reset original view', 'home', 'home'), ('Back', 'Back to previous …"
      ]
     },
     "metadata": {},
     "output_type": "display_data"
    }
   ],
   "source": [
    "%matplotlib widget\n",
    "plt.plot(history.history['loss'], label='train loss', marker='.')\n",
    "plt.plot(np.array(history.epoch) + .5, \n",
    "         history.history['val_loss'], label='validation loss', marker='.')\n",
    "plt.xlabel('Epochs')\n",
    "plt.ylabel('Loss')\n",
    "plt.legend();"
   ]
  },
  {
   "cell_type": "code",
   "execution_count": 133,
   "metadata": {},
   "outputs": [
    {
     "data": {
      "application/vnd.jupyter.widget-view+json": {
       "model_id": "2097f2280ec74959800ae8e29a12414d",
       "version_major": 2,
       "version_minor": 0
      },
      "image/png": "[encoded data removed]",
      "text/html": [
       "\n",
       "            <div style=\"display: inline-block;\">\n",
       "                <div class=\"jupyter-widgets widget-label\" style=\"text-align: center;\">\n",
       "                    Figure\n",
       "                </div>\n",
       "                <img src='data:image/png;base64,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' width=640.0/>\n",
       "            </div>\n",
       "        "
      ],
      "text/plain": [
       "Canvas(toolbar=Toolbar(toolitems=[('Home', 'Reset original view', 'home', 'home'), ('Back', 'Back to previous …"
      ]
     },
     "metadata": {},
     "output_type": "display_data"
    }
   ],
   "source": [
    "%matplotlib widget\n",
    "plt.plot(history.history['acc'], label='train accuracy', marker='.')\n",
    "plt.plot(np.array(history.epoch) + .5, \n",
    "         history.history['val_acc'], label='validation accuracy', marker='.')\n",
    "plt.xlabel('Epochs')\n",
    "plt.ylabel('Accuracy')\n",
    "plt.legend();"
   ]
  },
  {
   "cell_type": "markdown",
   "metadata": {},
   "source": [
    "# Train / Validation / Test\n",
    "- Good practice https://dashee87.github.io/data%20science/deep%20learning/python/another-keras-tutorial-for-neural-network-beginners/"
   ]
  },
  {
   "cell_type": "code",
   "execution_count": 134,
   "metadata": {},
   "outputs": [
    {
     "data": {
      "text/plain": [
       "(460, 154, 154)"
      ]
     },
     "execution_count": 134,
     "metadata": {},
     "output_type": "execute_result"
    }
   ],
   "source": [
    "from sklearn.model_selection import train_test_split\n",
    "\n",
    "# Store the scaler in a file; You'll need it to make predictions on new inputs\n",
    "scaler = StandardScaler()\n",
    "X_ = scaler.fit_transform(X)\n",
    "with open('scaler.pkl', 'wb') as f:\n",
    "    pickle.dump(scaler, f)\n",
    "\n",
    "X_trn, X_tst, Y_trn, Y_tst = train_test_split(X_, Y, test_size=0.2, stratify=Y)\n",
    "X_trn, X_val, Y_trn, Y_val = train_test_split(X_trn, Y_trn, test_size=0.25, stratify=Y_trn)\n",
    "\n",
    "len(Y_trn), len(Y_val), len(Y_tst)"
   ]
  },
  {
   "cell_type": "code",
   "execution_count": 135,
   "metadata": {},
   "outputs": [],
   "source": [
    "neural_net = keras.Sequential([\n",
    "    keras.layers.InputLayer(input_shape=(X.shape[1],)),\n",
    "    keras.layers.Dense(4, activation='relu'),\n",
    "    keras.layers.Dense(4, activation='relu'),\n",
    "    keras.layers.Dense(1, activation='sigmoid')\n",
    "])"
   ]
  },
  {
   "cell_type": "code",
   "execution_count": 136,
   "metadata": {},
   "outputs": [
    {
     "name": "stdout",
     "output_type": "stream",
     "text": [
      "Model: \"sequential_11\"\n",
      "_________________________________________________________________\n",
      " Layer (type)                Output Shape              Param #   \n",
      "=================================================================\n",
      " dense_21 (Dense)            (None, 4)                 36        \n",
      "                                                                 \n",
      " dense_22 (Dense)            (None, 4)                 20        \n",
      "                                                                 \n",
      " dense_23 (Dense)            (None, 1)                 5         \n",
      "                                                                 \n",
      "=================================================================\n",
      "Total params: 61\n",
      "Trainable params: 61\n",
      "Non-trainable params: 0\n",
      "_________________________________________________________________\n"
     ]
    }
   ],
   "source": [
    "callbacks = []\n",
    "callbacks.append(keras.callbacks.EarlyStopping(monitor='val_loss', patience=10))\n",
    "callbacks.append(keras.callbacks.ModelCheckpoint('neural_net.h5', monitor='val_acc',\n",
    "                                                 save_weights_only=False, save_best_only=True))\n",
    "\n",
    "neural_net.compile(optimizer=keras.optimizers.Adam(), loss='binary_crossentropy', metrics=['acc'])\n",
    "neural_net.summary()"
   ]
  },
  {
   "cell_type": "code",
   "execution_count": 137,
   "metadata": {
    "scrolled": true,
    "tags": []
   },
   "outputs": [
    {
     "name": "stdout",
     "output_type": "stream",
     "text": [
      "Epoch 1/100\n",
      "15/15 [==============================] - 0s 4ms/step - loss: 0.8507 - acc: 0.3587 - val_loss: 0.7925 - val_acc: 0.4221\n",
      "Epoch 2/100\n",
      "15/15 [==============================] - 0s 2ms/step - loss: 0.8252 - acc: 0.3761 - val_loss: 0.7734 - val_acc: 0.4416\n",
      "Epoch 3/100\n",
      "15/15 [==============================] - 0s 953us/step - loss: 0.8036 - acc: 0.3870 - val_loss: 0.7574 - val_acc: 0.4416\n",
      "Epoch 4/100\n",
      "15/15 [==============================] - 0s 2ms/step - loss: 0.7851 - acc: 0.4022 - val_loss: 0.7439 - val_acc: 0.4610\n",
      "Epoch 5/100\n",
      "15/15 [==============================] - 0s 1ms/step - loss: 0.7691 - acc: 0.4087 - val_loss: 0.7320 - val_acc: 0.4935\n",
      "Epoch 6/100\n",
      "15/15 [==============================] - 0s 1ms/step - loss: 0.7550 - acc: 0.4152 - val_loss: 0.7217 - val_acc: 0.4935\n",
      "Epoch 7/100\n",
      "15/15 [==============================] - 0s 1ms/step - loss: 0.7427 - acc: 0.4413 - val_loss: 0.7129 - val_acc: 0.5000\n",
      "Epoch 8/100\n",
      "15/15 [==============================] - 0s 1ms/step - loss: 0.7318 - acc: 0.4674 - val_loss: 0.7052 - val_acc: 0.5130\n",
      "Epoch 9/100\n",
      "15/15 [==============================] - 0s 931us/step - loss: 0.7221 - acc: 0.4935 - val_loss: 0.6984 - val_acc: 0.5130\n",
      "Epoch 10/100\n",
      "15/15 [==============================] - 0s 1ms/step - loss: 0.7137 - acc: 0.5261 - val_loss: 0.6926 - val_acc: 0.5390\n",
      "Epoch 11/100\n",
      "15/15 [==============================] - 0s 1ms/step - loss: 0.7065 - acc: 0.5348 - val_loss: 0.6875 - val_acc: 0.5455\n",
      "Epoch 12/100\n",
      "15/15 [==============================] - 0s 952us/step - loss: 0.7004 - acc: 0.5435 - val_loss: 0.6830 - val_acc: 0.5455\n",
      "Epoch 13/100\n",
      "15/15 [==============================] - 0s 1ms/step - loss: 0.6953 - acc: 0.5348 - val_loss: 0.6794 - val_acc: 0.5714\n",
      "Epoch 14/100\n",
      "15/15 [==============================] - 0s 1ms/step - loss: 0.6907 - acc: 0.5543 - val_loss: 0.6764 - val_acc: 0.5844\n",
      "Epoch 15/100\n",
      "15/15 [==============================] - 0s 1ms/step - loss: 0.6867 - acc: 0.5761 - val_loss: 0.6736 - val_acc: 0.5974\n",
      "Epoch 16/100\n",
      "15/15 [==============================] - 0s 1ms/step - loss: 0.6829 - acc: 0.5804 - val_loss: 0.6713 - val_acc: 0.6169\n",
      "Epoch 17/100\n",
      "15/15 [==============================] - 0s 932us/step - loss: 0.6794 - acc: 0.5957 - val_loss: 0.6688 - val_acc: 0.6169\n",
      "Epoch 18/100\n",
      "15/15 [==============================] - 0s 1ms/step - loss: 0.6760 - acc: 0.6043 - val_loss: 0.6665 - val_acc: 0.6234\n",
      "Epoch 19/100\n",
      "15/15 [==============================] - 0s 1ms/step - loss: 0.6730 - acc: 0.6130 - val_loss: 0.6643 - val_acc: 0.6364\n",
      "Epoch 20/100\n",
      "15/15 [==============================] - 0s 1ms/step - loss: 0.6702 - acc: 0.6239 - val_loss: 0.6622 - val_acc: 0.6429\n",
      "Epoch 21/100\n",
      "15/15 [==============================] - 0s 1ms/step - loss: 0.6676 - acc: 0.6261 - val_loss: 0.6602 - val_acc: 0.6494\n",
      "Epoch 22/100\n",
      "15/15 [==============================] - 0s 3ms/step - loss: 0.6653 - acc: 0.6304 - val_loss: 0.6584 - val_acc: 0.6558\n",
      "Epoch 23/100\n",
      "15/15 [==============================] - 0s 2ms/step - loss: 0.6630 - acc: 0.6348 - val_loss: 0.6566 - val_acc: 0.6558\n",
      "Epoch 24/100\n",
      "15/15 [==============================] - 0s 1ms/step - loss: 0.6610 - acc: 0.6348 - val_loss: 0.6549 - val_acc: 0.6558\n",
      "Epoch 25/100\n",
      "15/15 [==============================] - 0s 1ms/step - loss: 0.6590 - acc: 0.6370 - val_loss: 0.6533 - val_acc: 0.6558\n",
      "Epoch 26/100\n",
      "15/15 [==============================] - 0s 2ms/step - loss: 0.6568 - acc: 0.6370 - val_loss: 0.6518 - val_acc: 0.6623\n",
      "Epoch 27/100\n",
      "15/15 [==============================] - 0s 2ms/step - loss: 0.6546 - acc: 0.6413 - val_loss: 0.6504 - val_acc: 0.6623\n",
      "Epoch 28/100\n",
      "15/15 [==============================] - 0s 1ms/step - loss: 0.6523 - acc: 0.6435 - val_loss: 0.6490 - val_acc: 0.6623\n",
      "Epoch 29/100\n",
      "15/15 [==============================] - 0s 988us/step - loss: 0.6502 - acc: 0.6457 - val_loss: 0.6476 - val_acc: 0.6623\n",
      "Epoch 30/100\n",
      "15/15 [==============================] - 0s 998us/step - loss: 0.6479 - acc: 0.6457 - val_loss: 0.6461 - val_acc: 0.6623\n",
      "Epoch 31/100\n",
      "15/15 [==============================] - 0s 970us/step - loss: 0.6457 - acc: 0.6500 - val_loss: 0.6443 - val_acc: 0.6558\n",
      "Epoch 32/100\n",
      "15/15 [==============================] - 0s 985us/step - loss: 0.6434 - acc: 0.6500 - val_loss: 0.6422 - val_acc: 0.6623\n",
      "Epoch 33/100\n",
      "15/15 [==============================] - 0s 974us/step - loss: 0.6407 - acc: 0.6500 - val_loss: 0.6401 - val_acc: 0.6623\n",
      "Epoch 34/100\n",
      "15/15 [==============================] - 0s 986us/step - loss: 0.6378 - acc: 0.6500 - val_loss: 0.6378 - val_acc: 0.6623\n",
      "Epoch 35/100\n",
      "15/15 [==============================] - 0s 936us/step - loss: 0.6345 - acc: 0.6500 - val_loss: 0.6354 - val_acc: 0.6623\n",
      "Epoch 36/100\n",
      "15/15 [==============================] - 0s 955us/step - loss: 0.6310 - acc: 0.6522 - val_loss: 0.6327 - val_acc: 0.6623\n",
      "Epoch 37/100\n",
      "15/15 [==============================] - 0s 993us/step - loss: 0.6272 - acc: 0.6565 - val_loss: 0.6297 - val_acc: 0.6623\n",
      "Epoch 38/100\n",
      "15/15 [==============================] - 0s 994us/step - loss: 0.6231 - acc: 0.6587 - val_loss: 0.6259 - val_acc: 0.6623\n",
      "Epoch 39/100\n",
      "15/15 [==============================] - 0s 1ms/step - loss: 0.6187 - acc: 0.6609 - val_loss: 0.6220 - val_acc: 0.6623\n",
      "Epoch 40/100\n",
      "15/15 [==============================] - 0s 968us/step - loss: 0.6138 - acc: 0.6609 - val_loss: 0.6180 - val_acc: 0.6623\n",
      "Epoch 41/100\n",
      "15/15 [==============================] - 0s 1ms/step - loss: 0.6088 - acc: 0.6674 - val_loss: 0.6136 - val_acc: 0.6558\n",
      "Epoch 42/100\n",
      "15/15 [==============================] - 0s 962us/step - loss: 0.6036 - acc: 0.6630 - val_loss: 0.6088 - val_acc: 0.6494\n",
      "Epoch 43/100\n",
      "15/15 [==============================] - 0s 985us/step - loss: 0.5980 - acc: 0.6674 - val_loss: 0.6038 - val_acc: 0.6494\n",
      "Epoch 44/100\n",
      "15/15 [==============================] - 0s 932us/step - loss: 0.5924 - acc: 0.6696 - val_loss: 0.5985 - val_acc: 0.6364\n",
      "Epoch 45/100\n",
      "15/15 [==============================] - 0s 946us/step - loss: 0.5869 - acc: 0.6783 - val_loss: 0.5931 - val_acc: 0.6494\n",
      "Epoch 46/100\n",
      "15/15 [==============================] - 0s 1ms/step - loss: 0.5814 - acc: 0.6978 - val_loss: 0.5878 - val_acc: 0.6494\n",
      "Epoch 47/100\n",
      "15/15 [==============================] - 0s 982us/step - loss: 0.5758 - acc: 0.6957 - val_loss: 0.5823 - val_acc: 0.6623\n",
      "Epoch 48/100\n",
      "15/15 [==============================] - 0s 1ms/step - loss: 0.5701 - acc: 0.7000 - val_loss: 0.5769 - val_acc: 0.6623\n",
      "Epoch 49/100\n",
      "15/15 [==============================] - 0s 1ms/step - loss: 0.5648 - acc: 0.7000 - val_loss: 0.5716 - val_acc: 0.6753\n",
      "Epoch 50/100\n",
      "15/15 [==============================] - 0s 1ms/step - loss: 0.5598 - acc: 0.6935 - val_loss: 0.5663 - val_acc: 0.6818\n",
      "Epoch 51/100\n",
      "15/15 [==============================] - 0s 1ms/step - loss: 0.5552 - acc: 0.6978 - val_loss: 0.5612 - val_acc: 0.6883\n",
      "Epoch 52/100\n",
      "15/15 [==============================] - 0s 1ms/step - loss: 0.5507 - acc: 0.6957 - val_loss: 0.5564 - val_acc: 0.7013\n",
      "Epoch 53/100\n",
      "15/15 [==============================] - 0s 936us/step - loss: 0.5463 - acc: 0.7065 - val_loss: 0.5517 - val_acc: 0.7013\n",
      "Epoch 54/100\n",
      "15/15 [==============================] - 0s 1ms/step - loss: 0.5423 - acc: 0.6978 - val_loss: 0.5474 - val_acc: 0.7143\n",
      "Epoch 55/100\n",
      "15/15 [==============================] - 0s 1ms/step - loss: 0.5384 - acc: 0.7065 - val_loss: 0.5431 - val_acc: 0.7208\n",
      "Epoch 56/100\n",
      "15/15 [==============================] - 0s 1ms/step - loss: 0.5348 - acc: 0.7109 - val_loss: 0.5390 - val_acc: 0.7273\n",
      "Epoch 57/100\n",
      "15/15 [==============================] - 0s 932us/step - loss: 0.5312 - acc: 0.7087 - val_loss: 0.5351 - val_acc: 0.7273\n",
      "Epoch 58/100\n",
      "15/15 [==============================] - 0s 972us/step - loss: 0.5278 - acc: 0.7174 - val_loss: 0.5313 - val_acc: 0.7143\n",
      "Epoch 59/100\n",
      "15/15 [==============================] - 0s 953us/step - loss: 0.5246 - acc: 0.7152 - val_loss: 0.5277 - val_acc: 0.7143\n",
      "Epoch 60/100\n",
      "15/15 [==============================] - 0s 991us/step - loss: 0.5215 - acc: 0.7174 - val_loss: 0.5243 - val_acc: 0.7208\n",
      "Epoch 61/100\n",
      "15/15 [==============================] - 0s 960us/step - loss: 0.5186 - acc: 0.7239 - val_loss: 0.5209 - val_acc: 0.7273\n",
      "Epoch 62/100\n",
      "15/15 [==============================] - 0s 981us/step - loss: 0.5157 - acc: 0.7283 - val_loss: 0.5175 - val_acc: 0.7273\n",
      "Epoch 63/100\n",
      "15/15 [==============================] - 0s 1ms/step - loss: 0.5129 - acc: 0.7304 - val_loss: 0.5143 - val_acc: 0.7273\n",
      "Epoch 64/100\n",
      "15/15 [==============================] - 0s 990us/step - loss: 0.5102 - acc: 0.7326 - val_loss: 0.5111 - val_acc: 0.7273\n",
      "Epoch 65/100\n",
      "15/15 [==============================] - 0s 1ms/step - loss: 0.5075 - acc: 0.7348 - val_loss: 0.5081 - val_acc: 0.7273\n",
      "Epoch 66/100\n",
      "15/15 [==============================] - 0s 991us/step - loss: 0.5050 - acc: 0.7326 - val_loss: 0.5053 - val_acc: 0.7273\n",
      "Epoch 67/100\n",
      "15/15 [==============================] - 0s 990us/step - loss: 0.5028 - acc: 0.7326 - val_loss: 0.5026 - val_acc: 0.7273\n",
      "Epoch 68/100\n",
      "15/15 [==============================] - 0s 969us/step - loss: 0.5007 - acc: 0.7261 - val_loss: 0.5002 - val_acc: 0.7273\n",
      "Epoch 69/100\n",
      "15/15 [==============================] - 0s 941us/step - loss: 0.4988 - acc: 0.7261 - val_loss: 0.4978 - val_acc: 0.7273\n",
      "Epoch 70/100\n",
      "15/15 [==============================] - 0s 1ms/step - loss: 0.4970 - acc: 0.7348 - val_loss: 0.4955 - val_acc: 0.7338\n",
      "Epoch 71/100\n",
      "15/15 [==============================] - 0s 1ms/step - loss: 0.4952 - acc: 0.7391 - val_loss: 0.4933 - val_acc: 0.7403\n",
      "Epoch 72/100\n",
      "15/15 [==============================] - 0s 1ms/step - loss: 0.4935 - acc: 0.7457 - val_loss: 0.4913 - val_acc: 0.7468\n",
      "Epoch 73/100\n",
      "15/15 [==============================] - 0s 932us/step - loss: 0.4920 - acc: 0.7457 - val_loss: 0.4894 - val_acc: 0.7468\n",
      "Epoch 74/100\n",
      "15/15 [==============================] - 0s 1ms/step - loss: 0.4905 - acc: 0.7500 - val_loss: 0.4875 - val_acc: 0.7403\n",
      "Epoch 75/100\n",
      "15/15 [==============================] - 0s 997us/step - loss: 0.4891 - acc: 0.7500 - val_loss: 0.4857 - val_acc: 0.7468\n",
      "Epoch 76/100\n",
      "15/15 [==============================] - 0s 1ms/step - loss: 0.4878 - acc: 0.7522 - val_loss: 0.4841 - val_acc: 0.7468\n",
      "Epoch 77/100\n",
      "15/15 [==============================] - 0s 996us/step - loss: 0.4867 - acc: 0.7565 - val_loss: 0.4826 - val_acc: 0.7468\n",
      "Epoch 78/100\n",
      "15/15 [==============================] - 0s 994us/step - loss: 0.4858 - acc: 0.7565 - val_loss: 0.4809 - val_acc: 0.7468\n",
      "Epoch 79/100\n",
      "15/15 [==============================] - 0s 966us/step - loss: 0.4848 - acc: 0.7587 - val_loss: 0.4795 - val_acc: 0.7468\n",
      "Epoch 80/100\n",
      "15/15 [==============================] - 0s 1ms/step - loss: 0.4839 - acc: 0.7587 - val_loss: 0.4781 - val_acc: 0.7532\n",
      "Epoch 81/100\n",
      "15/15 [==============================] - 0s 929us/step - loss: 0.4830 - acc: 0.7630 - val_loss: 0.4766 - val_acc: 0.7532\n",
      "Epoch 82/100\n",
      "15/15 [==============================] - 0s 959us/step - loss: 0.4821 - acc: 0.7652 - val_loss: 0.4752 - val_acc: 0.7532\n",
      "Epoch 83/100\n",
      "15/15 [==============================] - 0s 954us/step - loss: 0.4812 - acc: 0.7652 - val_loss: 0.4738 - val_acc: 0.7532\n",
      "Epoch 84/100\n",
      "15/15 [==============================] - 0s 1ms/step - loss: 0.4804 - acc: 0.7652 - val_loss: 0.4726 - val_acc: 0.7597\n",
      "Epoch 85/100\n",
      "15/15 [==============================] - 0s 940us/step - loss: 0.4796 - acc: 0.7652 - val_loss: 0.4714 - val_acc: 0.7597\n",
      "Epoch 86/100\n",
      "15/15 [==============================] - 0s 947us/step - loss: 0.4789 - acc: 0.7652 - val_loss: 0.4702 - val_acc: 0.7597\n",
      "Epoch 87/100\n",
      "15/15 [==============================] - 0s 952us/step - loss: 0.4782 - acc: 0.7652 - val_loss: 0.4690 - val_acc: 0.7597\n",
      "Epoch 88/100\n",
      "15/15 [==============================] - 0s 974us/step - loss: 0.4775 - acc: 0.7674 - val_loss: 0.4678 - val_acc: 0.7597\n",
      "Epoch 89/100\n",
      "15/15 [==============================] - 0s 993us/step - loss: 0.4769 - acc: 0.7674 - val_loss: 0.4667 - val_acc: 0.7597\n",
      "Epoch 90/100\n",
      "15/15 [==============================] - 0s 999us/step - loss: 0.4762 - acc: 0.7652 - val_loss: 0.4656 - val_acc: 0.7597\n",
      "Epoch 91/100\n",
      "15/15 [==============================] - 0s 988us/step - loss: 0.4756 - acc: 0.7652 - val_loss: 0.4646 - val_acc: 0.7597\n",
      "Epoch 92/100\n",
      "15/15 [==============================] - 0s 993us/step - loss: 0.4750 - acc: 0.7630 - val_loss: 0.4638 - val_acc: 0.7597\n",
      "Epoch 93/100\n",
      "15/15 [==============================] - 0s 999us/step - loss: 0.4743 - acc: 0.7630 - val_loss: 0.4630 - val_acc: 0.7597\n",
      "Epoch 94/100\n",
      "15/15 [==============================] - 0s 998us/step - loss: 0.4735 - acc: 0.7630 - val_loss: 0.4622 - val_acc: 0.7597\n",
      "Epoch 95/100\n",
      "15/15 [==============================] - 0s 998us/step - loss: 0.4728 - acc: 0.7630 - val_loss: 0.4615 - val_acc: 0.7597\n",
      "Epoch 96/100\n",
      "15/15 [==============================] - 0s 981us/step - loss: 0.4721 - acc: 0.7630 - val_loss: 0.4608 - val_acc: 0.7597\n",
      "Epoch 97/100\n",
      "15/15 [==============================] - 0s 958us/step - loss: 0.4714 - acc: 0.7652 - val_loss: 0.4603 - val_acc: 0.7597\n",
      "Epoch 98/100\n",
      "15/15 [==============================] - 0s 958us/step - loss: 0.4707 - acc: 0.7652 - val_loss: 0.4597 - val_acc: 0.7597\n",
      "Epoch 99/100\n",
      "15/15 [==============================] - 0s 1ms/step - loss: 0.4700 - acc: 0.7652 - val_loss: 0.4593 - val_acc: 0.7662\n",
      "Epoch 100/100\n",
      "15/15 [==============================] - 0s 953us/step - loss: 0.4692 - acc: 0.7630 - val_loss: 0.4589 - val_acc: 0.7662\n"
     ]
    }
   ],
   "source": [
    "history = neural_net.fit(X_trn, Y_trn, validation_data=(X_val, Y_val), batch_size=32, epochs=100, shuffle=False, callbacks=callbacks)\n",
    "\n",
    "neural_net = keras.models.load_model('neural_net.h5')"
   ]
  },
  {
   "cell_type": "code",
   "execution_count": 138,
   "metadata": {},
   "outputs": [
    {
     "data": {
      "application/vnd.jupyter.widget-view+json": {
       "model_id": "6f1ac4f812ae41b1853d29e8aee4d012",
       "version_major": 2,
       "version_minor": 0
      },
      "image/png": "[encoded data removed]",
      "text/html": [
       "\n",
       "            <div style=\"display: inline-block;\">\n",
       "                <div class=\"jupyter-widgets widget-label\" style=\"text-align: center;\">\n",
       "                    Figure\n",
       "                </div>\n",
       "                <img src='data:image/png;base64,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' width=640.0/>\n",
       "            </div>\n",
       "        "
      ],
      "text/plain": [
       "Canvas(toolbar=Toolbar(toolitems=[('Home', 'Reset original view', 'home', 'home'), ('Back', 'Back to previous …"
      ]
     },
     "metadata": {},
     "output_type": "display_data"
    }
   ],
   "source": [
    "%matplotlib widget\n",
    "fig, (ax0, ax1) = plt.subplots(nrows=2)\n",
    "\n",
    "ax0.plot(history.history['loss'], label='train loss', marker='.')\n",
    "ax0.plot(np.array(history.epoch) + .5, \n",
    "         history.history['val_loss'], label='validation loss', marker='.')\n",
    "ax0.set_ylabel('Loss')\n",
    "ax0.legend();\n",
    "\n",
    "ax1.plot(history.history['acc'], label='train accuracy', marker='.')\n",
    "ax1.plot(np.array(history.epoch) + .5, \n",
    "         history.history['val_acc'], label='validation accuracy', marker='.')\n",
    "ax1.set_ylabel('Accuracy')\n",
    "ax1.legend();"
   ]
  },
  {
   "cell_type": "code",
   "execution_count": 139,
   "metadata": {},
   "outputs": [
    {
     "data": {
      "text/plain": [
       "[0.5183652639389038, 0.7597402334213257]"
      ]
     },
     "execution_count": 139,
     "metadata": {},
     "output_type": "execute_result"
    }
   ],
   "source": [
    "neural_net.evaluate(X_tst, Y_tst, verbose=False)"
   ]
  },
  {
   "cell_type": "code",
   "execution_count": 140,
   "metadata": {},
   "outputs": [
    {
     "name": "stdout",
     "output_type": "stream",
     "text": [
      "              precision    recall  f1-score   support\n",
      "\n",
      "     healthy       0.77      0.89      0.83       100\n",
      "    diabetic       0.72      0.52      0.60        54\n",
      "\n",
      "    accuracy                           0.76       154\n",
      "   macro avg       0.75      0.70      0.72       154\n",
      "weighted avg       0.75      0.76      0.75       154\n",
      "\n"
     ]
    }
   ],
   "source": [
    "print(classification_report(Y_tst, neural_net.predict(X_tst) > .5, target_names=['healthy', 'diabetic']))"
   ]
  },
  {
   "cell_type": "markdown",
   "metadata": {},
   "source": [
    "# So only classification?"
   ]
  },
  {
   "cell_type": "markdown",
   "metadata": {},
   "source": [
    "| Type of problem | Final activation function | Loss function | Useful metrics |\n",
    "|:---|:---|:---|:---|\n",
    "| Binary classification | sigmoid | binary_crossentropy | (binary_)accuracy, f1 score |\n",
    "| Categorical classification | softmax | categorical_crossentropy | (categorical_)accuracy, f1 score|\n",
    "| Multi-label classification | sigmoid | binary_crossentropy | binary_accuracy |\n",
    "| (Multi-)Regression | linear, relu, ... | mse / mean_squared_error | R<sup>2</sup> (custom implementation) |\n",
    "\n",
    "[Scikit-learn's metrics documentation](https://scikit-learn.org/stable/modules/classes.html#module-sklearn.metrics)\n",
    "\n",
    "[TF.Keras losses documentation](https://www.tensorflow.org/api_docs/python/tf/keras/losses)\n",
    "\n",
    "[TF.Keras metrics documentation](https://www.tensorflow.org/api_docs/python/tf/keras/metrics)"
   ]
  },
  {
   "cell_type": "markdown",
   "metadata": {},
   "source": [
    "# We're not done yet"
   ]
  },
  {
   "cell_type": "code",
   "execution_count": 141,
   "metadata": {},
   "outputs": [
    {
     "data": {
      "text/html": [
       "<div>\n",
       "<style scoped>\n",
       "    .dataframe tbody tr th:only-of-type {\n",
       "        vertical-align: middle;\n",
       "    }\n",
       "\n",
       "    .dataframe tbody tr th {\n",
       "        vertical-align: top;\n",
       "    }\n",
       "\n",
       "    .dataframe thead th {\n",
       "        text-align: right;\n",
       "    }\n",
       "</style>\n",
       "<table border=\"1\" class=\"dataframe\">\n",
       "  <thead>\n",
       "    <tr style=\"text-align: right;\">\n",
       "      <th></th>\n",
       "      <th>verdict</th>\n",
       "      <th>activities</th>\n",
       "      <th>receivers</th>\n",
       "      <th>providers</th>\n",
       "      <th>services</th>\n",
       "      <th>md5</th>\n",
       "      <th>size</th>\n",
       "      <th>permissions</th>\n",
       "      <th>vcode</th>\n",
       "    </tr>\n",
       "  </thead>\n",
       "  <tbody>\n",
       "    <tr>\n",
       "      <th>0</th>\n",
       "      <td>clean</td>\n",
       "      <td>4.0</td>\n",
       "      <td>0.0</td>\n",
       "      <td>1.0</td>\n",
       "      <td>0.0</td>\n",
       "      <td>32c68064d189be3258d5dd698df88e17</td>\n",
       "      <td>32100194</td>\n",
       "      <td>[INTERNET, WRITE_EXTERNAL_STORAGE, ACCESS_NETW...</td>\n",
       "      <td>33</td>\n",
       "    </tr>\n",
       "    <tr>\n",
       "      <th>1</th>\n",
       "      <td>riskware</td>\n",
       "      <td>25.0</td>\n",
       "      <td>4.0</td>\n",
       "      <td>0.0</td>\n",
       "      <td>26.0</td>\n",
       "      <td>2f55e7604e2ef1e394470a988a85c426</td>\n",
       "      <td>411056</td>\n",
       "      <td>[PACKAGE_USAGE_STATS, RECEIVE_SMS, WRITE_SMS, ...</td>\n",
       "      <td>1</td>\n",
       "    </tr>\n",
       "    <tr>\n",
       "      <th>2</th>\n",
       "      <td>clean</td>\n",
       "      <td>97.0</td>\n",
       "      <td>5.0</td>\n",
       "      <td>5.0</td>\n",
       "      <td>11.0</td>\n",
       "      <td>28099c074b8111181b79b41739c76d68</td>\n",
       "      <td>36722592</td>\n",
       "      <td>[INTERNET, CAMERA, ACCESS_NETWORK_STATE, ACCES...</td>\n",
       "      <td>79</td>\n",
       "    </tr>\n",
       "    <tr>\n",
       "      <th>3</th>\n",
       "      <td>riskware</td>\n",
       "      <td>3.0</td>\n",
       "      <td>2.0</td>\n",
       "      <td>0.0</td>\n",
       "      <td>3.0</td>\n",
       "      <td>5a894801fd44294d0b2ef5c2f3264c2a</td>\n",
       "      <td>266169</td>\n",
       "      <td>[READ_SMS, RECEIVE_SMS, RECORD_AUDIO, READ_EXT...</td>\n",
       "      <td>1</td>\n",
       "    </tr>\n",
       "    <tr>\n",
       "      <th>4</th>\n",
       "      <td>clean</td>\n",
       "      <td>16.0</td>\n",
       "      <td>0.0</td>\n",
       "      <td>0.0</td>\n",
       "      <td>0.0</td>\n",
       "      <td>ec6f136f213896fd2d9ebcde2da0e553</td>\n",
       "      <td>3371223</td>\n",
       "      <td>[CAMERA, INTERNET, VIBRATE, FLASHLIGHT, READ_C...</td>\n",
       "      <td>17</td>\n",
       "    </tr>\n",
       "    <tr>\n",
       "      <th>...</th>\n",
       "      <td>...</td>\n",
       "      <td>...</td>\n",
       "      <td>...</td>\n",
       "      <td>...</td>\n",
       "      <td>...</td>\n",
       "      <td>...</td>\n",
       "      <td>...</td>\n",
       "      <td>...</td>\n",
       "      <td>...</td>\n",
       "    </tr>\n",
       "    <tr>\n",
       "      <th>31092</th>\n",
       "      <td>clean</td>\n",
       "      <td>53.0</td>\n",
       "      <td>7.0</td>\n",
       "      <td>5.0</td>\n",
       "      <td>10.0</td>\n",
       "      <td>c47508396aac9a062f24e261a77f1eb0</td>\n",
       "      <td>31849325</td>\n",
       "      <td>[MOUNT_UNMOUNT_FILESYSTEMS, ACCESS_WIFI_STATE,...</td>\n",
       "      <td>10200</td>\n",
       "    </tr>\n",
       "    <tr>\n",
       "      <th>31093</th>\n",
       "      <td>clean</td>\n",
       "      <td>44.0</td>\n",
       "      <td>6.0</td>\n",
       "      <td>3.0</td>\n",
       "      <td>5.0</td>\n",
       "      <td>d020c30b700c95803d94f3844dc7cb98</td>\n",
       "      <td>16890758</td>\n",
       "      <td>[INTERNET, ACCESS_NETWORK_STATE, ACCESS_WIFI_S...</td>\n",
       "      <td>134</td>\n",
       "    </tr>\n",
       "    <tr>\n",
       "      <th>31094</th>\n",
       "      <td>clean</td>\n",
       "      <td>99.0</td>\n",
       "      <td>9.0</td>\n",
       "      <td>9.0</td>\n",
       "      <td>13.0</td>\n",
       "      <td>c50f7c947c91220193e38765355525ed</td>\n",
       "      <td>31058991</td>\n",
       "      <td>[INTERNET, ACCESS_WIFI_STATE, ACCESS_COARSE_LO...</td>\n",
       "      <td>12400</td>\n",
       "    </tr>\n",
       "    <tr>\n",
       "      <th>31095</th>\n",
       "      <td>clean</td>\n",
       "      <td>30.0</td>\n",
       "      <td>4.0</td>\n",
       "      <td>3.0</td>\n",
       "      <td>7.0</td>\n",
       "      <td>ddebbbc01e1e4d0cee1b833583f3c563</td>\n",
       "      <td>7075561</td>\n",
       "      <td>[INTERNET, GET_ACCOUNTS, READ_PROFILE, READ_CO...</td>\n",
       "      <td>4</td>\n",
       "    </tr>\n",
       "    <tr>\n",
       "      <th>31096</th>\n",
       "      <td>riskware</td>\n",
       "      <td>78.0</td>\n",
       "      <td>9.0</td>\n",
       "      <td>3.0</td>\n",
       "      <td>17.0</td>\n",
       "      <td>12b7c62d9ff9956cbfce0bf103afc6f3</td>\n",
       "      <td>55866583</td>\n",
       "      <td>[READ_LOGS, INTERNET, ACCESS_NETWORK_STATE, AC...</td>\n",
       "      <td>1641</td>\n",
       "    </tr>\n",
       "  </tbody>\n",
       "</table>\n",
       "<p>31097 rows × 9 columns</p>\n",
       "</div>"
      ],
      "text/plain": [
       "        verdict  activities  receivers  providers  services  \\\n",
       "0         clean         4.0        0.0        1.0       0.0   \n",
       "1      riskware        25.0        4.0        0.0      26.0   \n",
       "2         clean        97.0        5.0        5.0      11.0   \n",
       "3      riskware         3.0        2.0        0.0       3.0   \n",
       "4         clean        16.0        0.0        0.0       0.0   \n",
       "...         ...         ...        ...        ...       ...   \n",
       "31092     clean        53.0        7.0        5.0      10.0   \n",
       "31093     clean        44.0        6.0        3.0       5.0   \n",
       "31094     clean        99.0        9.0        9.0      13.0   \n",
       "31095     clean        30.0        4.0        3.0       7.0   \n",
       "31096  riskware        78.0        9.0        3.0      17.0   \n",
       "\n",
       "                                    md5      size  \\\n",
       "0      32c68064d189be3258d5dd698df88e17  32100194   \n",
       "1      2f55e7604e2ef1e394470a988a85c426    411056   \n",
       "2      28099c074b8111181b79b41739c76d68  36722592   \n",
       "3      5a894801fd44294d0b2ef5c2f3264c2a    266169   \n",
       "4      ec6f136f213896fd2d9ebcde2da0e553   3371223   \n",
       "...                                 ...       ...   \n",
       "31092  c47508396aac9a062f24e261a77f1eb0  31849325   \n",
       "31093  d020c30b700c95803d94f3844dc7cb98  16890758   \n",
       "31094  c50f7c947c91220193e38765355525ed  31058991   \n",
       "31095  ddebbbc01e1e4d0cee1b833583f3c563   7075561   \n",
       "31096  12b7c62d9ff9956cbfce0bf103afc6f3  55866583   \n",
       "\n",
       "                                             permissions  vcode  \n",
       "0      [INTERNET, WRITE_EXTERNAL_STORAGE, ACCESS_NETW...     33  \n",
       "1      [PACKAGE_USAGE_STATS, RECEIVE_SMS, WRITE_SMS, ...      1  \n",
       "2      [INTERNET, CAMERA, ACCESS_NETWORK_STATE, ACCES...     79  \n",
       "3      [READ_SMS, RECEIVE_SMS, RECORD_AUDIO, READ_EXT...      1  \n",
       "4      [CAMERA, INTERNET, VIBRATE, FLASHLIGHT, READ_C...     17  \n",
       "...                                                  ...    ...  \n",
       "31092  [MOUNT_UNMOUNT_FILESYSTEMS, ACCESS_WIFI_STATE,...  10200  \n",
       "31093  [INTERNET, ACCESS_NETWORK_STATE, ACCESS_WIFI_S...    134  \n",
       "31094  [INTERNET, ACCESS_WIFI_STATE, ACCESS_COARSE_LO...  12400  \n",
       "31095  [INTERNET, GET_ACCOUNTS, READ_PROFILE, READ_CO...      4  \n",
       "31096  [READ_LOGS, INTERNET, ACCESS_NETWORK_STATE, AC...   1641  \n",
       "\n",
       "[31097 rows x 9 columns]"
      ]
     },
     "execution_count": 141,
     "metadata": {},
     "output_type": "execute_result"
    }
   ],
   "source": [
    "from zipfile import ZipFile\n",
    "\n",
    "with ZipFile('android.dat.zip', 'r') as f:\n",
    "    f.extractall()\n",
    "    \n",
    "with open('android.dat', 'r') as f:\n",
    "    android = json.load(f)\n",
    "    \n",
    "df = pd.DataFrame(android)\n",
    "df"
   ]
  },
  {
   "cell_type": "code",
   "execution_count": 142,
   "metadata": {},
   "outputs": [
    {
     "data": {
      "text/plain": [
       "909"
      ]
     },
     "execution_count": 142,
     "metadata": {},
     "output_type": "execute_result"
    }
   ],
   "source": [
    "from sklearn.preprocessing import MultiLabelBinarizer\n",
    "\n",
    "mlb = MultiLabelBinarizer()\n",
    "perms = mlb.fit_transform(df['permissions'])\n",
    "\n",
    "len(mlb.classes_)"
   ]
  },
  {
   "cell_type": "code",
   "execution_count": 143,
   "metadata": {},
   "outputs": [
    {
     "data": {
      "text/html": [
       "<div>\n",
       "<style scoped>\n",
       "    .dataframe tbody tr th:only-of-type {\n",
       "        vertical-align: middle;\n",
       "    }\n",
       "\n",
       "    .dataframe tbody tr th {\n",
       "        vertical-align: top;\n",
       "    }\n",
       "\n",
       "    .dataframe thead th {\n",
       "        text-align: right;\n",
       "    }\n",
       "</style>\n",
       "<table border=\"1\" class=\"dataframe\">\n",
       "  <thead>\n",
       "    <tr style=\"text-align: right;\">\n",
       "      <th></th>\n",
       "      <th>activities</th>\n",
       "      <th>receivers</th>\n",
       "      <th>providers</th>\n",
       "      <th>services</th>\n",
       "      <th>size</th>\n",
       "      <th>permissions</th>\n",
       "      <th></th>\n",
       "      <th>ACCESS_COARSE_LOCATION</th>\n",
       "      <th>INTERACT_ACROSS_USERS</th>\n",
       "      <th>MANAGE_DOCUMENTS</th>\n",
       "      <th>...</th>\n",
       "      <th>sec.MDM_WIFI</th>\n",
       "      <th>sec.RECEIVE_BLOCKED_SMS_MMS</th>\n",
       "      <th>sec.SMIME_CERTIFICATE</th>\n",
       "      <th>status_bar</th>\n",
       "      <th>use_fingerprint</th>\n",
       "      <th>w</th>\n",
       "      <th>wake_lock</th>\n",
       "      <th>write_apn_settings</th>\n",
       "      <th>write_calendar</th>\n",
       "      <th>write_secure_settings</th>\n",
       "    </tr>\n",
       "  </thead>\n",
       "  <tbody>\n",
       "    <tr>\n",
       "      <th>count</th>\n",
       "      <td>31097.000000</td>\n",
       "      <td>31097.000000</td>\n",
       "      <td>31097.000000</td>\n",
       "      <td>31097.000000</td>\n",
       "      <td>3.109700e+04</td>\n",
       "      <td>31097.000000</td>\n",
       "      <td>31097.000000</td>\n",
       "      <td>31097.000000</td>\n",
       "      <td>31097.000000</td>\n",
       "      <td>31097.000000</td>\n",
       "      <td>...</td>\n",
       "      <td>31097.000000</td>\n",
       "      <td>31097.000000</td>\n",
       "      <td>31097.000000</td>\n",
       "      <td>31097.000000</td>\n",
       "      <td>31097.000000</td>\n",
       "      <td>31097.000000</td>\n",
       "      <td>31097.000000</td>\n",
       "      <td>31097.000000</td>\n",
       "      <td>31097.000000</td>\n",
       "      <td>31097.000000</td>\n",
       "    </tr>\n",
       "    <tr>\n",
       "      <th>mean</th>\n",
       "      <td>39.245426</td>\n",
       "      <td>5.338875</td>\n",
       "      <td>2.476509</td>\n",
       "      <td>8.247452</td>\n",
       "      <td>1.805938e+07</td>\n",
       "      <td>14.126765</td>\n",
       "      <td>0.000225</td>\n",
       "      <td>0.000064</td>\n",
       "      <td>0.000064</td>\n",
       "      <td>0.000032</td>\n",
       "      <td>...</td>\n",
       "      <td>0.000772</td>\n",
       "      <td>0.000386</td>\n",
       "      <td>0.000225</td>\n",
       "      <td>0.000032</td>\n",
       "      <td>0.000032</td>\n",
       "      <td>0.000032</td>\n",
       "      <td>0.000032</td>\n",
       "      <td>0.000257</td>\n",
       "      <td>0.000032</td>\n",
       "      <td>0.000032</td>\n",
       "    </tr>\n",
       "    <tr>\n",
       "      <th>std</th>\n",
       "      <td>75.024134</td>\n",
       "      <td>6.465626</td>\n",
       "      <td>4.863856</td>\n",
       "      <td>10.465661</td>\n",
       "      <td>2.351635e+07</td>\n",
       "      <td>11.568139</td>\n",
       "      <td>0.015002</td>\n",
       "      <td>0.008020</td>\n",
       "      <td>0.008020</td>\n",
       "      <td>0.005671</td>\n",
       "      <td>...</td>\n",
       "      <td>0.027771</td>\n",
       "      <td>0.019641</td>\n",
       "      <td>0.015002</td>\n",
       "      <td>0.005671</td>\n",
       "      <td>0.005671</td>\n",
       "      <td>0.005671</td>\n",
       "      <td>0.005671</td>\n",
       "      <td>0.016038</td>\n",
       "      <td>0.005671</td>\n",
       "      <td>0.005671</td>\n",
       "    </tr>\n",
       "    <tr>\n",
       "      <th>min</th>\n",
       "      <td>0.000000</td>\n",
       "      <td>0.000000</td>\n",
       "      <td>0.000000</td>\n",
       "      <td>0.000000</td>\n",
       "      <td>4.637000e+03</td>\n",
       "      <td>0.000000</td>\n",
       "      <td>0.000000</td>\n",
       "      <td>0.000000</td>\n",
       "      <td>0.000000</td>\n",
       "      <td>0.000000</td>\n",
       "      <td>...</td>\n",
       "      <td>0.000000</td>\n",
       "      <td>0.000000</td>\n",
       "      <td>0.000000</td>\n",
       "      <td>0.000000</td>\n",
       "      <td>0.000000</td>\n",
       "      <td>0.000000</td>\n",
       "      <td>0.000000</td>\n",
       "      <td>0.000000</td>\n",
       "      <td>0.000000</td>\n",
       "      <td>0.000000</td>\n",
       "    </tr>\n",
       "    <tr>\n",
       "      <th>25%</th>\n",
       "      <td>5.000000</td>\n",
       "      <td>1.000000</td>\n",
       "      <td>0.000000</td>\n",
       "      <td>1.000000</td>\n",
       "      <td>3.409126e+06</td>\n",
       "      <td>6.000000</td>\n",
       "      <td>0.000000</td>\n",
       "      <td>0.000000</td>\n",
       "      <td>0.000000</td>\n",
       "      <td>0.000000</td>\n",
       "      <td>...</td>\n",
       "      <td>0.000000</td>\n",
       "      <td>0.000000</td>\n",
       "      <td>0.000000</td>\n",
       "      <td>0.000000</td>\n",
       "      <td>0.000000</td>\n",
       "      <td>0.000000</td>\n",
       "      <td>0.000000</td>\n",
       "      <td>0.000000</td>\n",
       "      <td>0.000000</td>\n",
       "      <td>0.000000</td>\n",
       "    </tr>\n",
       "    <tr>\n",
       "      <th>50%</th>\n",
       "      <td>14.000000</td>\n",
       "      <td>4.000000</td>\n",
       "      <td>1.000000</td>\n",
       "      <td>5.000000</td>\n",
       "      <td>1.004509e+07</td>\n",
       "      <td>11.000000</td>\n",
       "      <td>0.000000</td>\n",
       "      <td>0.000000</td>\n",
       "      <td>0.000000</td>\n",
       "      <td>0.000000</td>\n",
       "      <td>...</td>\n",
       "      <td>0.000000</td>\n",
       "      <td>0.000000</td>\n",
       "      <td>0.000000</td>\n",
       "      <td>0.000000</td>\n",
       "      <td>0.000000</td>\n",
       "      <td>0.000000</td>\n",
       "      <td>0.000000</td>\n",
       "      <td>0.000000</td>\n",
       "      <td>0.000000</td>\n",
       "      <td>0.000000</td>\n",
       "    </tr>\n",
       "    <tr>\n",
       "      <th>75%</th>\n",
       "      <td>42.000000</td>\n",
       "      <td>7.000000</td>\n",
       "      <td>3.000000</td>\n",
       "      <td>12.000000</td>\n",
       "      <td>2.292024e+07</td>\n",
       "      <td>21.000000</td>\n",
       "      <td>0.000000</td>\n",
       "      <td>0.000000</td>\n",
       "      <td>0.000000</td>\n",
       "      <td>0.000000</td>\n",
       "      <td>...</td>\n",
       "      <td>0.000000</td>\n",
       "      <td>0.000000</td>\n",
       "      <td>0.000000</td>\n",
       "      <td>0.000000</td>\n",
       "      <td>0.000000</td>\n",
       "      <td>0.000000</td>\n",
       "      <td>0.000000</td>\n",
       "      <td>0.000000</td>\n",
       "      <td>0.000000</td>\n",
       "      <td>0.000000</td>\n",
       "    </tr>\n",
       "    <tr>\n",
       "      <th>max</th>\n",
       "      <td>1058.000000</td>\n",
       "      <td>159.000000</td>\n",
       "      <td>109.000000</td>\n",
       "      <td>210.000000</td>\n",
       "      <td>2.901789e+08</td>\n",
       "      <td>124.000000</td>\n",
       "      <td>1.000000</td>\n",
       "      <td>1.000000</td>\n",
       "      <td>1.000000</td>\n",
       "      <td>1.000000</td>\n",
       "      <td>...</td>\n",
       "      <td>1.000000</td>\n",
       "      <td>1.000000</td>\n",
       "      <td>1.000000</td>\n",
       "      <td>1.000000</td>\n",
       "      <td>1.000000</td>\n",
       "      <td>1.000000</td>\n",
       "      <td>1.000000</td>\n",
       "      <td>1.000000</td>\n",
       "      <td>1.000000</td>\n",
       "      <td>1.000000</td>\n",
       "    </tr>\n",
       "  </tbody>\n",
       "</table>\n",
       "<p>8 rows × 915 columns</p>\n",
       "</div>"
      ],
      "text/plain": [
       "         activities     receivers     providers      services          size  \\\n",
       "count  31097.000000  31097.000000  31097.000000  31097.000000  3.109700e+04   \n",
       "mean      39.245426      5.338875      2.476509      8.247452  1.805938e+07   \n",
       "std       75.024134      6.465626      4.863856     10.465661  2.351635e+07   \n",
       "min        0.000000      0.000000      0.000000      0.000000  4.637000e+03   \n",
       "25%        5.000000      1.000000      0.000000      1.000000  3.409126e+06   \n",
       "50%       14.000000      4.000000      1.000000      5.000000  1.004509e+07   \n",
       "75%       42.000000      7.000000      3.000000     12.000000  2.292024e+07   \n",
       "max     1058.000000    159.000000    109.000000    210.000000  2.901789e+08   \n",
       "\n",
       "        permissions                 ACCESS_COARSE_LOCATION  \\\n",
       "count  31097.000000  31097.000000             31097.000000   \n",
       "mean      14.126765      0.000225                 0.000064   \n",
       "std       11.568139      0.015002                 0.008020   \n",
       "min        0.000000      0.000000                 0.000000   \n",
       "25%        6.000000      0.000000                 0.000000   \n",
       "50%       11.000000      0.000000                 0.000000   \n",
       "75%       21.000000      0.000000                 0.000000   \n",
       "max      124.000000      1.000000                 1.000000   \n",
       "\n",
       "        INTERACT_ACROSS_USERS   MANAGE_DOCUMENTS  ...  sec.MDM_WIFI  \\\n",
       "count            31097.000000       31097.000000  ...  31097.000000   \n",
       "mean                 0.000064           0.000032  ...      0.000772   \n",
       "std                  0.008020           0.005671  ...      0.027771   \n",
       "min                  0.000000           0.000000  ...      0.000000   \n",
       "25%                  0.000000           0.000000  ...      0.000000   \n",
       "50%                  0.000000           0.000000  ...      0.000000   \n",
       "75%                  0.000000           0.000000  ...      0.000000   \n",
       "max                  1.000000           1.000000  ...      1.000000   \n",
       "\n",
       "       sec.RECEIVE_BLOCKED_SMS_MMS  sec.SMIME_CERTIFICATE    status_bar  \\\n",
       "count                 31097.000000           31097.000000  31097.000000   \n",
       "mean                      0.000386               0.000225      0.000032   \n",
       "std                       0.019641               0.015002      0.005671   \n",
       "min                       0.000000               0.000000      0.000000   \n",
       "25%                       0.000000               0.000000      0.000000   \n",
       "50%                       0.000000               0.000000      0.000000   \n",
       "75%                       0.000000               0.000000      0.000000   \n",
       "max                       1.000000               1.000000      1.000000   \n",
       "\n",
       "       use_fingerprint             w     wake_lock  write_apn_settings  \\\n",
       "count     31097.000000  31097.000000  31097.000000        31097.000000   \n",
       "mean          0.000032      0.000032      0.000032            0.000257   \n",
       "std           0.005671      0.005671      0.005671            0.016038   \n",
       "min           0.000000      0.000000      0.000000            0.000000   \n",
       "25%           0.000000      0.000000      0.000000            0.000000   \n",
       "50%           0.000000      0.000000      0.000000            0.000000   \n",
       "75%           0.000000      0.000000      0.000000            0.000000   \n",
       "max           1.000000      1.000000      1.000000            1.000000   \n",
       "\n",
       "       write_calendar  write_secure_settings  \n",
       "count    31097.000000           31097.000000  \n",
       "mean         0.000032               0.000032  \n",
       "std          0.005671               0.005671  \n",
       "min          0.000000               0.000000  \n",
       "25%          0.000000               0.000000  \n",
       "50%          0.000000               0.000000  \n",
       "75%          0.000000               0.000000  \n",
       "max          1.000000               1.000000  \n",
       "\n",
       "[8 rows x 915 columns]"
      ]
     },
     "execution_count": 143,
     "metadata": {},
     "output_type": "execute_result"
    }
   ],
   "source": [
    "df_ = pd.concat([df, pd.DataFrame(perms, columns=mlb.classes_)], axis='columns').set_index('md5')\n",
    "df_['permissions'] = df_['permissions'].apply(len)\n",
    "\n",
    "X = df_.drop(columns=['verdict', 'vcode'])\n",
    "y = df_['verdict']\n",
    "\n",
    "X.describe()"
   ]
  }
 ],
 "metadata": {
  "kernelspec": {
   "display_name": "Python 3 (ipykernel)",
   "language": "python",
   "name": "python3"
  },
  "language_info": {
   "codemirror_mode": {
    "name": "ipython",
    "version": 3
   },
   "file_extension": ".py",
   "mimetype": "text/x-python",
   "name": "python",
   "nbconvert_exporter": "python",
   "pygments_lexer": "ipython3",
   "version": "3.7.13"
  }
 },
 "nbformat": 4,
 "nbformat_minor": 4
}
