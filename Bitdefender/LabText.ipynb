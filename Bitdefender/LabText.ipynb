{
 "cells": [
  {
   "cell_type": "markdown",
   "metadata": {},
   "source": [
    "## Using text in AI systems"
   ]
  },
  {
   "cell_type": "markdown",
   "metadata": {},
   "source": [
    "### Text processing\n",
    "* Cleaning\n",
    "    * get rid of garbage \n",
    "    * handle punctuation\n",
    "    * lower the text\n",
    "    * stemming / lemming\n",
    "    * get rid of stopwords\n",
    "* Choices\n",
    "    * use letters\n",
    "    * use words\n",
    "    * sequence delimiter\n",
    "* Building a vocabulary"
   ]
  },
  {
   "cell_type": "markdown",
   "metadata": {},
   "source": [
    "### The ML part\n",
    "* Embedding text to numbers\n",
    "    * making a vocab\n",
    "    * different tehniques (CBOW/SkipGram)\n",
    "    * vectorizing the text\n",
    "* Arhitecture choices\n",
    "    * RNN vs CNN\n",
    "    * LSTM vs GRU"
   ]
  },
  {
   "cell_type": "markdown",
   "metadata": {},
   "source": [
    "### Cleaning text"
   ]
  },
  {
   "cell_type": "code",
   "execution_count": 3,
   "metadata": {},
   "outputs": [],
   "source": [
    "import string\n",
    "import re\n",
    "import nltk\n",
    "import json\n",
    "import numpy as np\n",
    "from tqdm.notebook import tqdm\n",
    "from sklearn.model_selection import train_test_split\n",
    "\n",
    "import matplotlib.pyplot as plt\n",
    "from sklearn import metrics\n",
    "import seaborn as sns"
   ]
  },
  {
   "cell_type": "code",
   "execution_count": 4,
   "metadata": {},
   "outputs": [
    {
     "name": "stderr",
     "output_type": "stream",
     "text": [
      "[nltk_data] Downloading package stopwords to\n",
      "[nltk_data]     /Users/yourlogarithm/nltk_data...\n",
      "[nltk_data]   Package stopwords is already up-to-date!\n"
     ]
    },
    {
     "data": {
      "text/plain": [
       "True"
      ]
     },
     "execution_count": 4,
     "metadata": {},
     "output_type": "execute_result"
    }
   ],
   "source": [
    "nltk.download('stopwords')\n"
   ]
  },
  {
   "cell_type": "code",
   "execution_count": 5,
   "metadata": {},
   "outputs": [],
   "source": [
    "sample = 'ANA are3 mere!!! ! !  GAMING Dar ioana.....? ┤ÑI▄ë. the the the the banking'"
   ]
  },
  {
   "cell_type": "code",
   "execution_count": 6,
   "metadata": {},
   "outputs": [
    {
     "name": "stdout",
     "output_type": "stream",
     "text": [
      "ANA are3 mere!!! ! !  GAMING Dar ioana.....? I. the the the the banking\n"
     ]
    }
   ],
   "source": [
    "# Garbage (here we clean non-printable characters)\n",
    "# sample = ''.join(filter(lambda x: x in string.printable, sample))\n",
    "sample = ''.join([el for el in sample if el in string.printable])\n",
    "print(sample)"
   ]
  },
  {
   "cell_type": "raw",
   "metadata": {},
   "source": [
    "# Collapse multiple occurances of punctuation\n",
    "s = 'ANA are3 mere !!! ! !  GAMING Dar ioana.....? I. the . . the the the banking'\n",
    "s = re.sub(r'([ ]*![ ]*){4,}', r'!!!', s)\n",
    "print(s)\n",
    "\n",
    "print()\n",
    "s = 'ANA are3 mere !!! ! !  GAMING Dar ioana.....? I. the . . the the the banking'\n",
    "s = re.sub(r'([.,#!?])\\1{2,}', r'\\1', s)\n",
    "print(s)\n",
    "\n",
    "print()\n",
    "s = 'ANA are3 mere !!! ! !  GAMING Dar ioana.....? I. the . . the the the banking'\n",
    "s = re.sub(r'[ ]*([!@#$%^&*()_\\-+=~`\\\\|\\'\";:/?.>,<])([ ]*\\1[ ]*){2,}', r' \\1\\1\\1 ', s)  # Collapse >=4 to 3 (punctuation)\n",
    "print(s)\n",
    "s = re.sub(r'([.,#!?])[ ]*\\1', r'\\1\\1', s)  # Remove spaces between 2 of the same\n",
    "print(s)"
   ]
  },
  {
   "cell_type": "code",
   "execution_count": 7,
   "metadata": {},
   "outputs": [
    {
     "name": "stdout",
     "output_type": "stream",
     "text": [
      "ANA are 3  mere !  !  !   !   !   GAMING Dar ioana .  .  .  .  .  ?  I .  the the the the banking\n"
     ]
    }
   ],
   "source": [
    "#Spacing (here we space out punctuation / numbers)\n",
    "sample = re.sub('([.,#!?()0-9])', r' \\1 ', sample)\n",
    "print(sample)"
   ]
  },
  {
   "cell_type": "code",
   "execution_count": 8,
   "metadata": {},
   "outputs": [
    {
     "name": "stdout",
     "output_type": "stream",
     "text": [
      "ANA are 3 mere ! ! ! ! ! GAMING Dar ioana . . . . . ? I . the the the the banking\n"
     ]
    }
   ],
   "source": [
    "sample = re.sub('\\s{2,}', ' ', sample)\n",
    "print(sample)"
   ]
  },
  {
   "cell_type": "code",
   "execution_count": 9,
   "metadata": {},
   "outputs": [
    {
     "name": "stdout",
     "output_type": "stream",
     "text": [
      "ana are 3 mere ! ! ! ! ! gaming dar ioana . . . . . ? i . the the the the banking\n"
     ]
    }
   ],
   "source": [
    "#Text lowering\n",
    "sample = sample.lower()\n",
    "print(sample)"
   ]
  },
  {
   "cell_type": "code",
   "execution_count": 10,
   "metadata": {},
   "outputs": [
    {
     "name": "stdout",
     "output_type": "stream",
     "text": [
      "bank\n"
     ]
    }
   ],
   "source": [
    "#Stemming\n",
    "from nltk.stem import PorterStemmer \n",
    "ps = PorterStemmer()\n",
    "\n",
    "print(ps.stem('banking'))"
   ]
  },
  {
   "cell_type": "code",
   "execution_count": 11,
   "metadata": {},
   "outputs": [
    {
     "name": "stdout",
     "output_type": "stream",
     "text": [
      "ana are 3 mere ! ! ! ! ! game dar ioana . . . . . ? i . the the the the bank\n"
     ]
    }
   ],
   "source": [
    "sample = ' '.join([ps.stem(word) for word in sample.split()])\n",
    "print(sample)"
   ]
  },
  {
   "cell_type": "code",
   "execution_count": 12,
   "metadata": {},
   "outputs": [
    {
     "name": "stdout",
     "output_type": "stream",
     "text": [
      "['i', 'me', 'my', 'myself', 'we', 'our', 'ours', 'ourselves', 'you', \"you're\", \"you've\", \"you'll\", \"you'd\", 'your', 'yours', 'yourself', 'yourselves', 'he', 'him', 'his', 'himself', 'she', \"she's\", 'her', 'hers', 'herself', 'it', \"it's\", 'its', 'itself', 'they', 'them', 'their', 'theirs', 'themselves', 'what', 'which', 'who', 'whom', 'this', 'that', \"that'll\", 'these', 'those', 'am', 'is', 'are', 'was', 'were', 'be', 'been', 'being', 'have', 'has', 'had', 'having', 'do', 'does', 'did', 'doing', 'a', 'an', 'the', 'and', 'but', 'if', 'or', 'because', 'as', 'until', 'while', 'of', 'at', 'by', 'for', 'with', 'about', 'against', 'between', 'into', 'through', 'during', 'before', 'after', 'above', 'below', 'to', 'from', 'up', 'down', 'in', 'out', 'on', 'off', 'over', 'under', 'again', 'further', 'then', 'once', 'here', 'there', 'when', 'where', 'why', 'how', 'all', 'any', 'both', 'each', 'few', 'more', 'most', 'other', 'some', 'such', 'no', 'nor', 'not', 'only', 'own', 'same', 'so', 'than', 'too', 'very', 's', 't', 'can', 'will', 'just', 'don', \"don't\", 'should', \"should've\", 'now', 'd', 'll', 'm', 'o', 're', 've', 'y', 'ain', 'aren', \"aren't\", 'couldn', \"couldn't\", 'didn', \"didn't\", 'doesn', \"doesn't\", 'hadn', \"hadn't\", 'hasn', \"hasn't\", 'haven', \"haven't\", 'isn', \"isn't\", 'ma', 'mightn', \"mightn't\", 'mustn', \"mustn't\", 'needn', \"needn't\", 'shan', \"shan't\", 'shouldn', \"shouldn't\", 'wasn', \"wasn't\", 'weren', \"weren't\", 'won', \"won't\", 'wouldn', \"wouldn't\"]\n"
     ]
    }
   ],
   "source": [
    "#removing stopwords\n",
    "from nltk.corpus import stopwords\n",
    "eng_stopwords = stopwords.words('english')\n",
    "print(eng_stopwords)"
   ]
  },
  {
   "cell_type": "code",
   "execution_count": 13,
   "metadata": {},
   "outputs": [
    {
     "name": "stdout",
     "output_type": "stream",
     "text": [
      "ana 3 mere ! ! ! ! ! game dar ioana . . . . . ? . bank\n"
     ]
    }
   ],
   "source": [
    "eng_stopwords = set(eng_stopwords)\n",
    "sample = ' '.join([word for word in sample.split() if word not in eng_stopwords])\n",
    "print(sample)"
   ]
  },
  {
   "cell_type": "code",
   "execution_count": 14,
   "metadata": {},
   "outputs": [
    {
     "data": {
      "text/plain": [
       "[{'ItemID': '1',\n",
       "  'Sentiment': '0',\n",
       "  'SentimentText': 'is so sad for my APL friend.............'},\n",
       " {'ItemID': '2',\n",
       "  'Sentiment': '0',\n",
       "  'SentimentText': 'I missed the New Moon trailer...'},\n",
       " {'ItemID': '3', 'Sentiment': '1', 'SentimentText': 'omg its already 7:30 :O'}]"
      ]
     },
     "execution_count": 14,
     "metadata": {},
     "output_type": "execute_result"
    }
   ],
   "source": [
    "#Vocab building\n",
    "with open('dset.json') as f:\n",
    "    dataset = json.load(open('dset.json'))\n",
    "dataset[:3]"
   ]
  },
  {
   "cell_type": "code",
   "execution_count": 15,
   "metadata": {},
   "outputs": [],
   "source": [
    "def process_seq(sample):\n",
    "    sample = ''.join(filter(lambda x: x in string.printable, sample))\n",
    "    sample = re.sub('([.,#!?()0-9])', r' \\1 ', sample)\n",
    "    sample = re.sub('\\s{2,}', ' ', sample)\n",
    "    sample = sample.lower()\n",
    "    sample = ' '.join([ps.stem(word) for word in sample.split()])\n",
    "    sample = ' '.join([word for word in sample.split() if word not in eng_stopwords])\n",
    "    return sample"
   ]
  },
  {
   "cell_type": "code",
   "execution_count": 16,
   "metadata": {},
   "outputs": [
    {
     "data": {
      "application/vnd.jupyter.widget-view+json": {
       "model_id": "cc824f533fc04853990259e6b80f15c6",
       "version_major": 2,
       "version_minor": 0
      },
      "text/plain": [
       "  0%|          | 0/100000 [00:00<?, ?it/s]"
      ]
     },
     "metadata": {},
     "output_type": "display_data"
    },
    {
     "data": {
      "application/vnd.jupyter.widget-view+json": {
       "model_id": "3d276a83c6bc486f9cfe850d9aea4693",
       "version_major": 2,
       "version_minor": 0
      },
      "text/plain": [
       "  0%|          | 0/100000 [00:00<?, ?it/s]"
      ]
     },
     "metadata": {},
     "output_type": "display_data"
    }
   ],
   "source": [
    "unparsed_seq = [el['SentimentText'] for el in tqdm(dataset)]\n",
    "sequences = [process_seq(el['SentimentText']) for el in tqdm(dataset)]"
   ]
  },
  {
   "cell_type": "markdown",
   "metadata": {},
   "source": [
    "# Naive Bayes"
   ]
  },
  {
   "cell_type": "markdown",
   "metadata": {},
   "source": [
    "* https://medium.com/@javiergb_com/why-testing-positive-for-a-disease-may-not-mean-you-are-sick-4a3a16a290eb\n",
    "* https://scikit-learn.org/stable/modules/naive_bayes.html"
   ]
  },
  {
   "cell_type": "markdown",
   "metadata": {},
   "source": [
    "## Libraries"
   ]
  },
  {
   "cell_type": "code",
   "execution_count": 17,
   "metadata": {},
   "outputs": [
    {
     "name": "stdout",
     "output_type": "stream",
     "text": [
      "sklearn version: 1.0.2\n"
     ]
    }
   ],
   "source": [
    "import sklearn\n",
    "print('sklearn version: ' + sklearn.__version__)  # 1.0.2\n",
    "from sklearn.feature_extraction.text import CountVectorizer\n",
    "from sklearn.naive_bayes import MultinomialNB, ComplementNB\n",
    "import pickle\n",
    "import pandas as pd\n",
    "pd.options.display.max_colwidth = 120"
   ]
  },
  {
   "cell_type": "markdown",
   "metadata": {},
   "source": [
    "## Prepare data"
   ]
  },
  {
   "cell_type": "markdown",
   "metadata": {},
   "source": [
    "Preprocess a bit more"
   ]
  },
  {
   "cell_type": "code",
   "execution_count": 18,
   "metadata": {},
   "outputs": [
    {
     "data": {
      "application/vnd.jupyter.widget-view+json": {
       "model_id": "e3d9e94eb6cf4b0c8706759b83845f37",
       "version_major": 2,
       "version_minor": 0
      },
      "text/plain": [
       "  0%|          | 0/100000 [00:00<?, ?it/s]"
      ]
     },
     "metadata": {},
     "output_type": "display_data"
    },
    {
     "data": {
      "text/plain": [
       "['sad apl friend ... ',\n",
       " 'miss new moon trailer ... ',\n",
       " 'omg alreadi 7 : 3 0 :o',\n",
       " \".. omgaga . im soooim gunna cri . i'v thi dentist sinc 11 .. wa supos 2 get crown put ( 3 0 min ) ... \",\n",
       " 'think mi bf cheat !!! t_t',\n",
       " 'worri much ?',\n",
       " 'juuussst chillin !!',\n",
       " 'sunni work tomorrow :-| tv tonight',\n",
       " 'hand uniform today . miss alreadi',\n",
       " 'hmmm... wonder number @- )']"
      ]
     },
     "execution_count": 18,
     "metadata": {},
     "output_type": "execute_result"
    }
   ],
   "source": [
    "def process_seq_NB(sample):\n",
    "    sample = re.sub(r'[ ]*([!@#$%^&*()_\\-+=~`\\\\|\\'\";:/?.>,<])([ ]*\\1[ ]*){2,}', r' \\1\\1\\1 ', sample)  # Collapse >=4 to 3 (punctuation)\n",
    "    sample = re.sub(r'[ ]*([a-z])([ ]*\\1[ ]*){2,}', r'\\1\\1\\1', sample)  # Collapse >=4 to 3 (letters) (same, but no spaces)\n",
    "    sample = re.sub(r'([.,#!?()0-9])[ ]*\\1', r'\\1\\1', sample)  # Remove spaces between 2 of the same\n",
    "#     sample = re.sub(r'(\\d)\\s+(\\d)', r'\\1\\2', sample)  # Remove spaces between 2 digits\n",
    "    sample = re.sub('\\s{2,}', ' ', sample)  # Collapse extra spaces again\n",
    "    return sample\n",
    "\n",
    "sequences_NB = [process_seq_NB(s) for s in tqdm(sequences)]\n",
    "sequences_NB[:10]"
   ]
  },
  {
   "cell_type": "markdown",
   "metadata": {},
   "source": [
    "##### Get y, this doesn't go in the vectorizer"
   ]
  },
  {
   "cell_type": "code",
   "execution_count": 19,
   "metadata": {},
   "outputs": [
    {
     "data": {
      "application/vnd.jupyter.widget-view+json": {
       "model_id": "84fb344174a6465b821956c4130f3785",
       "version_major": 2,
       "version_minor": 0
      },
      "text/plain": [
       "  0%|          | 0/100000 [00:00<?, ?it/s]"
      ]
     },
     "metadata": {},
     "output_type": "display_data"
    }
   ],
   "source": [
    "y_NB = [int(el['Sentiment']) for el in tqdm(dataset)]"
   ]
  },
  {
   "cell_type": "markdown",
   "metadata": {},
   "source": [
    "Split into train/test dataset"
   ]
  },
  {
   "cell_type": "code",
   "execution_count": 20,
   "metadata": {},
   "outputs": [
    {
     "data": {
      "text/plain": [
       "(80000, 20000, 80000, 20000)"
      ]
     },
     "execution_count": 20,
     "metadata": {},
     "output_type": "execute_result"
    }
   ],
   "source": [
    "sequences_NB_train, sequences_NB_test, y_NB_train, y_NB_test = train_test_split(sequences_NB, y_NB, test_size=.2, shuffle=False)\n",
    "len(sequences_NB_train), len(sequences_NB_test), len(y_NB_train), len(y_NB_test)"
   ]
  },
  {
   "cell_type": "markdown",
   "metadata": {},
   "source": [
    "Final version of vectorizer"
   ]
  },
  {
   "cell_type": "code",
   "execution_count": 21,
   "metadata": {},
   "outputs": [
    {
     "name": "stdout",
     "output_type": "stream",
     "text": [
      "(7004,) ['00' '00 00' '00 follow' ... 'zombi' 'zone' 'zoo']\n",
      "CPU times: user 776 ms, sys: 26.4 ms, total: 803 ms\n",
      "Wall time: 805 ms\n"
     ]
    }
   ],
   "source": [
    "%%time\n",
    "vectorizer = CountVectorizer(\n",
    "    analyzer='word',\n",
    "    ngram_range=(1, 2), \n",
    "    # max_features=100_000, \n",
    "    min_df=10, \n",
    ")\n",
    "\n",
    "X_NB_train = vectorizer.fit_transform(sequences_NB_train)\n",
    "X_NB_test = vectorizer.transform(sequences_NB_test)\n",
    "\n",
    "features = vectorizer.get_feature_names_out()\n",
    "print(features.shape, features)"
   ]
  },
  {
   "cell_type": "code",
   "execution_count": 64,
   "metadata": {},
   "outputs": [
    {
     "name": "stdout",
     "output_type": "stream",
     "text": [
      "(80000, 7004)\n"
     ]
    },
    {
     "ename": "AttributeError",
     "evalue": "'list' object has no attribute 'shape'",
     "output_type": "error",
     "traceback": [
      "\u001b[0;31m---------------------------------------------------------------------------\u001b[0m",
      "\u001b[0;31mAttributeError\u001b[0m                            Traceback (most recent call last)",
      "\u001b[1;32m/Users/yourlogarithm/Projects/machine-learning/Bitdefender/lab6/LabText.ipynb Cell 33'\u001b[0m in \u001b[0;36m<cell line: 2>\u001b[0;34m()\u001b[0m\n\u001b[1;32m      <a href='vscode-notebook-cell:/Users/yourlogarithm/Projects/machine-learning/Bitdefender/lab6/LabText.ipynb#ch0000089?line=0'>1</a>\u001b[0m \u001b[39mprint\u001b[39m(X_NB_train\u001b[39m.\u001b[39mshape)\n\u001b[0;32m----> <a href='vscode-notebook-cell:/Users/yourlogarithm/Projects/machine-learning/Bitdefender/lab6/LabText.ipynb#ch0000089?line=1'>2</a>\u001b[0m \u001b[39mprint\u001b[39m(y_NB_train\u001b[39m.\u001b[39;49mshape)\n",
      "\u001b[0;31mAttributeError\u001b[0m: 'list' object has no attribute 'shape'"
     ]
    }
   ],
   "source": [
    "print(X_NB_train.shape)\n",
    "print(y_NB_train.shape)"
   ]
  },
  {
   "cell_type": "markdown",
   "metadata": {},
   "source": [
    "Train model (MultinomialNB)"
   ]
  },
  {
   "cell_type": "code",
   "execution_count": 22,
   "metadata": {},
   "outputs": [
    {
     "name": "stdout",
     "output_type": "stream",
     "text": [
      "Train score:  75.02%\n",
      "Test score:  72.16%\n"
     ]
    }
   ],
   "source": [
    "model_Multi_NB = MultinomialNB()\n",
    "model_Multi_NB.fit(X_NB_train, y_NB_train)\n",
    "print(f'Train score: {model_Multi_NB.score(X_NB_train, y_NB_train): .2%}')\n",
    "print(f'Test score: {model_Multi_NB.score(X_NB_test, y_NB_test): .2%}')"
   ]
  },
  {
   "cell_type": "code",
   "execution_count": 23,
   "metadata": {},
   "outputs": [],
   "source": [
    "# Save Multinomial model to sidk\n",
    "with open(\"model_Multi_NB.dat\", 'wb') as fout:\n",
    "    pickle.dump(model_Multi_NB, fout)\n",
    "with open(\"vectorizer_Multi_NB.dat\", 'wb') as fout:\n",
    "    pickle.dump(vectorizer, fout)"
   ]
  },
  {
   "cell_type": "code",
   "execution_count": 24,
   "metadata": {},
   "outputs": [
    {
     "data": {
      "text/plain": [
       "<AxesSubplot:>"
      ]
     },
     "execution_count": 24,
     "metadata": {},
     "output_type": "execute_result"
    },
    {
     "data": {
      "image/png": "[encoded data removed]",
      "text/plain": [
       "<Figure size 432x288 with 2 Axes>"
      ]
     },
     "metadata": {
      "needs_background": "light"
     },
     "output_type": "display_data"
    }
   ],
   "source": [
    "y_NB_pred = model_Multi_NB.predict(X_NB_test)\n",
    "cmat = metrics.confusion_matrix(y_NB_test, y_NB_pred)\n",
    "cmn = cmat.astype('float') / cmat.sum(axis=1)[:, np.newaxis]\n",
    "sns.heatmap(cmn, annot=True)"
   ]
  },
  {
   "cell_type": "markdown",
   "metadata": {},
   "source": [
    "## Other trained"
   ]
  },
  {
   "cell_type": "markdown",
   "metadata": {},
   "source": [
    "#### min_df=1, ngram_range=(1, 2)"
   ]
  },
  {
   "cell_type": "code",
   "execution_count": 25,
   "metadata": {},
   "outputs": [
    {
     "name": "stdout",
     "output_type": "stream",
     "text": [
      "(391175,) ['00' '00 00' '00 11' ... 'zzeba harri' 'zzj' 'zzsp']\n",
      "CPU times: user 1.47 s, sys: 72.1 ms, total: 1.54 s\n",
      "Wall time: 1.3 s\n"
     ]
    }
   ],
   "source": [
    "%%time\n",
    "test_vectorizer = CountVectorizer(analyzer='word',\n",
    "    ngram_range=(1, 2), \n",
    "#                              max_features=100_000, \n",
    "    min_df=1, \n",
    ")\n",
    "test_X_NB_train, test_X_NB_test = test_vectorizer.fit_transform(sequences_NB_train), test_vectorizer.transform(sequences_NB_test)\n",
    "\n",
    "test_features = test_vectorizer.get_feature_names_out()\n",
    "print(test_features.shape, test_features)"
   ]
  },
  {
   "cell_type": "code",
   "execution_count": 26,
   "metadata": {},
   "outputs": [
    {
     "name": "stdout",
     "output_type": "stream",
     "text": [
      "Train score:  96.40%\n",
      "Test score:  72.69%\n"
     ]
    }
   ],
   "source": [
    "# MultinomialNB\n",
    "test_model_Multi_NB = MultinomialNB()\n",
    "test_model_Multi_NB.fit(test_X_NB_train, y_NB_train)\n",
    "print(f'Train score: {test_model_Multi_NB.score(test_X_NB_train, y_NB_train): .2%}')\n",
    "print(f'Test score: {test_model_Multi_NB.score(test_X_NB_test, y_NB_test): .2%}')"
   ]
  },
  {
   "cell_type": "code",
   "execution_count": 27,
   "metadata": {},
   "outputs": [],
   "source": [
    "# Save Multinomial model to disk and vectorizer\n",
    "t1 = '_Multi_NB_mdf1_ngram12.dat'\n",
    "with open(f\"test_model\" + t1, 'wb') as fout:\n",
    "    pickle.dump(test_model_Multi_NB, fout)\n",
    "with open(f\"test_vectorizer\" + t1, 'wb') as fout:\n",
    "    pickle.dump(test_vectorizer, fout)"
   ]
  },
  {
   "cell_type": "markdown",
   "metadata": {},
   "source": [
    "#### min_df=1, ngram_range=(1, 6)"
   ]
  },
  {
   "cell_type": "code",
   "execution_count": 28,
   "metadata": {},
   "outputs": [
    {
     "name": "stdout",
     "output_type": "stream",
     "text": [
      "(1492315,) ['00' '00 00' '00 00 00' ... 'zzeba harri potter' 'zzj' 'zzsp']\n",
      "CPU times: user 4.25 s, sys: 146 ms, total: 4.39 s\n",
      "Wall time: 4.45 s\n"
     ]
    }
   ],
   "source": [
    "%%time\n",
    "test_vectorizer = CountVectorizer(analyzer='word',\n",
    "                             ngram_range=(1, 6), \n",
    "#                              max_features=100_000, \n",
    "                             min_df=1, \n",
    "                            )\n",
    "test_X_NB_train, test_X_NB_test = test_vectorizer.fit_transform(sequences_NB_train), test_vectorizer.transform(sequences_NB_test)\n",
    "\n",
    "test_features = test_vectorizer.get_feature_names_out()\n",
    "print(test_features.shape, test_features)"
   ]
  },
  {
   "cell_type": "code",
   "execution_count": 29,
   "metadata": {},
   "outputs": [
    {
     "name": "stdout",
     "output_type": "stream",
     "text": [
      "Train score:  98.22%\n",
      "Test score:  72.70%\n"
     ]
    }
   ],
   "source": [
    "# MultinomialNB\n",
    "test_model_Multi_NB = MultinomialNB()\n",
    "test_model_Multi_NB.fit(test_X_NB_train, y_NB_train)\n",
    "print(f'Train score: {test_model_Multi_NB.score(test_X_NB_train, y_NB_train): .2%}')\n",
    "print(f'Test score: {test_model_Multi_NB.score(test_X_NB_test, y_NB_test): .2%}')"
   ]
  },
  {
   "cell_type": "code",
   "execution_count": 30,
   "metadata": {},
   "outputs": [],
   "source": [
    "# Save Multinomial model to disk and vectorizer\n",
    "t2 = '_Multi_NB_mdf1_ngram16.dat'\n",
    "with open(f\"test_model\" + t2, 'wb') as fout:\n",
    "    pickle.dump(test_model_Multi_NB, fout)\n",
    "with open(f\"test_vectorizer\" + t2, 'wb') as fout:\n",
    "    pickle.dump(test_vectorizer, fout)"
   ]
  },
  {
   "cell_type": "markdown",
   "metadata": {},
   "source": [
    "## Speed comparison (min_df=10, ngram_range=(1, 2)) vs (min_df=1, ngram_range=(1, 6))"
   ]
  },
  {
   "cell_type": "code",
   "execution_count": 31,
   "metadata": {},
   "outputs": [],
   "source": [
    "#OPTIMIZED model\n",
    "with open(\"model_Multi_NB.dat\", 'rb') as fin:\n",
    "    test_model_Multi_NB_mdf1_ngram12 = pickle.load(fin)\n",
    "with open(\"vectorizer_Multi_NB.dat\", 'rb') as fin:\n",
    "    test_vectorizer_Multi_NB_mdf1_ngram12 = pickle.load(fin)\n",
    "\n",
    "# BIG model\n",
    "with open(f\"test_model\" + t2, 'rb') as fin:\n",
    "    test_model_Multi_NB_mdf1_ngram16 = pickle.load(fin)\n",
    "with open(f\"test_vectorizer\" + t2, 'rb') as fin:\n",
    "    test_vectorizer_Multi_NB_mdf1_ngram16 = pickle.load(fin)"
   ]
  },
  {
   "cell_type": "code",
   "execution_count": 32,
   "metadata": {},
   "outputs": [
    {
     "name": "stdout",
     "output_type": "stream",
     "text": [
      "CPU times: user 572 ms, sys: 5.25 ms, total: 578 ms\n",
      "Wall time: 577 ms\n"
     ]
    }
   ],
   "source": [
    "%%time\n",
    "X_NB = test_vectorizer_Multi_NB_mdf1_ngram12.transform(sequences_NB);"
   ]
  },
  {
   "cell_type": "code",
   "execution_count": 33,
   "metadata": {},
   "outputs": [
    {
     "name": "stdout",
     "output_type": "stream",
     "text": [
      "CPU times: user 19.6 ms, sys: 1.83 ms, total: 21.5 ms\n",
      "Wall time: 20.5 ms\n"
     ]
    },
    {
     "data": {
      "text/plain": [
       "0.74448"
      ]
     },
     "execution_count": 33,
     "metadata": {},
     "output_type": "execute_result"
    }
   ],
   "source": [
    "%%time\n",
    "test_model_Multi_NB_mdf1_ngram12.score(X_NB, y_NB)"
   ]
  },
  {
   "cell_type": "code",
   "execution_count": 34,
   "metadata": {},
   "outputs": [
    {
     "name": "stdout",
     "output_type": "stream",
     "text": [
      "CPU times: user 1.48 s, sys: 17.7 ms, total: 1.5 s\n",
      "Wall time: 1.5 s\n"
     ]
    }
   ],
   "source": [
    "%%time\n",
    "X_NB = test_vectorizer_Multi_NB_mdf1_ngram16.transform(sequences_NB);"
   ]
  },
  {
   "cell_type": "code",
   "execution_count": 35,
   "metadata": {},
   "outputs": [
    {
     "name": "stdout",
     "output_type": "stream",
     "text": [
      "CPU times: user 40 ms, sys: 13.1 ms, total: 53.1 ms\n",
      "Wall time: 69.1 ms\n"
     ]
    },
    {
     "data": {
      "text/plain": [
       "0.93116"
      ]
     },
     "execution_count": 35,
     "metadata": {},
     "output_type": "execute_result"
    }
   ],
   "source": [
    "%%time\n",
    "test_model_Multi_NB_mdf1_ngram16.score(X_NB, y_NB)"
   ]
  },
  {
   "cell_type": "markdown",
   "metadata": {},
   "source": [
    "## Some examples"
   ]
  },
  {
   "cell_type": "code",
   "execution_count": 36,
   "metadata": {
    "scrolled": true
   },
   "outputs": [
    {
     "data": {
      "text/plain": [
       "'sad apl friend ... '"
      ]
     },
     "execution_count": 36,
     "metadata": {},
     "output_type": "execute_result"
    }
   ],
   "source": [
    "sequences_NB[0]"
   ]
  },
  {
   "cell_type": "code",
   "execution_count": 37,
   "metadata": {},
   "outputs": [
    {
     "data": {
      "text/plain": [
       "(array([1, 1]), array([5132, 2294], dtype=int32))"
      ]
     },
     "execution_count": 37,
     "metadata": {},
     "output_type": "execute_result"
    }
   ],
   "source": [
    "row0 = X_NB_train[0]\n",
    "row0.data, row0.indices"
   ]
  },
  {
   "cell_type": "code",
   "execution_count": 38,
   "metadata": {},
   "outputs": [
    {
     "data": {
      "text/plain": [
       "array(['sad', 'friend'], dtype=object)"
      ]
     },
     "execution_count": 38,
     "metadata": {},
     "output_type": "execute_result"
    }
   ],
   "source": [
    "features[row0.indices]"
   ]
  },
  {
   "cell_type": "markdown",
   "metadata": {},
   "source": [
    "Sparse matrices are a bit weird, but what this tells us is that the first phrase is represented as a vector with 1s in two positions which correspond to the ngrams \"sad\" and \"friend\"."
   ]
  },
  {
   "cell_type": "code",
   "execution_count": 39,
   "metadata": {},
   "outputs": [
    {
     "data": {
      "text/plain": [
       "(array([-0.81587995, -0.58384445]),\n",
       " array([[ -6.23451184,  -5.99711349],\n",
       "        [ -9.76988143, -10.11096355],\n",
       "        [-10.72539288,  -7.5252522 ],\n",
       "        ...,\n",
       "        [ -9.69577346, -10.31163425],\n",
       "        [ -9.76988143,  -9.86980149],\n",
       "        [-10.25538925,  -9.56441985]]))"
      ]
     },
     "execution_count": 39,
     "metadata": {},
     "output_type": "execute_result"
    }
   ],
   "source": [
    "b = model_Multi_NB.class_log_prior_ # Likelihoods of classes before looking at the phrase\n",
    "w = model_Multi_NB.feature_log_prob_.T # Values with which likelihood is adjusted given the presence of our selected N-grams\n",
    "\n",
    "b, w"
   ]
  },
  {
   "cell_type": "code",
   "execution_count": 40,
   "metadata": {},
   "outputs": [
    {
     "data": {
      "text/plain": [
       "array([[-5.40825376, -8.34997574],\n",
       "       [-6.41325237, -6.41981395]])"
      ]
     },
     "execution_count": 40,
     "metadata": {},
     "output_type": "execute_result"
    }
   ],
   "source": [
    "w[row0.indices]"
   ]
  },
  {
   "cell_type": "code",
   "execution_count": 41,
   "metadata": {},
   "outputs": [
    {
     "name": "stdout",
     "output_type": "stream",
     "text": [
      "Model prediction: [[0.93797862 0.06202138]]\n",
      "Our initial result: [3.24827630e-06 2.14783749e-07]\n",
      "Our normalized result: [0.93797862 0.06202138]\n"
     ]
    }
   ],
   "source": [
    "out = b + (row0.data * w[row0.indices]).sum(axis=0)\n",
    "out = np.exp(out) # Back from logarithmic space\n",
    "\n",
    "print(f'Model prediction: {model_Multi_NB.predict_proba(X_NB_train[0])}')\n",
    "print(f'Our initial result: {out}')\n",
    "print(f'Our normalized result: {out / out.sum()}')"
   ]
  },
  {
   "cell_type": "markdown",
   "metadata": {},
   "source": [
    "### Some nice plots"
   ]
  },
  {
   "cell_type": "code",
   "execution_count": 42,
   "metadata": {},
   "outputs": [
    {
     "name": "stdout",
     "output_type": "stream",
     "text": [
      "FEATURE LOG PROBS:\n",
      "\n",
      "TOP 100 POSITIVE FEATURE SCORES:\n"
     ]
    },
    {
     "data": {
      "text/html": [
       "<div>\n",
       "<style scoped>\n",
       "    .dataframe tbody tr th:only-of-type {\n",
       "        vertical-align: middle;\n",
       "    }\n",
       "\n",
       "    .dataframe tbody tr th {\n",
       "        vertical-align: top;\n",
       "    }\n",
       "\n",
       "    .dataframe thead th {\n",
       "        text-align: right;\n",
       "    }\n",
       "</style>\n",
       "<table border=\"1\" class=\"dataframe\">\n",
       "  <thead>\n",
       "    <tr style=\"text-align: right;\">\n",
       "      <th></th>\n",
       "      <th>0</th>\n",
       "      <th>1</th>\n",
       "      <th>2</th>\n",
       "      <th>3</th>\n",
       "      <th>4</th>\n",
       "      <th>5</th>\n",
       "      <th>6</th>\n",
       "      <th>7</th>\n",
       "      <th>8</th>\n",
       "      <th>9</th>\n",
       "      <th>...</th>\n",
       "      <th>90</th>\n",
       "      <th>91</th>\n",
       "      <th>92</th>\n",
       "      <th>93</th>\n",
       "      <th>94</th>\n",
       "      <th>95</th>\n",
       "      <th>96</th>\n",
       "      <th>97</th>\n",
       "      <th>98</th>\n",
       "      <th>99</th>\n",
       "    </tr>\n",
       "  </thead>\n",
       "  <tbody>\n",
       "    <tr>\n",
       "      <th>feature</th>\n",
       "      <td>usewww</td>\n",
       "      <td>add everyon</td>\n",
       "      <td>com onc</td>\n",
       "      <td>day usewww</td>\n",
       "      <td>everyon train</td>\n",
       "      <td>follow day</td>\n",
       "      <td>onc add</td>\n",
       "      <td>pay vip</td>\n",
       "      <td>train pay</td>\n",
       "      <td>tweeteradd</td>\n",
       "      <td>...</td>\n",
       "      <td>thank that</td>\n",
       "      <td>thank ff</td>\n",
       "      <td>welcom</td>\n",
       "      <td>asia earn</td>\n",
       "      <td>barefoot_exec</td>\n",
       "      <td>christ</td>\n",
       "      <td>dividend even</td>\n",
       "      <td>even noth</td>\n",
       "      <td>free sharehold</td>\n",
       "      <td>glad could</td>\n",
       "    </tr>\n",
       "    <tr>\n",
       "      <th>positive</th>\n",
       "      <td>-7.649046</td>\n",
       "      <td>-7.656829</td>\n",
       "      <td>-7.656829</td>\n",
       "      <td>-7.656829</td>\n",
       "      <td>-7.656829</td>\n",
       "      <td>-7.656829</td>\n",
       "      <td>-7.656829</td>\n",
       "      <td>-7.656829</td>\n",
       "      <td>-7.656829</td>\n",
       "      <td>-8.319204</td>\n",
       "      <td>...</td>\n",
       "      <td>-9.943909</td>\n",
       "      <td>-8.577033</td>\n",
       "      <td>-6.264692</td>\n",
       "      <td>-10.023952</td>\n",
       "      <td>-10.023952</td>\n",
       "      <td>-10.023952</td>\n",
       "      <td>-10.023952</td>\n",
       "      <td>-10.023952</td>\n",
       "      <td>-10.023952</td>\n",
       "      <td>-10.023952</td>\n",
       "    </tr>\n",
       "    <tr>\n",
       "      <th>negative</th>\n",
       "      <td>-12.334831</td>\n",
       "      <td>-12.334831</td>\n",
       "      <td>-12.334831</td>\n",
       "      <td>-12.334831</td>\n",
       "      <td>-12.334831</td>\n",
       "      <td>-12.334831</td>\n",
       "      <td>-12.334831</td>\n",
       "      <td>-12.334831</td>\n",
       "      <td>-12.334831</td>\n",
       "      <td>-12.334831</td>\n",
       "      <td>...</td>\n",
       "      <td>-12.334831</td>\n",
       "      <td>-10.948536</td>\n",
       "      <td>-8.597161</td>\n",
       "      <td>-12.334831</td>\n",
       "      <td>-12.334831</td>\n",
       "      <td>-12.334831</td>\n",
       "      <td>-12.334831</td>\n",
       "      <td>-12.334831</td>\n",
       "      <td>-12.334831</td>\n",
       "      <td>-12.334831</td>\n",
       "    </tr>\n",
       "  </tbody>\n",
       "</table>\n",
       "<p>3 rows × 100 columns</p>\n",
       "</div>"
      ],
      "text/plain": [
       "                 0            1          2           3              4   \\\n",
       "feature      usewww  add everyon    com onc  day usewww  everyon train   \n",
       "positive  -7.649046    -7.656829  -7.656829   -7.656829      -7.656829   \n",
       "negative -12.334831   -12.334831 -12.334831  -12.334831     -12.334831   \n",
       "\n",
       "                  5          6          7          8           9   ...  \\\n",
       "feature   follow day    onc add    pay vip  train pay  tweeteradd  ...   \n",
       "positive   -7.656829  -7.656829  -7.656829  -7.656829   -8.319204  ...   \n",
       "negative  -12.334831 -12.334831 -12.334831 -12.334831  -12.334831  ...   \n",
       "\n",
       "                  90         91        92         93             94  \\\n",
       "feature   thank that   thank ff    welcom  asia earn  barefoot_exec   \n",
       "positive   -9.943909  -8.577033 -6.264692 -10.023952     -10.023952   \n",
       "negative  -12.334831 -10.948536 -8.597161 -12.334831     -12.334831   \n",
       "\n",
       "                 95             96         97              98          99  \n",
       "feature      christ  dividend even  even noth  free sharehold  glad could  \n",
       "positive -10.023952     -10.023952 -10.023952      -10.023952  -10.023952  \n",
       "negative -12.334831     -12.334831 -12.334831      -12.334831  -12.334831  \n",
       "\n",
       "[3 rows x 100 columns]"
      ]
     },
     "metadata": {},
     "output_type": "display_data"
    },
    {
     "name": "stdout",
     "output_type": "stream",
     "text": [
      "\n",
      "-----------------------------------------------------------------------------------------------------------------------------\n",
      "\n",
      "TOP 100 NEGATIVE FEATURE SCORES:\n"
     ]
    },
    {
     "data": {
      "text/html": [
       "<div>\n",
       "<style scoped>\n",
       "    .dataframe tbody tr th:only-of-type {\n",
       "        vertical-align: middle;\n",
       "    }\n",
       "\n",
       "    .dataframe tbody tr th {\n",
       "        vertical-align: top;\n",
       "    }\n",
       "\n",
       "    .dataframe thead th {\n",
       "        text-align: right;\n",
       "    }\n",
       "</style>\n",
       "<table border=\"1\" class=\"dataframe\">\n",
       "  <thead>\n",
       "    <tr style=\"text-align: right;\">\n",
       "      <th></th>\n",
       "      <th>0</th>\n",
       "      <th>1</th>\n",
       "      <th>2</th>\n",
       "      <th>3</th>\n",
       "      <th>4</th>\n",
       "      <th>5</th>\n",
       "      <th>6</th>\n",
       "      <th>7</th>\n",
       "      <th>8</th>\n",
       "      <th>9</th>\n",
       "      <th>...</th>\n",
       "      <th>90</th>\n",
       "      <th>91</th>\n",
       "      <th>92</th>\n",
       "      <th>93</th>\n",
       "      <th>94</th>\n",
       "      <th>95</th>\n",
       "      <th>96</th>\n",
       "      <th>97</th>\n",
       "      <th>98</th>\n",
       "      <th>99</th>\n",
       "    </tr>\n",
       "  </thead>\n",
       "  <tbody>\n",
       "    <tr>\n",
       "      <th>feature</th>\n",
       "      <td>inaperfectworld</td>\n",
       "      <td>dontyouh</td>\n",
       "      <td>lost pleas</td>\n",
       "      <td>realli sad</td>\n",
       "      <td>wont let</td>\n",
       "      <td>inaperfectworld would</td>\n",
       "      <td>sad day</td>\n",
       "      <td>that sad</td>\n",
       "      <td>cries</td>\n",
       "      <td>what wrong</td>\n",
       "      <td>...</td>\n",
       "      <td>uh oh</td>\n",
       "      <td>shitti</td>\n",
       "      <td>poor</td>\n",
       "      <td>feel bad</td>\n",
       "      <td>bummer</td>\n",
       "      <td>frustrat</td>\n",
       "      <td>sore throat</td>\n",
       "      <td>ughhh</td>\n",
       "      <td>can see</td>\n",
       "      <td>miss alreadi</td>\n",
       "    </tr>\n",
       "    <tr>\n",
       "      <th>positive</th>\n",
       "      <td>-12.508859</td>\n",
       "      <td>-12.508859</td>\n",
       "      <td>-12.508859</td>\n",
       "      <td>-12.508859</td>\n",
       "      <td>-12.508859</td>\n",
       "      <td>-12.508859</td>\n",
       "      <td>-12.508859</td>\n",
       "      <td>-12.508859</td>\n",
       "      <td>-12.508859</td>\n",
       "      <td>-11.815712</td>\n",
       "      <td>...</td>\n",
       "      <td>-11.815712</td>\n",
       "      <td>-11.410247</td>\n",
       "      <td>-9.043123</td>\n",
       "      <td>-10.562949</td>\n",
       "      <td>-10.562949</td>\n",
       "      <td>-11.410247</td>\n",
       "      <td>-11.815712</td>\n",
       "      <td>-11.815712</td>\n",
       "      <td>-11.122564</td>\n",
       "      <td>-11.122564</td>\n",
       "    </tr>\n",
       "    <tr>\n",
       "      <th>negative</th>\n",
       "      <td>-7.436991</td>\n",
       "      <td>-8.017343</td>\n",
       "      <td>-8.422808</td>\n",
       "      <td>-8.779483</td>\n",
       "      <td>-8.80847</td>\n",
       "      <td>-8.869095</td>\n",
       "      <td>-8.869095</td>\n",
       "      <td>-8.869095</td>\n",
       "      <td>-9.038994</td>\n",
       "      <td>-8.383587</td>\n",
       "      <td>...</td>\n",
       "      <td>-9.390392</td>\n",
       "      <td>-9.002626</td>\n",
       "      <td>-6.637737</td>\n",
       "      <td>-8.160444</td>\n",
       "      <td>-8.175948</td>\n",
       "      <td>-9.038994</td>\n",
       "      <td>-9.444459</td>\n",
       "      <td>-9.444459</td>\n",
       "      <td>-8.779483</td>\n",
       "      <td>-8.779483</td>\n",
       "    </tr>\n",
       "  </tbody>\n",
       "</table>\n",
       "<p>3 rows × 100 columns</p>\n",
       "</div>"
      ],
      "text/plain": [
       "                       0          1           2           3          4   \\\n",
       "feature   inaperfectworld   dontyouh  lost pleas  realli sad   wont let   \n",
       "positive       -12.508859 -12.508859  -12.508859  -12.508859 -12.508859   \n",
       "negative        -7.436991  -8.017343   -8.422808   -8.779483   -8.80847   \n",
       "\n",
       "                             5          6          7          8           9   \\\n",
       "feature   inaperfectworld would    sad day   that sad      cries  what wrong   \n",
       "positive             -12.508859 -12.508859 -12.508859 -12.508859  -11.815712   \n",
       "negative              -8.869095  -8.869095  -8.869095  -9.038994   -8.383587   \n",
       "\n",
       "          ...         90         91        92         93         94  \\\n",
       "feature   ...      uh oh     shitti      poor   feel bad     bummer   \n",
       "positive  ... -11.815712 -11.410247 -9.043123 -10.562949 -10.562949   \n",
       "negative  ...  -9.390392  -9.002626 -6.637737  -8.160444  -8.175948   \n",
       "\n",
       "                 95           96         97         98            99  \n",
       "feature    frustrat  sore throat      ughhh    can see  miss alreadi  \n",
       "positive -11.410247   -11.815712 -11.815712 -11.122564    -11.122564  \n",
       "negative  -9.038994    -9.444459  -9.444459  -8.779483     -8.779483  \n",
       "\n",
       "[3 rows x 100 columns]"
      ]
     },
     "metadata": {},
     "output_type": "display_data"
    }
   ],
   "source": [
    "# Take the log probs that are the most different of each other (most_different_scores)\n",
    "def get_most_different_scores1(input_list, sorting_key, top_nr=100, create_df=True):\n",
    "    d = [\n",
    "        {\n",
    "            'negative': a, \n",
    "            'positive': b, \n",
    "            'feature' : features[i],\n",
    "        } for a, b, i in sorted(input_list, key=sorting_key, reverse=True)[:top_nr]\n",
    "    ]\n",
    "    if create_df:\n",
    "        return pd.DataFrame(d)\n",
    "    return d\n",
    "\n",
    "print(\"FEATURE LOG PROBS:\\n\")\n",
    "a, b = model_Multi_NB.feature_log_prob_\n",
    "probs1 = [(p[0], p[1], i) for i, p in enumerate(zip(a, b))]\n",
    "most_negative_feature_scores = get_most_different_scores1(probs1, lambda x: x[0] - x[1])\n",
    "most_positive_feature_scores = get_most_different_scores1(probs1, lambda x: x[1] - x[0])\n",
    "\n",
    "print('TOP 100 POSITIVE FEATURE SCORES:')\n",
    "display(most_positive_feature_scores.T.loc[::-1])\n",
    "print()\n",
    "print('-' * 125)\n",
    "print()\n",
    "print('TOP 100 NEGATIVE FEATURE SCORES:')\n",
    "display(most_negative_feature_scores.T.loc[::-1])"
   ]
  },
  {
   "cell_type": "code",
   "execution_count": 43,
   "metadata": {},
   "outputs": [
    {
     "name": "stdout",
     "output_type": "stream",
     "text": [
      "PREDICTION LOG PROBS:\n",
      "\n",
      "TOP 100 POSITIVE PREDICTIONS:\n"
     ]
    },
    {
     "data": {
      "text/html": [
       "<div>\n",
       "<style scoped>\n",
       "    .dataframe tbody tr th:only-of-type {\n",
       "        vertical-align: middle;\n",
       "    }\n",
       "\n",
       "    .dataframe tbody tr th {\n",
       "        vertical-align: top;\n",
       "    }\n",
       "\n",
       "    .dataframe thead th {\n",
       "        text-align: right;\n",
       "    }\n",
       "</style>\n",
       "<table border=\"1\" class=\"dataframe\">\n",
       "  <thead>\n",
       "    <tr style=\"text-align: right;\">\n",
       "      <th></th>\n",
       "      <th>negative</th>\n",
       "      <th>positive</th>\n",
       "      <th>real_v</th>\n",
       "      <th>sequence</th>\n",
       "      <th>ngrams</th>\n",
       "    </tr>\n",
       "  </thead>\n",
       "  <tbody>\n",
       "    <tr>\n",
       "      <th>0</th>\n",
       "      <td>-68.877069</td>\n",
       "      <td>0.000000</td>\n",
       "      <td>1</td>\n",
       "      <td>@caramellov 4 u get 1 00 follow day usewww. tweeteradd . com onc add everyon train pay vip</td>\n",
       "      <td>[00, 00 follow, add, add everyon, com, com onc, day, day usewww, everyon, everyon train, follow, follow day, get, ge...</td>\n",
       "    </tr>\n",
       "    <tr>\n",
       "      <th>1</th>\n",
       "      <td>-68.877069</td>\n",
       "      <td>0.000000</td>\n",
       "      <td>1</td>\n",
       "      <td>@arya_johari get 1 00 follow day usewww. tweeteradd . com onc add everyon train pay vip</td>\n",
       "      <td>[00, 00 follow, add, add everyon, com, com onc, day, day usewww, everyon, everyon train, follow, follow day, get, ge...</td>\n",
       "    </tr>\n",
       "    <tr>\n",
       "      <th>2</th>\n",
       "      <td>-68.877069</td>\n",
       "      <td>0.000000</td>\n",
       "      <td>1</td>\n",
       "      <td>@chey_woah get 1 00 follow day usewww. tweeteradd . com onc add everyon train pay vip</td>\n",
       "      <td>[00, 00 follow, add, add everyon, com, com onc, day, day usewww, everyon, everyon train, follow, follow day, get, ge...</td>\n",
       "    </tr>\n",
       "    <tr>\n",
       "      <th>3</th>\n",
       "      <td>-68.877069</td>\n",
       "      <td>0.000000</td>\n",
       "      <td>1</td>\n",
       "      <td>@cheysemon get 1 00 follow day usewww. tweeteradd . com onc add everyon train pay vip</td>\n",
       "      <td>[00, 00 follow, add, add everyon, com, com onc, day, day usewww, everyon, everyon train, follow, follow day, get, ge...</td>\n",
       "    </tr>\n",
       "    <tr>\n",
       "      <th>4</th>\n",
       "      <td>-68.877069</td>\n",
       "      <td>0.000000</td>\n",
       "      <td>1</td>\n",
       "      <td>@cathybel get 1 00 follow day usewww. tweeteradd . com onc add everyon train pay vip</td>\n",
       "      <td>[00, 00 follow, add, add everyon, com, com onc, day, day usewww, everyon, everyon train, follow, follow day, get, ge...</td>\n",
       "    </tr>\n",
       "    <tr>\n",
       "      <th>...</th>\n",
       "      <td>...</td>\n",
       "      <td>...</td>\n",
       "      <td>...</td>\n",
       "      <td>...</td>\n",
       "      <td>...</td>\n",
       "    </tr>\n",
       "    <tr>\n",
       "      <th>95</th>\n",
       "      <td>-11.635468</td>\n",
       "      <td>-0.000009</td>\n",
       "      <td>1</td>\n",
       "      <td>\"@crystal 7 1 6 8 7 hey ? thank' follow</td>\n",
       "      <td>[follow, hey, hey thank, thank, thank follow]</td>\n",
       "    </tr>\n",
       "    <tr>\n",
       "      <th>96</th>\n",
       "      <td>-11.572783</td>\n",
       "      <td>-0.000009</td>\n",
       "      <td>1</td>\n",
       "      <td>@chitrachaudhuri thank follow friday tweet . veri sweet . !</td>\n",
       "      <td>[follow, follow friday, friday, sweet, thank, thank follow, tweet, veri]</td>\n",
       "    </tr>\n",
       "    <tr>\n",
       "      <th>97</th>\n",
       "      <td>-11.417276</td>\n",
       "      <td>-0.000011</td>\n",
       "      <td>1</td>\n",
       "      <td>@chris_daughtri love love love love love video ( ) ... im right ?? ; ) song .. tweet ur wife !</td>\n",
       "      <td>[im, love, love love, right, song, tweet, ur, video, wife]</td>\n",
       "    </tr>\n",
       "    <tr>\n",
       "      <th>98</th>\n",
       "      <td>-11.264259</td>\n",
       "      <td>-0.000013</td>\n",
       "      <td>1</td>\n",
       "      <td>@cityguyyoga thank follow look forward great tweet 2</td>\n",
       "      <td>[follow, forward, great, look, look forward, thank, thank follow, tweet]</td>\n",
       "    </tr>\n",
       "    <tr>\n",
       "      <th>99</th>\n",
       "      <td>-11.260807</td>\n",
       "      <td>-0.000013</td>\n",
       "      <td>1</td>\n",
       "      <td>@childrenparti thank follow friday plug ! appreci</td>\n",
       "      <td>[appreci, follow, follow friday, friday, plug, thank, thank follow]</td>\n",
       "    </tr>\n",
       "  </tbody>\n",
       "</table>\n",
       "<p>100 rows × 5 columns</p>\n",
       "</div>"
      ],
      "text/plain": [
       "     negative  positive  real_v  \\\n",
       "0  -68.877069  0.000000       1   \n",
       "1  -68.877069  0.000000       1   \n",
       "2  -68.877069  0.000000       1   \n",
       "3  -68.877069  0.000000       1   \n",
       "4  -68.877069  0.000000       1   \n",
       "..        ...       ...     ...   \n",
       "95 -11.635468 -0.000009       1   \n",
       "96 -11.572783 -0.000009       1   \n",
       "97 -11.417276 -0.000011       1   \n",
       "98 -11.264259 -0.000013       1   \n",
       "99 -11.260807 -0.000013       1   \n",
       "\n",
       "                                                                                          sequence  \\\n",
       "0       @caramellov 4 u get 1 00 follow day usewww. tweeteradd . com onc add everyon train pay vip   \n",
       "1          @arya_johari get 1 00 follow day usewww. tweeteradd . com onc add everyon train pay vip   \n",
       "2            @chey_woah get 1 00 follow day usewww. tweeteradd . com onc add everyon train pay vip   \n",
       "3            @cheysemon get 1 00 follow day usewww. tweeteradd . com onc add everyon train pay vip   \n",
       "4             @cathybel get 1 00 follow day usewww. tweeteradd . com onc add everyon train pay vip   \n",
       "..                                                                                             ...   \n",
       "95                                                         \"@crystal 7 1 6 8 7 hey ? thank' follow   \n",
       "96                                     @chitrachaudhuri thank follow friday tweet . veri sweet . !   \n",
       "97  @chris_daughtri love love love love love video ( ) ... im right ?? ; ) song .. tweet ur wife !   \n",
       "98                                            @cityguyyoga thank follow look forward great tweet 2   \n",
       "99                                               @childrenparti thank follow friday plug ! appreci   \n",
       "\n",
       "                                                                                                                     ngrams  \n",
       "0   [00, 00 follow, add, add everyon, com, com onc, day, day usewww, everyon, everyon train, follow, follow day, get, ge...  \n",
       "1   [00, 00 follow, add, add everyon, com, com onc, day, day usewww, everyon, everyon train, follow, follow day, get, ge...  \n",
       "2   [00, 00 follow, add, add everyon, com, com onc, day, day usewww, everyon, everyon train, follow, follow day, get, ge...  \n",
       "3   [00, 00 follow, add, add everyon, com, com onc, day, day usewww, everyon, everyon train, follow, follow day, get, ge...  \n",
       "4   [00, 00 follow, add, add everyon, com, com onc, day, day usewww, everyon, everyon train, follow, follow day, get, ge...  \n",
       "..                                                                                                                      ...  \n",
       "95                                                                            [follow, hey, hey thank, thank, thank follow]  \n",
       "96                                                 [follow, follow friday, friday, sweet, thank, thank follow, tweet, veri]  \n",
       "97                                                               [im, love, love love, right, song, tweet, ur, video, wife]  \n",
       "98                                                 [follow, forward, great, look, look forward, thank, thank follow, tweet]  \n",
       "99                                                      [appreci, follow, follow friday, friday, plug, thank, thank follow]  \n",
       "\n",
       "[100 rows x 5 columns]"
      ]
     },
     "metadata": {},
     "output_type": "display_data"
    },
    {
     "name": "stdout",
     "output_type": "stream",
     "text": [
      "\n",
      "--------------------------------------------------------------------------------------------------------------------------------------------------------------------------------------------------------\n",
      "\n",
      "TOP 100 NEGATIVE PREDICTIONS:\n"
     ]
    },
    {
     "data": {
      "text/html": [
       "<div>\n",
       "<style scoped>\n",
       "    .dataframe tbody tr th:only-of-type {\n",
       "        vertical-align: middle;\n",
       "    }\n",
       "\n",
       "    .dataframe tbody tr th {\n",
       "        vertical-align: top;\n",
       "    }\n",
       "\n",
       "    .dataframe thead th {\n",
       "        text-align: right;\n",
       "    }\n",
       "</style>\n",
       "<table border=\"1\" class=\"dataframe\">\n",
       "  <thead>\n",
       "    <tr style=\"text-align: right;\">\n",
       "      <th></th>\n",
       "      <th>negative</th>\n",
       "      <th>positive</th>\n",
       "      <th>real_v</th>\n",
       "      <th>sequence</th>\n",
       "      <th>ngrams</th>\n",
       "    </tr>\n",
       "  </thead>\n",
       "  <tbody>\n",
       "    <tr>\n",
       "      <th>0</th>\n",
       "      <td>-9.558505e-10</td>\n",
       "      <td>-20.768423</td>\n",
       "      <td>0</td>\n",
       "      <td>@covergirl 1 9 8 5 boatload sharpi go !!! sad sad sad sad veri sad .</td>\n",
       "      <td>[go, sad, sad sad, veri, veri sad]</td>\n",
       "    </tr>\n",
       "    <tr>\n",
       "      <th>1</th>\n",
       "      <td>-1.383324e-07</td>\n",
       "      <td>-15.793606</td>\n",
       "      <td>0</td>\n",
       "      <td>@chantelnicol lost . pleas help find good home .</td>\n",
       "      <td>[find, find good, good, good home, help, help find, home, lost, lost pleas, pleas, pleas help]</td>\n",
       "    </tr>\n",
       "    <tr>\n",
       "      <th>2</th>\n",
       "      <td>-1.383324e-07</td>\n",
       "      <td>-15.793606</td>\n",
       "      <td>0</td>\n",
       "      <td>@charahforevah lost . pleas help find good home .</td>\n",
       "      <td>[find, find good, good, good home, help, help find, home, lost, lost pleas, pleas, pleas help]</td>\n",
       "    </tr>\n",
       "    <tr>\n",
       "      <th>3</th>\n",
       "      <td>-1.383324e-07</td>\n",
       "      <td>-15.793606</td>\n",
       "      <td>0</td>\n",
       "      <td>@chandraryan lost . pleas help find good home .</td>\n",
       "      <td>[find, find good, good, good home, help, help find, home, lost, lost pleas, pleas, pleas help]</td>\n",
       "    </tr>\n",
       "    <tr>\n",
       "      <th>4</th>\n",
       "      <td>-1.383324e-07</td>\n",
       "      <td>-15.793606</td>\n",
       "      <td>0</td>\n",
       "      <td>@b_sorensen lost . pleas help find good home .</td>\n",
       "      <td>[find, find good, good, good home, help, help find, home, lost, lost pleas, pleas, pleas help]</td>\n",
       "    </tr>\n",
       "    <tr>\n",
       "      <th>...</th>\n",
       "      <td>...</td>\n",
       "      <td>...</td>\n",
       "      <td>...</td>\n",
       "      <td>...</td>\n",
       "      <td>...</td>\n",
       "    </tr>\n",
       "    <tr>\n",
       "      <th>95</th>\n",
       "      <td>-2.263130e-04</td>\n",
       "      <td>-8.393705</td>\n",
       "      <td>1</td>\n",
       "      <td>\"@chronicdanc know it' realli sad i'm alway go around</td>\n",
       "      <td>[alway, alway go, around, go, it, it realli, know, know it, realli, realli sad, sad]</td>\n",
       "    </tr>\n",
       "    <tr>\n",
       "      <th>96</th>\n",
       "      <td>-2.289879e-04</td>\n",
       "      <td>-8.381956</td>\n",
       "      <td>0</td>\n",
       "      <td>@ashleyros 3 1 9 becaus got dui im underag judg decid get 8 week random drug alcohol test im sad !!!</td>\n",
       "      <td>[alcohol, becaus, decid, drug, get, got, im, im sad, judg, random, sad, test, week]</td>\n",
       "    </tr>\n",
       "    <tr>\n",
       "      <th>97</th>\n",
       "      <td>-2.419971e-04</td>\n",
       "      <td>-8.326706</td>\n",
       "      <td>0</td>\n",
       "      <td>@chrisj 1 k lol realli need someth thi sad thing everyday</td>\n",
       "      <td>[everyday, lol, need, need someth, realli, realli need, sad, sad thing, someth, thi, thi sad, thing]</td>\n",
       "    </tr>\n",
       "    <tr>\n",
       "      <th>98</th>\n",
       "      <td>-2.472858e-04</td>\n",
       "      <td>-8.305089</td>\n",
       "      <td>0</td>\n",
       "      <td>@char_evan wish could gone last night - would seen char-dol . forev</td>\n",
       "      <td>[could, could gone, forev, gone, last, last night, night, seen, wish, wish could, would]</td>\n",
       "    </tr>\n",
       "    <tr>\n",
       "      <th>99</th>\n",
       "      <td>-2.501329e-04</td>\n",
       "      <td>-8.293643</td>\n",
       "      <td>0</td>\n",
       "      <td>@ceekaigax well orgin got 4 ticket monday can't go dad got 2 ticket co wa gut manag get</td>\n",
       "      <td>[can, can go, co, dad, get, go, got, gut, manag, monday, ticket, wa, well]</td>\n",
       "    </tr>\n",
       "  </tbody>\n",
       "</table>\n",
       "<p>100 rows × 5 columns</p>\n",
       "</div>"
      ],
      "text/plain": [
       "        negative   positive  real_v  \\\n",
       "0  -9.558505e-10 -20.768423       0   \n",
       "1  -1.383324e-07 -15.793606       0   \n",
       "2  -1.383324e-07 -15.793606       0   \n",
       "3  -1.383324e-07 -15.793606       0   \n",
       "4  -1.383324e-07 -15.793606       0   \n",
       "..           ...        ...     ...   \n",
       "95 -2.263130e-04  -8.393705       1   \n",
       "96 -2.289879e-04  -8.381956       0   \n",
       "97 -2.419971e-04  -8.326706       0   \n",
       "98 -2.472858e-04  -8.305089       0   \n",
       "99 -2.501329e-04  -8.293643       0   \n",
       "\n",
       "                                                                                                 sequence  \\\n",
       "0                                    @covergirl 1 9 8 5 boatload sharpi go !!! sad sad sad sad veri sad .   \n",
       "1                                                        @chantelnicol lost . pleas help find good home .   \n",
       "2                                                       @charahforevah lost . pleas help find good home .   \n",
       "3                                                         @chandraryan lost . pleas help find good home .   \n",
       "4                                                          @b_sorensen lost . pleas help find good home .   \n",
       "..                                                                                                    ...   \n",
       "95                                                  \"@chronicdanc know it' realli sad i'm alway go around   \n",
       "96  @ashleyros 3 1 9 becaus got dui im underag judg decid get 8 week random drug alcohol test im sad !!!    \n",
       "97                                              @chrisj 1 k lol realli need someth thi sad thing everyday   \n",
       "98                                    @char_evan wish could gone last night - would seen char-dol . forev   \n",
       "99                @ceekaigax well orgin got 4 ticket monday can't go dad got 2 ticket co wa gut manag get   \n",
       "\n",
       "                                                                                                  ngrams  \n",
       "0                                                                     [go, sad, sad sad, veri, veri sad]  \n",
       "1         [find, find good, good, good home, help, help find, home, lost, lost pleas, pleas, pleas help]  \n",
       "2         [find, find good, good, good home, help, help find, home, lost, lost pleas, pleas, pleas help]  \n",
       "3         [find, find good, good, good home, help, help find, home, lost, lost pleas, pleas, pleas help]  \n",
       "4         [find, find good, good, good home, help, help find, home, lost, lost pleas, pleas, pleas help]  \n",
       "..                                                                                                   ...  \n",
       "95                  [alway, alway go, around, go, it, it realli, know, know it, realli, realli sad, sad]  \n",
       "96                   [alcohol, becaus, decid, drug, get, got, im, im sad, judg, random, sad, test, week]  \n",
       "97  [everyday, lol, need, need someth, realli, realli need, sad, sad thing, someth, thi, thi sad, thing]  \n",
       "98              [could, could gone, forev, gone, last, last night, night, seen, wish, wish could, would]  \n",
       "99                            [can, can go, co, dad, get, go, got, gut, manag, monday, ticket, wa, well]  \n",
       "\n",
       "[100 rows x 5 columns]"
      ]
     },
     "metadata": {},
     "output_type": "display_data"
    }
   ],
   "source": [
    "# Take the log probs that are the most different of each other (most_different_scores)\n",
    "def get_most_different_scores2(input_list, sorting_key, top_nr=100, create_df=True):\n",
    "    train_len = X_NB_train.shape[0]\n",
    "    d = [\n",
    "        {\n",
    "            'negative': a, \n",
    "            'positive': b, \n",
    "            'real_v'  : y_NB[train_len + i],\n",
    "            'sequence': sequences_NB[train_len + i], \n",
    "            'ngrams'  : vectorizer.inverse_transform(X_NB_test[i])[0], \n",
    "        } for a, b, i in sorted(input_list, key=sorting_key, reverse=True)[:top_nr]\n",
    "    ]\n",
    "    if create_df:\n",
    "        return pd.DataFrame(d)\n",
    "    return d\n",
    "\n",
    "print(\"PREDICTION LOG PROBS:\\n\")\n",
    "probs2 = [(p[0], p[1], i) for i, p in enumerate(model_Multi_NB.predict_log_proba(X_NB_test))]\n",
    "most_negative_prediction_scores = get_most_different_scores2(probs2, lambda x: x[0] - x[1])\n",
    "most_positive_prediction_scores = get_most_different_scores2(probs2, lambda x: x[1] - x[0])\n",
    "\n",
    "print('TOP 100 POSITIVE PREDICTIONS:')\n",
    "display(most_positive_prediction_scores)\n",
    "print()\n",
    "print('-' * 200)\n",
    "print()\n",
    "print('TOP 100 NEGATIVE PREDICTIONS:')\n",
    "display(most_negative_prediction_scores)"
   ]
  },
  {
   "cell_type": "raw",
   "metadata": {},
   "source": [
    "# Take the log probs that are the most different of each other (most_different_scores)\n",
    "most_different_scores = sorted(zip(features, a, b), key=lambda x: abs(x[1] - x[2]), reverse=True)\n",
    "\n",
    "print(f'length: {len(most_different_scores)}')\n",
    "print()\n",
    "display(most_different_scores[:10])"
   ]
  },
  {
   "cell_type": "markdown",
   "metadata": {},
   "source": [
    "# Naive Bayes END"
   ]
  },
  {
   "cell_type": "code",
   "execution_count": 44,
   "metadata": {},
   "outputs": [
    {
     "name": "stdout",
     "output_type": "stream",
     "text": [
      "937236\n",
      "102182\n"
     ]
    }
   ],
   "source": [
    "data = ' '.join(sequences)\n",
    "words = data.split(' ')\n",
    "print(len(words))\n",
    "print(len(set(words)))"
   ]
  },
  {
   "cell_type": "code",
   "execution_count": 45,
   "metadata": {},
   "outputs": [],
   "source": [
    "apps = dict()\n",
    "for word in words:\n",
    "    apps[word] = apps.get(word, 0) + 1"
   ]
  },
  {
   "cell_type": "code",
   "execution_count": 46,
   "metadata": {
    "tags": []
   },
   "outputs": [
    {
     "data": {
      "text/plain": [
       "[('.', 106694),\n",
       " ('!', 48772),\n",
       " ('?', 20171),\n",
       " ('1', 10562),\n",
       " ('2', 8592),\n",
       " ('0', 8514),\n",
       " ('#', 6899),\n",
       " ('3', 6771),\n",
       " (\"i'm\", 6652),\n",
       " ('wa', 5828),\n",
       " ('get', 5284),\n",
       " ('thank', 5080),\n",
       " ('go', 5031),\n",
       " ('good', 4908),\n",
       " ('4', 4901),\n",
       " ('like', 4752),\n",
       " ('-', 4539),\n",
       " ('lol', 4484),\n",
       " ('u', 4456),\n",
       " ('love', 4446),\n",
       " ('9', 4127),\n",
       " ('8', 3983),\n",
       " ('know', 3882),\n",
       " ('thi', 3836),\n",
       " ('5', 3801),\n",
       " ('7', 3789),\n",
       " ('@', 3777),\n",
       " ('day', 3484),\n",
       " ('6', 3426),\n",
       " (\"it'\", 3258),\n",
       " ('one', 3089),\n",
       " (')', 3051),\n",
       " ('work', 2981),\n",
       " ('see', 2870),\n",
       " ('(', 2842),\n",
       " ('oh', 2727),\n",
       " ('time', 2725),\n",
       " ('think', 2688),\n",
       " ('well', 2629),\n",
       " ('hope', 2607),\n",
       " ('miss', 2588),\n",
       " ('want', 2568),\n",
       " ('\"', 2560),\n",
       " ('haha', 2496),\n",
       " ('im', 2444),\n",
       " ('got', 2412),\n",
       " ('realli', 2217),\n",
       " ('yeah', 2158),\n",
       " ('sorri', 2111),\n",
       " ('make', 2107),\n",
       " ('come', 2054),\n",
       " ('look', 2042),\n",
       " (\"can't\", 2032),\n",
       " ('&amp;', 1960),\n",
       " ('need', 1957),\n",
       " ('back', 1941),\n",
       " ('feel', 1896),\n",
       " ('still', 1857),\n",
       " ('follow', 1847),\n",
       " ('today', 1838),\n",
       " ('would', 1824),\n",
       " ('great', 1794),\n",
       " ('much', 1783),\n",
       " (\"that'\", 1746),\n",
       " ('ha', 1679),\n",
       " ('ye', 1641),\n",
       " (\"you'r\", 1608),\n",
       " ('hey', 1607),\n",
       " ('twitter', 1497),\n",
       " ('wish', 1495),\n",
       " ('new', 1478),\n",
       " ('night', 1459),\n",
       " ('onli', 1440),\n",
       " ('hi', 1434),\n",
       " ('tri', 1427),\n",
       " (\"i'll\", 1427),\n",
       " ('right', 1424),\n",
       " ('say', 1423),\n",
       " ('thing', 1411),\n",
       " ('whi', 1403),\n",
       " ('veri', 1378),\n",
       " ('last', 1373),\n",
       " ('watch', 1332),\n",
       " ('sad', 1322),\n",
       " ('fun', 1316),\n",
       " ('wait', 1306),\n",
       " ('better', 1285),\n",
       " ('nice', 1255),\n",
       " ('morn', 1200),\n",
       " ('could', 1194),\n",
       " ('bad', 1192),\n",
       " ('though', 1183),\n",
       " ('take', 1182),\n",
       " ('tweet', 1180),\n",
       " ('week', 1178),\n",
       " ('way', 1176),\n",
       " ('happi', 1168),\n",
       " ('use', 1166),\n",
       " ('ur', 1147),\n",
       " ('home', 1147)]"
      ]
     },
     "execution_count": 46,
     "metadata": {},
     "output_type": "execute_result"
    }
   ],
   "source": [
    "sorted(apps.items(), key= lambda kv: kv[1], reverse=True)[:100]"
   ]
  },
  {
   "cell_type": "code",
   "execution_count": 47,
   "metadata": {},
   "outputs": [],
   "source": [
    "vocab = [word for word in apps if apps[word] > 10]"
   ]
  },
  {
   "cell_type": "code",
   "execution_count": 48,
   "metadata": {},
   "outputs": [
    {
     "data": {
      "text/plain": [
       "4798"
      ]
     },
     "execution_count": 48,
     "metadata": {},
     "output_type": "execute_result"
    }
   ],
   "source": [
    "len(vocab)"
   ]
  },
  {
   "cell_type": "code",
   "execution_count": 49,
   "metadata": {},
   "outputs": [],
   "source": [
    "c2n = {word: i for i, word in enumerate(vocab)}"
   ]
  },
  {
   "cell_type": "markdown",
   "metadata": {},
   "source": [
    "## Dataset building"
   ]
  },
  {
   "cell_type": "code",
   "execution_count": 50,
   "metadata": {},
   "outputs": [
    {
     "data": {
      "application/vnd.jupyter.widget-view+json": {
       "model_id": "d561895778fc4c0787d0b90a81fd03ab",
       "version_major": 2,
       "version_minor": 0
      },
      "text/plain": [
       "  0%|          | 0/100000 [00:00<?, ?it/s]"
      ]
     },
     "metadata": {},
     "output_type": "display_data"
    }
   ],
   "source": [
    "X, Y = [], []\n",
    "for seq, el in zip(tqdm(sequences), dataset):\n",
    "    t_x = []\n",
    "    for word in seq.split(' '):\n",
    "        if word in vocab:\n",
    "            t_x.append(c2n[word])\n",
    "    t_x.extend([len(vocab)] * (50 - len(t_x)))\n",
    "    t_x = t_x[:50]\n",
    "    X.append(t_x)\n",
    "    Y.append(int(el['Sentiment']))"
   ]
  },
  {
   "cell_type": "code",
   "execution_count": 51,
   "metadata": {},
   "outputs": [],
   "source": [
    "X = np.array(X)\n",
    "Y = np.array(Y)"
   ]
  },
  {
   "cell_type": "code",
   "execution_count": 52,
   "metadata": {},
   "outputs": [],
   "source": [
    "X_train, X_test, Y_train,  Y_test = train_test_split(X, Y, test_size=.2, shuffle=True)"
   ]
  },
  {
   "cell_type": "markdown",
   "metadata": {},
   "source": [
    "## Model Building"
   ]
  },
  {
   "cell_type": "markdown",
   "metadata": {},
   "source": [
    "* https://keras.io/api/layers/core_layers/embedding/\n",
    "* https://radimrehurek.com/gensim/models/word2vec.html\n",
    "* https://towardsdatascience.com/a-comprehensive-guide-to-convolutional-neural-networks-the-eli5-way-3bd2b1164a53\n",
    "* https://towardsdatascience.com/illustrated-guide-to-lstms-and-gru-s-a-step-by-step-explanation-44e9eb85bf21"
   ]
  },
  {
   "attachments": {
    "image.png": {
     "image/png": "[encoded data removed]"
    }
   },
   "cell_type": "markdown",
   "metadata": {},
   "source": [
    "![image.png](attachment:image.png)"
   ]
  },
  {
   "attachments": {
    "image.png": {
     "image/png": "[encoded data removed]"
    }
   },
   "cell_type": "markdown",
   "metadata": {},
   "source": [
    "![image.png](attachment:image.png)"
   ]
  },
  {
   "cell_type": "markdown",
   "metadata": {},
   "source": [
    "<img src=http://ufldl.stanford.edu/wiki/images/thumb/6/6c/Convolution_schematic.gif/300px-Convolution_schematic.gif>"
   ]
  },
  {
   "cell_type": "markdown",
   "metadata": {},
   "source": [
    "<img src=https://developers.google.com/machine-learning/practica/image-classification/images/maxpool_animation.gif>"
   ]
  },
  {
   "cell_type": "code",
   "execution_count": 53,
   "metadata": {},
   "outputs": [],
   "source": [
    "import os\n",
    "import tensorflow as tf\n",
    "from tensorflow.keras.utils import Sequence, to_categorical"
   ]
  },
  {
   "cell_type": "code",
   "execution_count": 54,
   "metadata": {},
   "outputs": [],
   "source": [
    "from tensorflow import keras\n",
    "from tensorflow.keras.layers import GRU, Embedding, Dense, Conv1D, GlobalMaxPooling1D\n",
    "from tensorflow.keras.models import Sequential\n",
    "from tensorflow.keras.preprocessing.sequence import pad_sequences\n",
    "from tensorflow.keras.callbacks import EarlyStopping, ModelCheckpoint\n",
    "from tensorflow.keras.layers import Flatten, BatchNormalization, Input"
   ]
  },
  {
   "cell_type": "code",
   "execution_count": 55,
   "metadata": {},
   "outputs": [
    {
     "name": "stdout",
     "output_type": "stream",
     "text": [
      "Metal device set to: Apple M1\n",
      "\n",
      "systemMemory: 8.00 GB\n",
      "maxCacheSize: 2.67 GB\n",
      "\n"
     ]
    },
    {
     "name": "stderr",
     "output_type": "stream",
     "text": [
      "2022-05-26 15:12:11.679140: I tensorflow/core/common_runtime/pluggable_device/pluggable_device_factory.cc:305] Could not identify NUMA node of platform GPU ID 0, defaulting to 0. Your kernel may not have been built with NUMA support.\n",
      "2022-05-26 15:12:11.679354: I tensorflow/core/common_runtime/pluggable_device/pluggable_device_factory.cc:271] Created TensorFlow device (/job:localhost/replica:0/task:0/device:GPU:0 with 0 MB memory) -> physical PluggableDevice (device: 0, name: METAL, pci bus id: <undefined>)\n"
     ]
    }
   ],
   "source": [
    "model = tf.keras.Sequential()\n",
    "model.add(Embedding(input_dim=len(vocab)+1, output_dim=32))\n",
    "model.add(Conv1D(filters=32, kernel_size=7, padding='same', activation='relu'))\n",
    "model.add(GlobalMaxPooling1D())\n",
    "model.add(Dense(16, activation='relu'))\n",
    "# model.add(GRU(units=32, activation='relu'))\n",
    "model.add(Dense(1, activation='sigmoid'))"
   ]
  },
  {
   "cell_type": "code",
   "execution_count": 56,
   "metadata": {},
   "outputs": [
    {
     "name": "stderr",
     "output_type": "stream",
     "text": [
      "/Users/yourlogarithm/.miniforge3/envs/ml/lib/python3.8/site-packages/keras/optimizer_v2/adam.py:105: UserWarning: The `lr` argument is deprecated, use `learning_rate` instead.\n",
      "  super(Adam, self).__init__(name, **kwargs)\n"
     ]
    }
   ],
   "source": [
    "model.compile(loss='binary_crossentropy', optimizer=keras.optimizers.Adam(lr=0.001), metrics=['accuracy'])"
   ]
  },
  {
   "cell_type": "code",
   "execution_count": 57,
   "metadata": {},
   "outputs": [],
   "source": [
    "model_name = '3_test.h5'\n",
    "\n",
    "callbacks = list()\n",
    "callbacks.append(EarlyStopping(monitor='val_loss', min_delta=0, mode='auto', patience=2))\n",
    "callbacks.append(ModelCheckpoint(model_name, monitor='val_acc', save_weights_only=False, save_best_only=True, mode='max'))"
   ]
  },
  {
   "cell_type": "code",
   "execution_count": 58,
   "metadata": {},
   "outputs": [
    {
     "name": "stdout",
     "output_type": "stream",
     "text": [
      "Epoch 1/100\n"
     ]
    },
    {
     "name": "stderr",
     "output_type": "stream",
     "text": [
      "2022-05-26 15:12:11.949528: W tensorflow/core/platform/profile_utils/cpu_utils.cc:128] Failed to get CPU frequency: 0 Hz\n",
      "2022-05-26 15:12:12.184623: I tensorflow/core/grappler/optimizers/custom_graph_optimizer_registry.cc:113] Plugin optimizer for device_type GPU is enabled.\n"
     ]
    },
    {
     "name": "stdout",
     "output_type": "stream",
     "text": [
      " 998/1000 [============================>.] - ETA: 0s - loss: 0.5671 - accuracy: 0.6951"
     ]
    },
    {
     "name": "stderr",
     "output_type": "stream",
     "text": [
      "2022-05-26 15:12:26.597794: I tensorflow/core/grappler/optimizers/custom_graph_optimizer_registry.cc:113] Plugin optimizer for device_type GPU is enabled.\n"
     ]
    },
    {
     "name": "stdout",
     "output_type": "stream",
     "text": [
      "WARNING:tensorflow:Can save best model only with val_acc available, skipping.\n",
      "1000/1000 [==============================] - 15s 15ms/step - loss: 0.5671 - accuracy: 0.6952 - val_loss: 0.5248 - val_accuracy: 0.7364\n",
      "Epoch 2/100\n",
      " 999/1000 [============================>.] - ETA: 0s - loss: 0.4967 - accuracy: 0.7538WARNING:tensorflow:Can save best model only with val_acc available, skipping.\n",
      "1000/1000 [==============================] - 14s 14ms/step - loss: 0.4966 - accuracy: 0.7538 - val_loss: 0.5271 - val_accuracy: 0.7336\n",
      "Epoch 3/100\n",
      " 997/1000 [============================>.] - ETA: 0s - loss: 0.4463 - accuracy: 0.7872WARNING:tensorflow:Can save best model only with val_acc available, skipping.\n",
      "1000/1000 [==============================] - 14s 14ms/step - loss: 0.4462 - accuracy: 0.7872 - val_loss: 0.5586 - val_accuracy: 0.7261\n"
     ]
    },
    {
     "data": {
      "text/plain": [
       "<keras.callbacks.History at 0x2cc8e3e20>"
      ]
     },
     "execution_count": 58,
     "metadata": {},
     "output_type": "execute_result"
    }
   ],
   "source": [
    "model.fit(X_train, Y_train,\n",
    "        epochs=100, \n",
    "        verbose=1,\n",
    "        batch_size=64,\n",
    "        validation_split=0.2,\n",
    "        shuffle=False,\n",
    "        callbacks=callbacks,)"
   ]
  },
  {
   "cell_type": "code",
   "execution_count": 59,
   "metadata": {},
   "outputs": [
    {
     "name": "stderr",
     "output_type": "stream",
     "text": [
      "2022-05-26 15:12:55.479771: I tensorflow/core/grappler/optimizers/custom_graph_optimizer_registry.cc:113] Plugin optimizer for device_type GPU is enabled.\n"
     ]
    },
    {
     "data": {
      "text/plain": [
       "<AxesSubplot:>"
      ]
     },
     "execution_count": 59,
     "metadata": {},
     "output_type": "execute_result"
    },
    {
     "data": {
      "image/png": "[encoded data removed]",
      "text/plain": [
       "<Figure size 432x288 with 2 Axes>"
      ]
     },
     "metadata": {
      "needs_background": "light"
     },
     "output_type": "display_data"
    }
   ],
   "source": [
    "Y_pred = model.predict(X_test)\n",
    "cmat = metrics.confusion_matrix(Y_test, Y_pred.round())\n",
    "cmn = cmat.astype('float') / cmat.sum(axis=1)[:, np.newaxis]\n",
    "sns.heatmap(cmn, annot=True)"
   ]
  }
 ],
 "metadata": {
  "interpreter": {
   "hash": "19217652c784c0eb9511f8f5b096e4f8c7203998629d570e7b12322847e1aa51"
  },
  "kernelspec": {
   "display_name": "Python 3.8.13 ('ml')",
   "language": "python",
   "name": "python3"
  },
  "language_info": {
   "codemirror_mode": {
    "name": "ipython",
    "version": 3
   },
   "file_extension": ".py",
   "mimetype": "text/x-python",
   "name": "python",
   "nbconvert_exporter": "python",
   "pygments_lexer": "ipython3",
   "version": "3.8.13"
  }
 },
 "nbformat": 4,
 "nbformat_minor": 4
}
