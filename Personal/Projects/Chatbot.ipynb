{
 "cells": [
  {
   "cell_type": "code",
   "execution_count": 1,
   "metadata": {},
   "outputs": [],
   "source": [
    "import random\n",
    "import json\n",
    "import pickle\n",
    "import numpy as np\n",
    "import nltk\n",
    "from string import punctuation"
   ]
  },
  {
   "cell_type": "code",
   "execution_count": 10,
   "metadata": {},
   "outputs": [],
   "source": [
    "from nltk.stem import WordNetLemmatizer\n",
    "from sklearn.feature_extraction.text import CountVectorizer\n",
    "from tensorflow.keras.models import Sequential\n",
    "from tensorflow.keras.layers import Dense, Dropout, Activation\n",
    "from tensorflow.keras.optimizers import SGD"
   ]
  },
  {
   "cell_type": "code",
   "execution_count": 3,
   "metadata": {},
   "outputs": [],
   "source": [
    "DIR = './data/chatbot/'"
   ]
  },
  {
   "cell_type": "code",
   "execution_count": 4,
   "metadata": {},
   "outputs": [],
   "source": [
    "with open(DIR + 'intents.json') as f:\n",
    "    intents = json.loads(f.read())['intents']"
   ]
  },
  {
   "cell_type": "code",
   "execution_count": 5,
   "metadata": {},
   "outputs": [],
   "source": [
    "words = []\n",
    "documents = []\n",
    "classes = []\n",
    "\n",
    "lemmatizer = WordNetLemmatizer()\n",
    "\n",
    "for intent in intents:\n",
    "    for pattern in intent['patterns']:\n",
    "        word_list = nltk.word_tokenize(pattern)\n",
    "        words.extend(word_list)\n",
    "        documents.append((word_list, intent['tag']))\n",
    "        if intent['tag'] not in classes:\n",
    "            classes.append(intent['tag'])\n",
    "\n",
    "vocabulary = [lemmatizer.lemmatize(word) for word in words if word not in punctuation]\n",
    "vocabulary = sorted(set(words))"
   ]
  },
  {
   "cell_type": "code",
   "execution_count": 36,
   "metadata": {},
   "outputs": [
    {
     "ename": "ValueError",
     "evalue": "setting an array element with a sequence. The requested array has an inhomogeneous shape after 1 dimensions. The detected shape was (2,) + inhomogeneous part.",
     "output_type": "error",
     "traceback": [
      "\u001b[0;31m---------------------------------------------------------------------------\u001b[0m",
      "\u001b[0;31mValueError\u001b[0m                                Traceback (most recent call last)",
      "\u001b[1;32m/Users/yourlogarithm/Projects/machine-learning/Personal/Projects/Chatbot.ipynb Cell 6'\u001b[0m in \u001b[0;36m<cell line: 3>\u001b[0;34m()\u001b[0m\n\u001b[1;32m     <a href='vscode-notebook-cell:/Users/yourlogarithm/Projects/machine-learning/Personal/Projects/Chatbot.ipynb#ch0000017?line=9'>10</a>\u001b[0m     bag \u001b[39m=\u001b[39m np\u001b[39m.\u001b[39marray(bag, dtype\u001b[39m=\u001b[39mnp\u001b[39m.\u001b[39mint8)\n\u001b[1;32m     <a href='vscode-notebook-cell:/Users/yourlogarithm/Projects/machine-learning/Personal/Projects/Chatbot.ipynb#ch0000017?line=10'>11</a>\u001b[0m     binary_encoded_label \u001b[39m=\u001b[39m np\u001b[39m.\u001b[39marray([\u001b[39mint\u001b[39m(my_class \u001b[39m==\u001b[39m document[\u001b[39m1\u001b[39m]) \u001b[39mfor\u001b[39;00m my_class \u001b[39min\u001b[39;00m classes], dtype\u001b[39m=\u001b[39mnp\u001b[39m.\u001b[39mint8)\n\u001b[0;32m---> <a href='vscode-notebook-cell:/Users/yourlogarithm/Projects/machine-learning/Personal/Projects/Chatbot.ipynb#ch0000017?line=12'>13</a>\u001b[0m     training\u001b[39m.\u001b[39mappend(np\u001b[39m.\u001b[39;49marray([bag, binary_encoded_label], dtype\u001b[39m=\u001b[39;49mnp\u001b[39m.\u001b[39;49mint8))\n\u001b[1;32m     <a href='vscode-notebook-cell:/Users/yourlogarithm/Projects/machine-learning/Personal/Projects/Chatbot.ipynb#ch0000017?line=14'>15</a>\u001b[0m training \u001b[39m=\u001b[39m np\u001b[39m.\u001b[39marray(training)\n\u001b[1;32m     <a href='vscode-notebook-cell:/Users/yourlogarithm/Projects/machine-learning/Personal/Projects/Chatbot.ipynb#ch0000017?line=15'>16</a>\u001b[0m random\u001b[39m.\u001b[39mshuffle(training)\n",
      "\u001b[0;31mValueError\u001b[0m: setting an array element with a sequence. The requested array has an inhomogeneous shape after 1 dimensions. The detected shape was (2,) + inhomogeneous part."
     ]
    }
   ],
   "source": [
    "training = []\n",
    "\n",
    "for document in documents:\n",
    "    bag = []\n",
    "    text = document[0]\n",
    "    text = [lemmatizer.lemmatize(word) for word in text]\n",
    "    for word in words:\n",
    "        bag.append(1) if word in text else bag.append(0)\n",
    "\n",
    "    bag = np.array(bag, dtype=np.int8)\n",
    "    binary_encoded_label = np.array([int(my_class == document[1]) for my_class in classes], dtype=np.int8)\n",
    "\n",
    "    training.append(np.array([bag, binary_encoded_label]))\n",
    "\n",
    "training = np.array(training)\n",
    "random.shuffle(training)"
   ]
  },
  {
   "cell_type": "code",
   "execution_count": 34,
   "metadata": {},
   "outputs": [],
   "source": [
    "train_x = training[:, 0]\n",
    "train_y = training[:, 1]"
   ]
  },
  {
   "cell_type": "code",
   "execution_count": 35,
   "metadata": {},
   "outputs": [
    {
     "data": {
      "text/plain": [
       "array([array([1, 0, 0, 0, 0, 0, 0, 0, 0, 0, 0, 0, 0, 0, 0, 0, 0, 0, 0, 0, 0, 0,\n",
       "              0, 0, 0, 0, 0, 0, 0, 0, 0, 0, 0], dtype=int8)                    ,\n",
       "       array([0, 1, 0, 0, 0, 0, 0, 0, 0, 0, 0, 0, 0, 0, 0, 0, 0, 0, 0, 0, 0, 0,\n",
       "              0, 0, 0, 0, 0, 0, 0, 0, 0, 0, 0], dtype=int8)                    ,\n",
       "       array([0, 0, 1, 0, 0, 0, 0, 0, 0, 0, 0, 0, 0, 0, 0, 0, 0, 0, 0, 0, 0, 0,\n",
       "              0, 0, 0, 0, 0, 0, 0, 0, 0, 0, 0], dtype=int8)                    ,\n",
       "       array([0, 0, 0, 1, 1, 0, 0, 0, 0, 0, 1, 0, 0, 0, 0, 0, 0, 0, 0, 0, 0, 0,\n",
       "              0, 0, 0, 0, 0, 0, 0, 0, 0, 0, 0], dtype=int8)                    ,\n",
       "       array([1, 0, 0, 0, 0, 0, 0, 0, 0, 0, 0, 0, 0, 0, 0, 0, 0, 0, 0, 0, 0, 0,\n",
       "              0, 0, 0, 0, 0, 0, 0, 0, 0, 0, 0], dtype=int8)                    ,\n",
       "       array([0, 0, 0, 1, 1, 0, 0, 0, 0, 0, 1, 0, 0, 0, 0, 0, 0, 0, 0, 0, 0, 0,\n",
       "              0, 0, 0, 0, 0, 0, 0, 0, 0, 0, 0], dtype=int8)                    ,\n",
       "       array([0, 0, 0, 1, 1, 0, 0, 0, 0, 0, 1, 0, 0, 0, 0, 0, 0, 0, 0, 0, 0, 0,\n",
       "              0, 0, 0, 0, 0, 0, 0, 0, 0, 0, 0], dtype=int8)                    ,\n",
       "       array([0, 0, 0, 0, 0, 1, 0, 0, 0, 0, 0, 0, 0, 0, 0, 0, 0, 0, 0, 0, 0, 0,\n",
       "              0, 0, 0, 0, 0, 0, 0, 0, 0, 0, 0], dtype=int8)                    ,\n",
       "       array([0, 1, 0, 0, 0, 0, 0, 0, 0, 0, 0, 0, 0, 0, 0, 0, 0, 0, 0, 0, 0, 0,\n",
       "              0, 0, 0, 0, 0, 0, 0, 0, 0, 0, 0], dtype=int8)                    ,\n",
       "       array([0, 0, 1, 0, 0, 0, 0, 0, 0, 0, 0, 0, 0, 0, 0, 0, 0, 0, 0, 0, 0, 0,\n",
       "              0, 0, 0, 0, 0, 0, 0, 0, 0, 0, 0], dtype=int8)                    ,\n",
       "       array([0, 0, 0, 0, 0, 0, 0, 0, 0, 0, 0, 1, 1, 1, 1, 1, 1, 0, 0, 0, 0, 0,\n",
       "              0, 0, 0, 1, 0, 0, 0, 1, 1, 1, 0], dtype=int8)                    ,\n",
       "       array([0, 0, 1, 0, 0, 0, 0, 0, 0, 0, 0, 0, 0, 0, 0, 0, 0, 0, 0, 0, 0, 0,\n",
       "              0, 0, 0, 0, 0, 0, 0, 0, 0, 0, 0], dtype=int8)                    ,\n",
       "       array([0, 0, 0, 1, 0, 0, 0, 0, 0, 0, 1, 1, 1, 0, 0, 1, 1, 0, 0, 0, 0, 0,\n",
       "              0, 0, 0, 0, 0, 0, 0, 0, 0, 1, 0], dtype=int8)                    ],\n",
       "      dtype=object)"
      ]
     },
     "execution_count": 35,
     "metadata": {},
     "output_type": "execute_result"
    }
   ],
   "source": [
    "train_x"
   ]
  }
 ],
 "metadata": {
  "kernelspec": {
   "display_name": "Python 3.8.13 ('ml')",
   "language": "python",
   "name": "python3"
  },
  "language_info": {
   "codemirror_mode": {
    "name": "ipython",
    "version": 3
   },
   "file_extension": ".py",
   "mimetype": "text/x-python",
   "name": "python",
   "nbconvert_exporter": "python",
   "pygments_lexer": "ipython3",
   "version": "3.8.13"
  },
  "orig_nbformat": 4,
  "vscode": {
   "interpreter": {
    "hash": "19217652c784c0eb9511f8f5b096e4f8c7203998629d570e7b12322847e1aa51"
   }
  }
 },
 "nbformat": 4,
 "nbformat_minor": 2
}
