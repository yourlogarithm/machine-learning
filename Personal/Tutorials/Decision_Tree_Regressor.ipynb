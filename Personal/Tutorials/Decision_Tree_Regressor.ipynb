{
 "cells": [
  {
   "cell_type": "markdown",
   "metadata": {},
   "source": [
    "<h3><b>Import libraries</b></h3>"
   ]
  },
  {
   "cell_type": "code",
   "execution_count": 143,
   "metadata": {},
   "outputs": [],
   "source": [
    "import numpy as np\n",
    "import pandas as pd\n",
    "from IPython.display import display\n",
    "from typing import Tuple"
   ]
  },
  {
   "cell_type": "markdown",
   "metadata": {},
   "source": [
    "<h3><b>Get the data</b></h3>"
   ]
  },
  {
   "cell_type": "code",
   "execution_count": 144,
   "metadata": {},
   "outputs": [
    {
     "data": {
      "text/html": [
       "<div>\n",
       "<style scoped>\n",
       "    .dataframe tbody tr th:only-of-type {\n",
       "        vertical-align: middle;\n",
       "    }\n",
       "\n",
       "    .dataframe tbody tr th {\n",
       "        vertical-align: top;\n",
       "    }\n",
       "\n",
       "    .dataframe thead th {\n",
       "        text-align: right;\n",
       "    }\n",
       "</style>\n",
       "<table border=\"1\" class=\"dataframe\">\n",
       "  <thead>\n",
       "    <tr style=\"text-align: right;\">\n",
       "      <th></th>\n",
       "      <th>Frequency (Hz)</th>\n",
       "      <th>Angle (deg)</th>\n",
       "      <th>Chord length (m)</th>\n",
       "      <th>Free-stream velocity (m/s)</th>\n",
       "      <th>Suction side displacement thickness (m)</th>\n",
       "      <th>Scaled sound pressure level (dB)</th>\n",
       "    </tr>\n",
       "  </thead>\n",
       "  <tbody>\n",
       "    <tr>\n",
       "      <th>0</th>\n",
       "      <td>800</td>\n",
       "      <td>0.0</td>\n",
       "      <td>0.3048</td>\n",
       "      <td>71.3</td>\n",
       "      <td>0.002663</td>\n",
       "      <td>126.201</td>\n",
       "    </tr>\n",
       "    <tr>\n",
       "      <th>1</th>\n",
       "      <td>1000</td>\n",
       "      <td>0.0</td>\n",
       "      <td>0.3048</td>\n",
       "      <td>71.3</td>\n",
       "      <td>0.002663</td>\n",
       "      <td>125.201</td>\n",
       "    </tr>\n",
       "    <tr>\n",
       "      <th>2</th>\n",
       "      <td>1250</td>\n",
       "      <td>0.0</td>\n",
       "      <td>0.3048</td>\n",
       "      <td>71.3</td>\n",
       "      <td>0.002663</td>\n",
       "      <td>125.951</td>\n",
       "    </tr>\n",
       "    <tr>\n",
       "      <th>3</th>\n",
       "      <td>1600</td>\n",
       "      <td>0.0</td>\n",
       "      <td>0.3048</td>\n",
       "      <td>71.3</td>\n",
       "      <td>0.002663</td>\n",
       "      <td>127.591</td>\n",
       "    </tr>\n",
       "    <tr>\n",
       "      <th>4</th>\n",
       "      <td>2000</td>\n",
       "      <td>0.0</td>\n",
       "      <td>0.3048</td>\n",
       "      <td>71.3</td>\n",
       "      <td>0.002663</td>\n",
       "      <td>127.461</td>\n",
       "    </tr>\n",
       "    <tr>\n",
       "      <th>...</th>\n",
       "      <td>...</td>\n",
       "      <td>...</td>\n",
       "      <td>...</td>\n",
       "      <td>...</td>\n",
       "      <td>...</td>\n",
       "      <td>...</td>\n",
       "    </tr>\n",
       "    <tr>\n",
       "      <th>1498</th>\n",
       "      <td>2500</td>\n",
       "      <td>15.6</td>\n",
       "      <td>0.1016</td>\n",
       "      <td>39.6</td>\n",
       "      <td>0.052849</td>\n",
       "      <td>110.264</td>\n",
       "    </tr>\n",
       "    <tr>\n",
       "      <th>1499</th>\n",
       "      <td>3150</td>\n",
       "      <td>15.6</td>\n",
       "      <td>0.1016</td>\n",
       "      <td>39.6</td>\n",
       "      <td>0.052849</td>\n",
       "      <td>109.254</td>\n",
       "    </tr>\n",
       "    <tr>\n",
       "      <th>1500</th>\n",
       "      <td>4000</td>\n",
       "      <td>15.6</td>\n",
       "      <td>0.1016</td>\n",
       "      <td>39.6</td>\n",
       "      <td>0.052849</td>\n",
       "      <td>106.604</td>\n",
       "    </tr>\n",
       "    <tr>\n",
       "      <th>1501</th>\n",
       "      <td>5000</td>\n",
       "      <td>15.6</td>\n",
       "      <td>0.1016</td>\n",
       "      <td>39.6</td>\n",
       "      <td>0.052849</td>\n",
       "      <td>106.224</td>\n",
       "    </tr>\n",
       "    <tr>\n",
       "      <th>1502</th>\n",
       "      <td>6300</td>\n",
       "      <td>15.6</td>\n",
       "      <td>0.1016</td>\n",
       "      <td>39.6</td>\n",
       "      <td>0.052849</td>\n",
       "      <td>104.204</td>\n",
       "    </tr>\n",
       "  </tbody>\n",
       "</table>\n",
       "<p>1503 rows × 6 columns</p>\n",
       "</div>"
      ],
      "text/plain": [
       "      Frequency (Hz)  Angle (deg)  Chord length (m)  \\\n",
       "0                800          0.0            0.3048   \n",
       "1               1000          0.0            0.3048   \n",
       "2               1250          0.0            0.3048   \n",
       "3               1600          0.0            0.3048   \n",
       "4               2000          0.0            0.3048   \n",
       "...              ...          ...               ...   \n",
       "1498            2500         15.6            0.1016   \n",
       "1499            3150         15.6            0.1016   \n",
       "1500            4000         15.6            0.1016   \n",
       "1501            5000         15.6            0.1016   \n",
       "1502            6300         15.6            0.1016   \n",
       "\n",
       "      Free-stream velocity (m/s)  Suction side displacement thickness (m)  \\\n",
       "0                           71.3                                 0.002663   \n",
       "1                           71.3                                 0.002663   \n",
       "2                           71.3                                 0.002663   \n",
       "3                           71.3                                 0.002663   \n",
       "4                           71.3                                 0.002663   \n",
       "...                          ...                                      ...   \n",
       "1498                        39.6                                 0.052849   \n",
       "1499                        39.6                                 0.052849   \n",
       "1500                        39.6                                 0.052849   \n",
       "1501                        39.6                                 0.052849   \n",
       "1502                        39.6                                 0.052849   \n",
       "\n",
       "      Scaled sound pressure level (dB)  \n",
       "0                              126.201  \n",
       "1                              125.201  \n",
       "2                              125.951  \n",
       "3                              127.591  \n",
       "4                              127.461  \n",
       "...                                ...  \n",
       "1498                           110.264  \n",
       "1499                           109.254  \n",
       "1500                           106.604  \n",
       "1501                           106.224  \n",
       "1502                           104.204  \n",
       "\n",
       "[1503 rows x 6 columns]"
      ]
     },
     "metadata": {},
     "output_type": "display_data"
    }
   ],
   "source": [
    "dataset = pd.read_csv('airfoil_self_noise.dat', sep='\\s+', header=None)\n",
    "dataset.rename(columns={\n",
    "    0: 'Frequency (Hz)', \n",
    "    1: 'Angle (deg)', \n",
    "    2: 'Chord length (m)', \n",
    "    3: 'Free-stream velocity (m/s)', \n",
    "    4: 'Suction side displacement thickness (m)',\n",
    "    5: 'Scaled sound pressure level (dB)'\n",
    "}, inplace=True)\n",
    "display(dataset)"
   ]
  },
  {
   "cell_type": "markdown",
   "metadata": {},
   "source": [
    "<h3><b>Node class</b></h3>"
   ]
  },
  {
   "cell_type": "code",
   "execution_count": 145,
   "metadata": {},
   "outputs": [],
   "source": [
    "class Node():\n",
    "    def __init__(self, featureIndex=None, threshold=None, left=None, right=None, varRed=None, value=None):\n",
    "        # for decision node\n",
    "        self.featureIndex = featureIndex\n",
    "        self.threshold = threshold\n",
    "        self.left = left\n",
    "        self.right = right\n",
    "        self.varRed = varRed\n",
    "        \n",
    "        # for leaf node\n",
    "        self.value = value"
   ]
  },
  {
   "cell_type": "markdown",
   "metadata": {},
   "source": [
    "<h3><b>Split class</b></h3>"
   ]
  },
  {
   "cell_type": "code",
   "execution_count": 146,
   "metadata": {},
   "outputs": [],
   "source": [
    "class Split:\n",
    "    def __init__(self, featureIndex: int, threshold: float, datasetLeft: Node, datasetRight: Node, varRed: float):\n",
    "        self.featureIndex = featureIndex\n",
    "        self.threshold = threshold\n",
    "        self.datasetLeft = datasetLeft\n",
    "        self.datasetRight = datasetRight\n",
    "        self.varRed = varRed"
   ]
  },
  {
   "cell_type": "markdown",
   "metadata": {},
   "source": [
    "<h3><b>Tree class</b></h3>"
   ]
  },
  {
   "cell_type": "code",
   "execution_count": 147,
   "metadata": {},
   "outputs": [],
   "source": [
    "class DecisionTreeRegressor:\n",
    "    def __init__(self, minSamplesSplit=2, maxDepth=2) -> None:\n",
    "        self.root = None\n",
    "        self.minSamplesSplit = minSamplesSplit\n",
    "        self.maxDepth = maxDepth\n",
    "\n",
    "    def buildTree(self, dataset, currDepth=0) -> Node:\n",
    "        x, y = dataset[:, :-1], dataset[:, -1]\n",
    "        numSamples, numFeatures = np.shape(x)\n",
    "        bestSplit: Split = None\n",
    "\n",
    "        if numSamples >= self.minSamplesSplit and currDepth < self.maxDepth:\n",
    "            bestSplit = self.getBestSplit(dataset, numFeatures)\n",
    "            if bestSplit.varRed > 0:\n",
    "                leftSubtree = self.buildTree(bestSplit.datasetLeft, currDepth+1)\n",
    "                rightSubtree = self.buildTree(bestSplit.datasetRight, currDepth+1)\n",
    "                return Node(bestSplit.featureIndex, bestSplit.threshold, leftSubtree, rightSubtree, bestSplit.varRed)\n",
    "\n",
    "        leafValue = self.calcLeafValue(y)\n",
    "        return Node(value=leafValue)\n",
    "\n",
    "    def getBestSplit(self, dataset, numFeatures) -> Split:\n",
    "        bestSplit: Split = None\n",
    "        maxVarRed = -float('inf')\n",
    "\n",
    "        for featureIndex in range(numFeatures):\n",
    "            featureValues = dataset[:, featureIndex]\n",
    "            possibleThresholds = np.unique(featureValues)\n",
    "\n",
    "            for threshold in possibleThresholds:\n",
    "                datasetLeft, datasetRight = self.split(dataset, featureIndex, threshold)\n",
    "                if len(datasetLeft) > 0 and len(datasetRight) > 0:\n",
    "                    y, leftY, rightY = dataset[:, -1], datasetLeft[:, -1], datasetRight[:, -1]\n",
    "                    currVarRed = self.varRed(y, leftY, rightY)\n",
    "                    if currVarRed > maxVarRed:\n",
    "                        bestSplit = Split(featureIndex, threshold, datasetLeft, datasetRight, currVarRed)\n",
    "                        maxVarRed = currVarRed\n",
    "\n",
    "        return bestSplit\n",
    "\n",
    "    def split(self, dataset, featureIndex, threshold) -> Tuple[np.ndarray, np.ndarray]:\n",
    "        datasetLeft = np.array([row for row in dataset if row[featureIndex] <= threshold])\n",
    "        datasetRight = np.array([row for row in dataset if row[featureIndex] > threshold])\n",
    "        return datasetLeft, datasetRight\n",
    "\n",
    "    def varRed(self, parent, lChild, rChild) -> float:\n",
    "        weightL = len(lChild) / len(parent)\n",
    "        weightR = len(rChild) / len(parent)\n",
    "\n",
    "        return np.var(parent) - (weightL * np.var(lChild) + weightR * np.var(rChild))\n",
    "\n",
    "    def calcLeafValue(self, y):\n",
    "        return np.mean(y)\n",
    "\n",
    "    def printTree(self, node: Node=None, indent=\" \", columns=None) -> None:\n",
    "        if not node: node = self.root\n",
    "\n",
    "        if node.value is not None: \n",
    "            print(node.value)\n",
    "        else:\n",
    "            print(f' {columns[node.featureIndex] if columns.size else node.featureIndex}', \"<=\", node.threshold, \"?\", node.varRed)\n",
    "            print(\"%sLeft:\" % (indent), end=\"\")\n",
    "            self.printTree(node.left, indent + indent, columns)\n",
    "            print(\"%sRight:\" % (indent), end=\"\")\n",
    "            self.printTree(node.right, indent + indent, columns)\n",
    "\n",
    "    def fit(self, x, y) -> None:\n",
    "        dataset = np.concatenate((x, y), axis=1)\n",
    "        self.root = self.buildTree(dataset)\n",
    "\n",
    "    def make_prediction(self, x, node: Node) -> float:\n",
    "        ''' function to predict new dataset '''\n",
    "        \n",
    "        if node.value != None: return node.value\n",
    "\n",
    "        featureVal = x[node.featureIndex]\n",
    "        if featureVal <= node.threshold:\n",
    "            return self.make_prediction(x, node.left)\n",
    "        return self.make_prediction(x, node.right)\n",
    "    \n",
    "    def predict(self, X):\n",
    "        ''' function to predict a single data point '''\n",
    "        \n",
    "        return [self.make_prediction(x, self.root) for x in X]"
   ]
  },
  {
   "cell_type": "markdown",
   "metadata": {},
   "source": [
    "<h3><b>Train-Test Split</b></h3>"
   ]
  },
  {
   "cell_type": "code",
   "execution_count": 148,
   "metadata": {},
   "outputs": [],
   "source": [
    "X = dataset.iloc[:, :-1].values\n",
    "Y = dataset.iloc[:, -1].values.reshape(-1,1)\n",
    "from sklearn.model_selection import train_test_split\n",
    "X_train, X_test, Y_train, Y_test = train_test_split(X, Y, test_size=.2, random_state=41)"
   ]
  },
  {
   "cell_type": "markdown",
   "metadata": {},
   "source": [
    "<h3><b>Fit the model</b></h3>"
   ]
  },
  {
   "cell_type": "code",
   "execution_count": 149,
   "metadata": {},
   "outputs": [
    {
     "name": "stdout",
     "output_type": "stream",
     "text": [
      " Frequency (Hz) <= 3150.0 ? 7.132048702017748\n",
      " Left: Suction side displacement thickness (m) <= 0.0337792 ? 3.590330569067664\n",
      "  Left: Free-stream velocity (m/s) <= 55.5 ? 1.17898999813184\n",
      "    Left:126.57842133815551\n",
      "    Right:128.95809913793101\n",
      "  Right: Frequency (Hz) <= 1250.0 ? 9.970884020498868\n",
      "    Left:123.0391029411765\n",
      "    Right:115.91672\n",
      " Right: Suction side displacement thickness (m) <= 0.00146332 ? 29.08299210506528\n",
      "  Left: Frequency (Hz) <= 8000.0 ? 11.886497073996964\n",
      "    Left:132.59594117647057\n",
      "    Right:125.45646666666667\n",
      "  Right: Suction side displacement thickness (m) <= 0.0229028 ? 5.638575922510643\n",
      "    Left:118.47146634615386\n",
      "    Right:111.70868571428572\n"
     ]
    }
   ],
   "source": [
    "regressor = DecisionTreeRegressor(minSamplesSplit=3, maxDepth=3)\n",
    "regressor.fit(X_train,Y_train)\n",
    "regressor.printTree(columns=dataset.columns.values)"
   ]
  },
  {
   "cell_type": "markdown",
   "metadata": {},
   "source": [
    "<h3><b>Test the model</b></h3>"
   ]
  },
  {
   "cell_type": "code",
   "execution_count": 150,
   "metadata": {},
   "outputs": [
    {
     "data": {
      "text/plain": [
       "5.376979589924688"
      ]
     },
     "execution_count": 150,
     "metadata": {},
     "output_type": "execute_result"
    }
   ],
   "source": [
    "Y_pred = regressor.predict(X_test)\n",
    "from sklearn.metrics import mean_squared_error\n",
    "np.sqrt(mean_squared_error(Y_test, Y_pred))"
   ]
  }
 ],
 "metadata": {
  "interpreter": {
   "hash": "c0c73270b7e48d17434d8fb6eff66b41753ab5c9f80865f92e302e6c7f43e466"
  },
  "kernelspec": {
   "display_name": "Python 3.10.4 ('mlbitdefender')",
   "language": "python",
   "name": "python3"
  },
  "language_info": {
   "name": "python",
   "version": "3.10.4"
  },
  "orig_nbformat": 4
 },
 "nbformat": 4,
 "nbformat_minor": 2
}
