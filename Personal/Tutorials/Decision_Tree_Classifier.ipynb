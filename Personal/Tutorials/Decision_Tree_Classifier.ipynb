{
 "cells": [
  {
   "cell_type": "markdown",
   "metadata": {},
   "source": [
    "__[Video Tutorial](https://www.youtube.com/watch?v=sgQAhG5Q7iY&list=PLM8wYQRetTxAl5FpMIJCcJbfZjSB0IeC_&index=2)__"
   ]
  },
  {
   "cell_type": "markdown",
   "metadata": {},
   "source": [
    "<b>Import tools</b>"
   ]
  },
  {
   "cell_type": "code",
   "execution_count": 170,
   "metadata": {},
   "outputs": [],
   "source": [
    "import numpy as np\n",
    "import pandas as pd\n",
    "from sklearn.datasets import load_iris\n",
    "from IPython.display import display"
   ]
  },
  {
   "cell_type": "code",
   "execution_count": 171,
   "metadata": {},
   "outputs": [
    {
     "data": {
      "text/html": [
       "<div>\n",
       "<style scoped>\n",
       "    .dataframe tbody tr th:only-of-type {\n",
       "        vertical-align: middle;\n",
       "    }\n",
       "\n",
       "    .dataframe tbody tr th {\n",
       "        vertical-align: top;\n",
       "    }\n",
       "\n",
       "    .dataframe thead th {\n",
       "        text-align: right;\n",
       "    }\n",
       "</style>\n",
       "<table border=\"1\" class=\"dataframe\">\n",
       "  <thead>\n",
       "    <tr style=\"text-align: right;\">\n",
       "      <th></th>\n",
       "      <th>sepal length (cm)</th>\n",
       "      <th>sepal width (cm)</th>\n",
       "      <th>petal length (cm)</th>\n",
       "      <th>petal width (cm)</th>\n",
       "      <th>target</th>\n",
       "    </tr>\n",
       "  </thead>\n",
       "  <tbody>\n",
       "    <tr>\n",
       "      <th>0</th>\n",
       "      <td>5.1</td>\n",
       "      <td>3.5</td>\n",
       "      <td>1.4</td>\n",
       "      <td>0.2</td>\n",
       "      <td>0</td>\n",
       "    </tr>\n",
       "    <tr>\n",
       "      <th>1</th>\n",
       "      <td>4.9</td>\n",
       "      <td>3.0</td>\n",
       "      <td>1.4</td>\n",
       "      <td>0.2</td>\n",
       "      <td>0</td>\n",
       "    </tr>\n",
       "    <tr>\n",
       "      <th>2</th>\n",
       "      <td>4.7</td>\n",
       "      <td>3.2</td>\n",
       "      <td>1.3</td>\n",
       "      <td>0.2</td>\n",
       "      <td>0</td>\n",
       "    </tr>\n",
       "    <tr>\n",
       "      <th>3</th>\n",
       "      <td>4.6</td>\n",
       "      <td>3.1</td>\n",
       "      <td>1.5</td>\n",
       "      <td>0.2</td>\n",
       "      <td>0</td>\n",
       "    </tr>\n",
       "    <tr>\n",
       "      <th>4</th>\n",
       "      <td>5.0</td>\n",
       "      <td>3.6</td>\n",
       "      <td>1.4</td>\n",
       "      <td>0.2</td>\n",
       "      <td>0</td>\n",
       "    </tr>\n",
       "    <tr>\n",
       "      <th>...</th>\n",
       "      <td>...</td>\n",
       "      <td>...</td>\n",
       "      <td>...</td>\n",
       "      <td>...</td>\n",
       "      <td>...</td>\n",
       "    </tr>\n",
       "    <tr>\n",
       "      <th>145</th>\n",
       "      <td>6.7</td>\n",
       "      <td>3.0</td>\n",
       "      <td>5.2</td>\n",
       "      <td>2.3</td>\n",
       "      <td>2</td>\n",
       "    </tr>\n",
       "    <tr>\n",
       "      <th>146</th>\n",
       "      <td>6.3</td>\n",
       "      <td>2.5</td>\n",
       "      <td>5.0</td>\n",
       "      <td>1.9</td>\n",
       "      <td>2</td>\n",
       "    </tr>\n",
       "    <tr>\n",
       "      <th>147</th>\n",
       "      <td>6.5</td>\n",
       "      <td>3.0</td>\n",
       "      <td>5.2</td>\n",
       "      <td>2.0</td>\n",
       "      <td>2</td>\n",
       "    </tr>\n",
       "    <tr>\n",
       "      <th>148</th>\n",
       "      <td>6.2</td>\n",
       "      <td>3.4</td>\n",
       "      <td>5.4</td>\n",
       "      <td>2.3</td>\n",
       "      <td>2</td>\n",
       "    </tr>\n",
       "    <tr>\n",
       "      <th>149</th>\n",
       "      <td>5.9</td>\n",
       "      <td>3.0</td>\n",
       "      <td>5.1</td>\n",
       "      <td>1.8</td>\n",
       "      <td>2</td>\n",
       "    </tr>\n",
       "  </tbody>\n",
       "</table>\n",
       "<p>150 rows × 5 columns</p>\n",
       "</div>"
      ],
      "text/plain": [
       "     sepal length (cm)  sepal width (cm)  petal length (cm)  petal width (cm)  \\\n",
       "0                  5.1               3.5                1.4               0.2   \n",
       "1                  4.9               3.0                1.4               0.2   \n",
       "2                  4.7               3.2                1.3               0.2   \n",
       "3                  4.6               3.1                1.5               0.2   \n",
       "4                  5.0               3.6                1.4               0.2   \n",
       "..                 ...               ...                ...               ...   \n",
       "145                6.7               3.0                5.2               2.3   \n",
       "146                6.3               2.5                5.0               1.9   \n",
       "147                6.5               3.0                5.2               2.0   \n",
       "148                6.2               3.4                5.4               2.3   \n",
       "149                5.9               3.0                5.1               1.8   \n",
       "\n",
       "     target  \n",
       "0         0  \n",
       "1         0  \n",
       "2         0  \n",
       "3         0  \n",
       "4         0  \n",
       "..      ...  \n",
       "145       2  \n",
       "146       2  \n",
       "147       2  \n",
       "148       2  \n",
       "149       2  \n",
       "\n",
       "[150 rows x 5 columns]"
      ]
     },
     "metadata": {},
     "output_type": "display_data"
    }
   ],
   "source": [
    "iris = load_iris()\n",
    "dataset = pd.DataFrame(iris.data, columns=iris.feature_names)\n",
    "\n",
    "dataset['target'] = iris.target\n",
    "display(dataset)"
   ]
  },
  {
   "cell_type": "markdown",
   "metadata": {},
   "source": [
    "<b>Node Class</b>"
   ]
  },
  {
   "cell_type": "code",
   "execution_count": 172,
   "metadata": {},
   "outputs": [],
   "source": [
    "class Node:\n",
    "    def __init__(self, featureIndex=None, threshold=None, left=None, right=None, infoGain=None, value=None):\n",
    "\n",
    "        # For decision node\n",
    "        self.featureIndex = featureIndex\n",
    "        self.threshold = threshold\n",
    "        self.left = left\n",
    "        self.right = right\n",
    "        self.infoGain = infoGain\n",
    "\n",
    "        # For leaf node\n",
    "        self.value = value"
   ]
  },
  {
   "cell_type": "code",
   "execution_count": 173,
   "metadata": {},
   "outputs": [],
   "source": [
    "class Split:\n",
    "    def __init__(self, featureIndex: int, threshold: float, datasetLeft: Node, datasetRight: Node, infoGain: float):\n",
    "        self.featureIndex = featureIndex\n",
    "        self.threshold = threshold\n",
    "        self.datasetLeft = datasetLeft\n",
    "        self.datasetRight = datasetRight\n",
    "        self.infoGain = infoGain"
   ]
  },
  {
   "cell_type": "code",
   "execution_count": 174,
   "metadata": {},
   "outputs": [],
   "source": [
    "class DecisionTreeClassifier:\n",
    "    def __init__(self, minSamplesSplit=2, maxDepth=2) -> Node:\n",
    "        self.root = None\n",
    "        self.minSamplesSplit = minSamplesSplit\n",
    "        self.maxDepth = maxDepth\n",
    "\n",
    "    def buildTree(self, dataset, currDepth=0):\n",
    "        x, y = dataset[:, :-1], dataset[:, -1]\n",
    "        numSamples, numFeatures = np.shape(x)\n",
    "\n",
    "        if numSamples >= self.minSamplesSplit and currDepth <= self.maxDepth:\n",
    "            bestSplit: Split = self.getBestSplit(dataset, numFeatures)\n",
    "            if bestSplit.infoGain > 0:\n",
    "                left = self.buildTree(bestSplit.datasetLeft, currDepth+1)\n",
    "                right = self.buildTree(bestSplit.datasetRight, currDepth+1)\n",
    "                return Node(bestSplit.featureIndex, bestSplit.threshold, left, right, bestSplit.infoGain)\n",
    "        \n",
    "        leafValue = self.calcLeafValue(y)\n",
    "        return Node(value=leafValue)\n",
    "\n",
    "    def getBestSplit(self, dataset, numFeatures) -> Split:\n",
    "        bestSplit: Split = None\n",
    "        maxInfoGain = -float('inf')\n",
    "\n",
    "        for featureIndex in range(numFeatures):\n",
    "            featureValues = dataset[:, featureIndex]\n",
    "            possibleThresholds = np.unique(featureValues)\n",
    "            \n",
    "            for treshhold in possibleThresholds:\n",
    "                datasetLeft, datasetRight = self.split(dataset, featureIndex, treshhold)\n",
    "                if len(datasetLeft) > 0 and len(datasetRight) > 0:\n",
    "                    y, left_y, right_y = dataset[:, -1], datasetLeft[:, -1], datasetRight[:, -1]\n",
    "                    currInfoGain = self.calcInfoGain(y, left_y, right_y, \"gini\")\n",
    "                    if currInfoGain > maxInfoGain:\n",
    "                        bestSplit = Split(featureIndex, treshhold, datasetLeft, datasetRight, currInfoGain)\n",
    "                        maxInfoGain = currInfoGain\n",
    "\n",
    "        return bestSplit\n",
    "\n",
    "    def split(self, dataset, featureIndex, threshold):\n",
    "        datasetLeft = np.array([row for row in dataset if row[featureIndex] <= threshold])\n",
    "        datasetRight = np.array([row for row in dataset if row[featureIndex] > threshold])\n",
    "        return datasetLeft, datasetRight\n",
    "\n",
    "    def calcInfoGain(self, parent, lChild, rChild, mode=\"entropy\"):\n",
    "        weightL = len(lChild) / len(parent)\n",
    "        weightR = len(rChild) / len(parent)\n",
    "\n",
    "        if mode == \"gini\":\n",
    "            return self.gini(parent) - (weightL * self.gini(lChild) + weightR * self.gini(rChild))\n",
    "        \n",
    "        return self.entropy(parent) - (weightL * self.entropy(lChild) + weightR * self.entropy(rChild))\n",
    "\n",
    "    def entropy(self, y):\n",
    "        typeLabels = np.unique(y)\n",
    "        entropy = 0\n",
    "\n",
    "        for typeLabel in typeLabels:\n",
    "            pType = len(y[y == typeLabel]) / len(y)\n",
    "            entropy += -pType * np.log2(pType)\n",
    "        \n",
    "        return entropy\n",
    "\n",
    "    def gini(self, y):\n",
    "        typeLabels = np.unique(y)\n",
    "        gini = 0\n",
    "\n",
    "        for typeLabel in typeLabels:\n",
    "            pType = len(y[y == typeLabel]) / len(y)\n",
    "            gini += pType ** 2\n",
    "        \n",
    "        return 1 - gini\n",
    "\n",
    "    def calcLeafValue(self, y):\n",
    "        y = list(y)\n",
    "        return max(y, key=y.count)\n",
    "\n",
    "    def printTree(self, node=None, indent=\" \", columns=None) -> None:\n",
    "        if not node: node = self.root\n",
    "\n",
    "        if node.value is not None: \n",
    "            print(node.value)\n",
    "        else:\n",
    "            print(\"X_\"+str(columns[node.featureIndex] if columns.size else node.featureIndex), \"<=\", node.threshold, \"?\", node.infoGain)\n",
    "            print(\"%sleft:\" % (indent), end=\"\")\n",
    "            self.printTree(node.left, indent + indent, columns)\n",
    "            print(\"%sright:\" % (indent), end=\"\")\n",
    "            self.printTree(node.right, indent + indent, columns)\n",
    "        \n",
    "    def fit(self, x, y):\n",
    "        dataset = np.concatenate((x, y), axis=1)\n",
    "        self.root = self.buildTree(dataset)\n",
    "\n",
    "    def predict(self, x):\n",
    "        return [self.makePrediction(row, self.root) for row in x]\n",
    "\n",
    "    def makePrediction(self, x, node: Node):\n",
    "        if node.value != None: return node.value\n",
    "\n",
    "        featureVal = x[node.featureIndex]\n",
    "\n",
    "        if featureVal <= node.threshold:\n",
    "            return self.makePrediction(x, node.left)\n",
    "        return self.makePrediction(x, node.right)\n",
    "        "
   ]
  },
  {
   "cell_type": "markdown",
   "metadata": {},
   "source": [
    "<b>Train-test split</b>"
   ]
  },
  {
   "cell_type": "code",
   "execution_count": 175,
   "metadata": {},
   "outputs": [],
   "source": [
    "x = dataset.iloc[:, :-1].values\n",
    "y = dataset.iloc[:, -1].values.reshape(-1, 1)\n",
    "from sklearn.model_selection import train_test_split\n",
    "x_train, x_test, y_train, y_test = train_test_split(x, y, test_size=.2, random_state=41)"
   ]
  },
  {
   "cell_type": "markdown",
   "metadata": {},
   "source": [
    "<b>Fit the model</b>"
   ]
  },
  {
   "cell_type": "code",
   "execution_count": 176,
   "metadata": {},
   "outputs": [
    {
     "name": "stdout",
     "output_type": "stream",
     "text": [
      "X_petal length (cm) <= 1.9 ? 0.33741385372714494\n",
      " left:0.0\n",
      " right:X_petal width (cm) <= 1.5 ? 0.427106638180289\n",
      "  left:X_petal length (cm) <= 4.9 ? 0.05124653739612173\n",
      "    left:1.0\n",
      "    right:2.0\n",
      "  right:X_petal length (cm) <= 5.0 ? 0.019631171921475288\n",
      "    left:X_sepal width (cm) <= 2.8 ? 0.20833333333333334\n",
      "        left:2.0\n",
      "        right:1.0\n",
      "    right:2.0\n"
     ]
    }
   ],
   "source": [
    "classifier = DecisionTreeClassifier(minSamplesSplit=3, maxDepth=3)\n",
    "classifier.fit(x_train, y_train)\n",
    "classifier.printTree(columns=dataset.columns.values)"
   ]
  },
  {
   "cell_type": "markdown",
   "metadata": {},
   "source": [
    "<b>Test the model</b>"
   ]
  },
  {
   "cell_type": "code",
   "execution_count": 179,
   "metadata": {},
   "outputs": [
    {
     "data": {
      "text/plain": [
       "0.9333333333333333"
      ]
     },
     "execution_count": 179,
     "metadata": {},
     "output_type": "execute_result"
    }
   ],
   "source": [
    "yPred = classifier.predict(x_test)\n",
    "from sklearn.metrics import accuracy_score\n",
    "accuracy_score(y_test, yPred)"
   ]
  }
 ],
 "metadata": {
  "interpreter": {
   "hash": "c0c73270b7e48d17434d8fb6eff66b41753ab5c9f80865f92e302e6c7f43e466"
  },
  "kernelspec": {
   "display_name": "Python 3.10.4 ('mlbitdefender')",
   "language": "python",
   "name": "python3"
  },
  "language_info": {
   "codemirror_mode": {
    "name": "ipython",
    "version": 3
   },
   "file_extension": ".py",
   "mimetype": "text/x-python",
   "name": "python",
   "nbconvert_exporter": "python",
   "pygments_lexer": "ipython3",
   "version": "3.10.4"
  },
  "orig_nbformat": 4
 },
 "nbformat": 4,
 "nbformat_minor": 2
}
